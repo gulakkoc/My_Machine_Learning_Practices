{
 "cells": [
  {
   "cell_type": "markdown",
   "id": "f24293f9",
   "metadata": {},
   "source": [
    "<br>"
   ]
  },
  {
   "cell_type": "markdown",
   "id": "b6a89bf3",
   "metadata": {},
   "source": [
    "<br>"
   ]
  },
  {
   "cell_type": "markdown",
   "id": "c1d41051",
   "metadata": {},
   "source": [
    "# Machine Learning"
   ]
  },
  {
   "cell_type": "markdown",
   "id": "8fd181b3",
   "metadata": {},
   "source": [
    "---"
   ]
  },
  {
   "cell_type": "markdown",
   "id": "ace123fd",
   "metadata": {},
   "source": [
    "## Introduction to Machine Learning"
   ]
  },
  {
   "cell_type": "markdown",
   "id": "6116560e",
   "metadata": {},
   "source": [
    "<br>"
   ]
  },
  {
   "cell_type": "markdown",
   "id": "5c964228",
   "metadata": {},
   "source": [
    "- Machine learning is a data analytics technique, getting computers to learn and also act like a human. \n",
    "- Machine learning algorithms use computational methods to “learn” by feeding data and information. \n",
    "- Briefly, the main basis of machine learning is to create algorithms that can process its data and to predict the result using statistical analysis."
   ]
  },
  {
   "cell_type": "markdown",
   "id": "044ce5e6",
   "metadata": {},
   "source": [
    "### Supervised vs Unsupervised Algorithms"
   ]
  },
  {
   "cell_type": "markdown",
   "id": "422589a7",
   "metadata": {},
   "source": [
    " **Supervised Learning :** \n",
    "      "
   ]
  },
  {
   "cell_type": "markdown",
   "id": "da259188",
   "metadata": {},
   "source": [
    "- In this model we will be supervising a machine learning model.\n",
    "- We teach the model, then with that knowledge it can predict unknown or future instances."
   ]
  },
  {
   "cell_type": "markdown",
   "id": "9197da89",
   "metadata": {},
   "source": [
    "*--> How do we teach the model ?*"
   ]
  },
  {
   "cell_type": "markdown",
   "id": "dd168c00",
   "metadata": {},
   "source": [
    "- We teach the model by training it with some data from labeled dataset.\n",
    "- It is important that data is labeled."
   ]
  },
  {
   "cell_type": "markdown",
   "id": "1b2b88fb",
   "metadata": {},
   "source": [
    "When dealing with machine learning, the most commonly used data is numeric, the second is categorical."
   ]
  },
  {
   "cell_type": "markdown",
   "id": "cac3e30e",
   "metadata": {},
   "source": [
    "**There are two types of supervised learning :*"
   ]
  },
  {
   "cell_type": "markdown",
   "id": "7e54742f",
   "metadata": {},
   "source": [
    "1. Classification\n",
    "2. Regression"
   ]
  },
  {
   "cell_type": "markdown",
   "id": "ce38996a",
   "metadata": {},
   "source": [
    "- Classification is the process of predicting discrete class labels or categories.\n",
    "- Regression is the process of predicting continuous values."
   ]
  },
  {
   "cell_type": "markdown",
   "id": "e80f91c7",
   "metadata": {},
   "source": [
    "<br>"
   ]
  },
  {
   "cell_type": "markdown",
   "id": "75b29d72",
   "metadata": {},
   "source": [
    " **Unsupervised Learning :** "
   ]
  },
  {
   "cell_type": "markdown",
   "id": "546b4325",
   "metadata": {},
   "source": [
    "In unsupervised model, we do not supervise the model, but we let the model work on its own to discover the information that may not be visible to the human eye."
   ]
  },
  {
   "cell_type": "markdown",
   "id": "f86ad882",
   "metadata": {},
   "source": [
    "Unsupervised learning has more difficult algorithms then supervised learning and the data it unlabeled."
   ]
  },
  {
   "cell_type": "markdown",
   "id": "861a267b",
   "metadata": {},
   "source": [
    "- **Clustering is one of the most popular unsupervised machine learning techniques used for grouping data points or objects. Such as segmentation the costomers of a bank**"
   ]
  },
  {
   "cell_type": "markdown",
   "id": "90c65f01",
   "metadata": {},
   "source": [
    "<br>"
   ]
  },
  {
   "cell_type": "markdown",
   "id": "335a1303",
   "metadata": {},
   "source": [
    "---"
   ]
  }
 ],
 "metadata": {
  "kernelspec": {
   "display_name": "Python 3",
   "language": "python",
   "name": "python3"
  },
  "language_info": {
   "codemirror_mode": {
    "name": "ipython",
    "version": 3
   },
   "file_extension": ".py",
   "mimetype": "text/x-python",
   "name": "python",
   "nbconvert_exporter": "python",
   "pygments_lexer": "ipython3",
   "version": "3.8.8"
  }
 },
 "nbformat": 4,
 "nbformat_minor": 5
}
