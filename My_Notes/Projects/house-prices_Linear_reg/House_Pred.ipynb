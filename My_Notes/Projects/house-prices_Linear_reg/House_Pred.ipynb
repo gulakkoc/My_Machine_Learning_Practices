{
 "cells": [
  {
   "cell_type": "markdown",
   "id": "73ae93b3",
   "metadata": {},
   "source": [
    "<br>"
   ]
  },
  {
   "cell_type": "code",
   "execution_count": 1,
   "id": "66af5be2",
   "metadata": {},
   "outputs": [],
   "source": [
    "import numpy as np\n",
    "import pandas as pd\n",
    "\n",
    "import matplotlib.pyplot as plt\n",
    "import seaborn as sns\n",
    "\n",
    "import scipy.stats as stats\n",
    "\n",
    "from sklearn.model_selection import train_test_split\n",
    "import sklearn.metrics\n",
    "from sklearn.linear_model import LinearRegression\n",
    "\n",
    "import warnings\n",
    "warnings.filterwarnings('ignore')"
   ]
  },
  {
   "cell_type": "code",
   "execution_count": 2,
   "id": "dbf36f6e",
   "metadata": {},
   "outputs": [],
   "source": [
    "train = pd.read_csv('train.csv')\n",
    "test = pd.read_csv('test.csv')"
   ]
  },
  {
   "cell_type": "code",
   "execution_count": 3,
   "id": "4a4d2bea",
   "metadata": {},
   "outputs": [
    {
     "data": {
      "text/html": [
       "<div>\n",
       "<style scoped>\n",
       "    .dataframe tbody tr th:only-of-type {\n",
       "        vertical-align: middle;\n",
       "    }\n",
       "\n",
       "    .dataframe tbody tr th {\n",
       "        vertical-align: top;\n",
       "    }\n",
       "\n",
       "    .dataframe thead th {\n",
       "        text-align: right;\n",
       "    }\n",
       "</style>\n",
       "<table border=\"1\" class=\"dataframe\">\n",
       "  <thead>\n",
       "    <tr style=\"text-align: right;\">\n",
       "      <th></th>\n",
       "      <th>Id</th>\n",
       "      <th>MSSubClass</th>\n",
       "      <th>MSZoning</th>\n",
       "      <th>LotFrontage</th>\n",
       "      <th>LotArea</th>\n",
       "      <th>Street</th>\n",
       "      <th>Alley</th>\n",
       "      <th>LotShape</th>\n",
       "      <th>LandContour</th>\n",
       "      <th>Utilities</th>\n",
       "      <th>...</th>\n",
       "      <th>PoolArea</th>\n",
       "      <th>PoolQC</th>\n",
       "      <th>Fence</th>\n",
       "      <th>MiscFeature</th>\n",
       "      <th>MiscVal</th>\n",
       "      <th>MoSold</th>\n",
       "      <th>YrSold</th>\n",
       "      <th>SaleType</th>\n",
       "      <th>SaleCondition</th>\n",
       "      <th>SalePrice</th>\n",
       "    </tr>\n",
       "  </thead>\n",
       "  <tbody>\n",
       "    <tr>\n",
       "      <th>0</th>\n",
       "      <td>1</td>\n",
       "      <td>60</td>\n",
       "      <td>RL</td>\n",
       "      <td>65.0</td>\n",
       "      <td>8450</td>\n",
       "      <td>Pave</td>\n",
       "      <td>NaN</td>\n",
       "      <td>Reg</td>\n",
       "      <td>Lvl</td>\n",
       "      <td>AllPub</td>\n",
       "      <td>...</td>\n",
       "      <td>0</td>\n",
       "      <td>NaN</td>\n",
       "      <td>NaN</td>\n",
       "      <td>NaN</td>\n",
       "      <td>0</td>\n",
       "      <td>2</td>\n",
       "      <td>2008</td>\n",
       "      <td>WD</td>\n",
       "      <td>Normal</td>\n",
       "      <td>208500</td>\n",
       "    </tr>\n",
       "    <tr>\n",
       "      <th>1</th>\n",
       "      <td>2</td>\n",
       "      <td>20</td>\n",
       "      <td>RL</td>\n",
       "      <td>80.0</td>\n",
       "      <td>9600</td>\n",
       "      <td>Pave</td>\n",
       "      <td>NaN</td>\n",
       "      <td>Reg</td>\n",
       "      <td>Lvl</td>\n",
       "      <td>AllPub</td>\n",
       "      <td>...</td>\n",
       "      <td>0</td>\n",
       "      <td>NaN</td>\n",
       "      <td>NaN</td>\n",
       "      <td>NaN</td>\n",
       "      <td>0</td>\n",
       "      <td>5</td>\n",
       "      <td>2007</td>\n",
       "      <td>WD</td>\n",
       "      <td>Normal</td>\n",
       "      <td>181500</td>\n",
       "    </tr>\n",
       "    <tr>\n",
       "      <th>2</th>\n",
       "      <td>3</td>\n",
       "      <td>60</td>\n",
       "      <td>RL</td>\n",
       "      <td>68.0</td>\n",
       "      <td>11250</td>\n",
       "      <td>Pave</td>\n",
       "      <td>NaN</td>\n",
       "      <td>IR1</td>\n",
       "      <td>Lvl</td>\n",
       "      <td>AllPub</td>\n",
       "      <td>...</td>\n",
       "      <td>0</td>\n",
       "      <td>NaN</td>\n",
       "      <td>NaN</td>\n",
       "      <td>NaN</td>\n",
       "      <td>0</td>\n",
       "      <td>9</td>\n",
       "      <td>2008</td>\n",
       "      <td>WD</td>\n",
       "      <td>Normal</td>\n",
       "      <td>223500</td>\n",
       "    </tr>\n",
       "    <tr>\n",
       "      <th>3</th>\n",
       "      <td>4</td>\n",
       "      <td>70</td>\n",
       "      <td>RL</td>\n",
       "      <td>60.0</td>\n",
       "      <td>9550</td>\n",
       "      <td>Pave</td>\n",
       "      <td>NaN</td>\n",
       "      <td>IR1</td>\n",
       "      <td>Lvl</td>\n",
       "      <td>AllPub</td>\n",
       "      <td>...</td>\n",
       "      <td>0</td>\n",
       "      <td>NaN</td>\n",
       "      <td>NaN</td>\n",
       "      <td>NaN</td>\n",
       "      <td>0</td>\n",
       "      <td>2</td>\n",
       "      <td>2006</td>\n",
       "      <td>WD</td>\n",
       "      <td>Abnorml</td>\n",
       "      <td>140000</td>\n",
       "    </tr>\n",
       "    <tr>\n",
       "      <th>4</th>\n",
       "      <td>5</td>\n",
       "      <td>60</td>\n",
       "      <td>RL</td>\n",
       "      <td>84.0</td>\n",
       "      <td>14260</td>\n",
       "      <td>Pave</td>\n",
       "      <td>NaN</td>\n",
       "      <td>IR1</td>\n",
       "      <td>Lvl</td>\n",
       "      <td>AllPub</td>\n",
       "      <td>...</td>\n",
       "      <td>0</td>\n",
       "      <td>NaN</td>\n",
       "      <td>NaN</td>\n",
       "      <td>NaN</td>\n",
       "      <td>0</td>\n",
       "      <td>12</td>\n",
       "      <td>2008</td>\n",
       "      <td>WD</td>\n",
       "      <td>Normal</td>\n",
       "      <td>250000</td>\n",
       "    </tr>\n",
       "    <tr>\n",
       "      <th>...</th>\n",
       "      <td>...</td>\n",
       "      <td>...</td>\n",
       "      <td>...</td>\n",
       "      <td>...</td>\n",
       "      <td>...</td>\n",
       "      <td>...</td>\n",
       "      <td>...</td>\n",
       "      <td>...</td>\n",
       "      <td>...</td>\n",
       "      <td>...</td>\n",
       "      <td>...</td>\n",
       "      <td>...</td>\n",
       "      <td>...</td>\n",
       "      <td>...</td>\n",
       "      <td>...</td>\n",
       "      <td>...</td>\n",
       "      <td>...</td>\n",
       "      <td>...</td>\n",
       "      <td>...</td>\n",
       "      <td>...</td>\n",
       "      <td>...</td>\n",
       "    </tr>\n",
       "    <tr>\n",
       "      <th>1455</th>\n",
       "      <td>1456</td>\n",
       "      <td>60</td>\n",
       "      <td>RL</td>\n",
       "      <td>62.0</td>\n",
       "      <td>7917</td>\n",
       "      <td>Pave</td>\n",
       "      <td>NaN</td>\n",
       "      <td>Reg</td>\n",
       "      <td>Lvl</td>\n",
       "      <td>AllPub</td>\n",
       "      <td>...</td>\n",
       "      <td>0</td>\n",
       "      <td>NaN</td>\n",
       "      <td>NaN</td>\n",
       "      <td>NaN</td>\n",
       "      <td>0</td>\n",
       "      <td>8</td>\n",
       "      <td>2007</td>\n",
       "      <td>WD</td>\n",
       "      <td>Normal</td>\n",
       "      <td>175000</td>\n",
       "    </tr>\n",
       "    <tr>\n",
       "      <th>1456</th>\n",
       "      <td>1457</td>\n",
       "      <td>20</td>\n",
       "      <td>RL</td>\n",
       "      <td>85.0</td>\n",
       "      <td>13175</td>\n",
       "      <td>Pave</td>\n",
       "      <td>NaN</td>\n",
       "      <td>Reg</td>\n",
       "      <td>Lvl</td>\n",
       "      <td>AllPub</td>\n",
       "      <td>...</td>\n",
       "      <td>0</td>\n",
       "      <td>NaN</td>\n",
       "      <td>MnPrv</td>\n",
       "      <td>NaN</td>\n",
       "      <td>0</td>\n",
       "      <td>2</td>\n",
       "      <td>2010</td>\n",
       "      <td>WD</td>\n",
       "      <td>Normal</td>\n",
       "      <td>210000</td>\n",
       "    </tr>\n",
       "    <tr>\n",
       "      <th>1457</th>\n",
       "      <td>1458</td>\n",
       "      <td>70</td>\n",
       "      <td>RL</td>\n",
       "      <td>66.0</td>\n",
       "      <td>9042</td>\n",
       "      <td>Pave</td>\n",
       "      <td>NaN</td>\n",
       "      <td>Reg</td>\n",
       "      <td>Lvl</td>\n",
       "      <td>AllPub</td>\n",
       "      <td>...</td>\n",
       "      <td>0</td>\n",
       "      <td>NaN</td>\n",
       "      <td>GdPrv</td>\n",
       "      <td>Shed</td>\n",
       "      <td>2500</td>\n",
       "      <td>5</td>\n",
       "      <td>2010</td>\n",
       "      <td>WD</td>\n",
       "      <td>Normal</td>\n",
       "      <td>266500</td>\n",
       "    </tr>\n",
       "    <tr>\n",
       "      <th>1458</th>\n",
       "      <td>1459</td>\n",
       "      <td>20</td>\n",
       "      <td>RL</td>\n",
       "      <td>68.0</td>\n",
       "      <td>9717</td>\n",
       "      <td>Pave</td>\n",
       "      <td>NaN</td>\n",
       "      <td>Reg</td>\n",
       "      <td>Lvl</td>\n",
       "      <td>AllPub</td>\n",
       "      <td>...</td>\n",
       "      <td>0</td>\n",
       "      <td>NaN</td>\n",
       "      <td>NaN</td>\n",
       "      <td>NaN</td>\n",
       "      <td>0</td>\n",
       "      <td>4</td>\n",
       "      <td>2010</td>\n",
       "      <td>WD</td>\n",
       "      <td>Normal</td>\n",
       "      <td>142125</td>\n",
       "    </tr>\n",
       "    <tr>\n",
       "      <th>1459</th>\n",
       "      <td>1460</td>\n",
       "      <td>20</td>\n",
       "      <td>RL</td>\n",
       "      <td>75.0</td>\n",
       "      <td>9937</td>\n",
       "      <td>Pave</td>\n",
       "      <td>NaN</td>\n",
       "      <td>Reg</td>\n",
       "      <td>Lvl</td>\n",
       "      <td>AllPub</td>\n",
       "      <td>...</td>\n",
       "      <td>0</td>\n",
       "      <td>NaN</td>\n",
       "      <td>NaN</td>\n",
       "      <td>NaN</td>\n",
       "      <td>0</td>\n",
       "      <td>6</td>\n",
       "      <td>2008</td>\n",
       "      <td>WD</td>\n",
       "      <td>Normal</td>\n",
       "      <td>147500</td>\n",
       "    </tr>\n",
       "  </tbody>\n",
       "</table>\n",
       "<p>1460 rows × 81 columns</p>\n",
       "</div>"
      ],
      "text/plain": [
       "        Id  MSSubClass MSZoning  LotFrontage  LotArea Street Alley LotShape  \\\n",
       "0        1          60       RL         65.0     8450   Pave   NaN      Reg   \n",
       "1        2          20       RL         80.0     9600   Pave   NaN      Reg   \n",
       "2        3          60       RL         68.0    11250   Pave   NaN      IR1   \n",
       "3        4          70       RL         60.0     9550   Pave   NaN      IR1   \n",
       "4        5          60       RL         84.0    14260   Pave   NaN      IR1   \n",
       "...    ...         ...      ...          ...      ...    ...   ...      ...   \n",
       "1455  1456          60       RL         62.0     7917   Pave   NaN      Reg   \n",
       "1456  1457          20       RL         85.0    13175   Pave   NaN      Reg   \n",
       "1457  1458          70       RL         66.0     9042   Pave   NaN      Reg   \n",
       "1458  1459          20       RL         68.0     9717   Pave   NaN      Reg   \n",
       "1459  1460          20       RL         75.0     9937   Pave   NaN      Reg   \n",
       "\n",
       "     LandContour Utilities  ... PoolArea PoolQC  Fence MiscFeature MiscVal  \\\n",
       "0            Lvl    AllPub  ...        0    NaN    NaN         NaN       0   \n",
       "1            Lvl    AllPub  ...        0    NaN    NaN         NaN       0   \n",
       "2            Lvl    AllPub  ...        0    NaN    NaN         NaN       0   \n",
       "3            Lvl    AllPub  ...        0    NaN    NaN         NaN       0   \n",
       "4            Lvl    AllPub  ...        0    NaN    NaN         NaN       0   \n",
       "...          ...       ...  ...      ...    ...    ...         ...     ...   \n",
       "1455         Lvl    AllPub  ...        0    NaN    NaN         NaN       0   \n",
       "1456         Lvl    AllPub  ...        0    NaN  MnPrv         NaN       0   \n",
       "1457         Lvl    AllPub  ...        0    NaN  GdPrv        Shed    2500   \n",
       "1458         Lvl    AllPub  ...        0    NaN    NaN         NaN       0   \n",
       "1459         Lvl    AllPub  ...        0    NaN    NaN         NaN       0   \n",
       "\n",
       "     MoSold YrSold  SaleType  SaleCondition  SalePrice  \n",
       "0         2   2008        WD         Normal     208500  \n",
       "1         5   2007        WD         Normal     181500  \n",
       "2         9   2008        WD         Normal     223500  \n",
       "3         2   2006        WD        Abnorml     140000  \n",
       "4        12   2008        WD         Normal     250000  \n",
       "...     ...    ...       ...            ...        ...  \n",
       "1455      8   2007        WD         Normal     175000  \n",
       "1456      2   2010        WD         Normal     210000  \n",
       "1457      5   2010        WD         Normal     266500  \n",
       "1458      4   2010        WD         Normal     142125  \n",
       "1459      6   2008        WD         Normal     147500  \n",
       "\n",
       "[1460 rows x 81 columns]"
      ]
     },
     "execution_count": 3,
     "metadata": {},
     "output_type": "execute_result"
    }
   ],
   "source": [
    "train"
   ]
  },
  {
   "cell_type": "code",
   "execution_count": 4,
   "id": "704f0d50",
   "metadata": {},
   "outputs": [
    {
     "name": "stdout",
     "output_type": "stream",
     "text": [
      "<class 'pandas.core.frame.DataFrame'>\n",
      "RangeIndex: 1459 entries, 0 to 1458\n",
      "Data columns (total 80 columns):\n",
      " #   Column         Non-Null Count  Dtype  \n",
      "---  ------         --------------  -----  \n",
      " 0   Id             1459 non-null   int64  \n",
      " 1   MSSubClass     1459 non-null   int64  \n",
      " 2   MSZoning       1455 non-null   object \n",
      " 3   LotFrontage    1232 non-null   float64\n",
      " 4   LotArea        1459 non-null   int64  \n",
      " 5   Street         1459 non-null   object \n",
      " 6   Alley          107 non-null    object \n",
      " 7   LotShape       1459 non-null   object \n",
      " 8   LandContour    1459 non-null   object \n",
      " 9   Utilities      1457 non-null   object \n",
      " 10  LotConfig      1459 non-null   object \n",
      " 11  LandSlope      1459 non-null   object \n",
      " 12  Neighborhood   1459 non-null   object \n",
      " 13  Condition1     1459 non-null   object \n",
      " 14  Condition2     1459 non-null   object \n",
      " 15  BldgType       1459 non-null   object \n",
      " 16  HouseStyle     1459 non-null   object \n",
      " 17  OverallQual    1459 non-null   int64  \n",
      " 18  OverallCond    1459 non-null   int64  \n",
      " 19  YearBuilt      1459 non-null   int64  \n",
      " 20  YearRemodAdd   1459 non-null   int64  \n",
      " 21  RoofStyle      1459 non-null   object \n",
      " 22  RoofMatl       1459 non-null   object \n",
      " 23  Exterior1st    1458 non-null   object \n",
      " 24  Exterior2nd    1458 non-null   object \n",
      " 25  MasVnrType     1443 non-null   object \n",
      " 26  MasVnrArea     1444 non-null   float64\n",
      " 27  ExterQual      1459 non-null   object \n",
      " 28  ExterCond      1459 non-null   object \n",
      " 29  Foundation     1459 non-null   object \n",
      " 30  BsmtQual       1415 non-null   object \n",
      " 31  BsmtCond       1414 non-null   object \n",
      " 32  BsmtExposure   1415 non-null   object \n",
      " 33  BsmtFinType1   1417 non-null   object \n",
      " 34  BsmtFinSF1     1458 non-null   float64\n",
      " 35  BsmtFinType2   1417 non-null   object \n",
      " 36  BsmtFinSF2     1458 non-null   float64\n",
      " 37  BsmtUnfSF      1458 non-null   float64\n",
      " 38  TotalBsmtSF    1458 non-null   float64\n",
      " 39  Heating        1459 non-null   object \n",
      " 40  HeatingQC      1459 non-null   object \n",
      " 41  CentralAir     1459 non-null   object \n",
      " 42  Electrical     1459 non-null   object \n",
      " 43  1stFlrSF       1459 non-null   int64  \n",
      " 44  2ndFlrSF       1459 non-null   int64  \n",
      " 45  LowQualFinSF   1459 non-null   int64  \n",
      " 46  GrLivArea      1459 non-null   int64  \n",
      " 47  BsmtFullBath   1457 non-null   float64\n",
      " 48  BsmtHalfBath   1457 non-null   float64\n",
      " 49  FullBath       1459 non-null   int64  \n",
      " 50  HalfBath       1459 non-null   int64  \n",
      " 51  BedroomAbvGr   1459 non-null   int64  \n",
      " 52  KitchenAbvGr   1459 non-null   int64  \n",
      " 53  KitchenQual    1458 non-null   object \n",
      " 54  TotRmsAbvGrd   1459 non-null   int64  \n",
      " 55  Functional     1457 non-null   object \n",
      " 56  Fireplaces     1459 non-null   int64  \n",
      " 57  FireplaceQu    729 non-null    object \n",
      " 58  GarageType     1383 non-null   object \n",
      " 59  GarageYrBlt    1381 non-null   float64\n",
      " 60  GarageFinish   1381 non-null   object \n",
      " 61  GarageCars     1458 non-null   float64\n",
      " 62  GarageArea     1458 non-null   float64\n",
      " 63  GarageQual     1381 non-null   object \n",
      " 64  GarageCond     1381 non-null   object \n",
      " 65  PavedDrive     1459 non-null   object \n",
      " 66  WoodDeckSF     1459 non-null   int64  \n",
      " 67  OpenPorchSF    1459 non-null   int64  \n",
      " 68  EnclosedPorch  1459 non-null   int64  \n",
      " 69  3SsnPorch      1459 non-null   int64  \n",
      " 70  ScreenPorch    1459 non-null   int64  \n",
      " 71  PoolArea       1459 non-null   int64  \n",
      " 72  PoolQC         3 non-null      object \n",
      " 73  Fence          290 non-null    object \n",
      " 74  MiscFeature    51 non-null     object \n",
      " 75  MiscVal        1459 non-null   int64  \n",
      " 76  MoSold         1459 non-null   int64  \n",
      " 77  YrSold         1459 non-null   int64  \n",
      " 78  SaleType       1458 non-null   object \n",
      " 79  SaleCondition  1459 non-null   object \n",
      "dtypes: float64(11), int64(26), object(43)\n",
      "memory usage: 912.0+ KB\n"
     ]
    }
   ],
   "source": [
    "test.info()"
   ]
  },
  {
   "cell_type": "code",
   "execution_count": 5,
   "id": "c4082f35",
   "metadata": {},
   "outputs": [],
   "source": [
    "df = pd.concat([train, test])"
   ]
  },
  {
   "cell_type": "code",
   "execution_count": 6,
   "id": "2538412e",
   "metadata": {},
   "outputs": [
    {
     "data": {
      "text/plain": [
       "(2919, 81)"
      ]
     },
     "execution_count": 6,
     "metadata": {},
     "output_type": "execute_result"
    }
   ],
   "source": [
    "df.shape"
   ]
  },
  {
   "cell_type": "code",
   "execution_count": 7,
   "id": "da9b6695",
   "metadata": {},
   "outputs": [],
   "source": [
    "df.set_index(keys = 'Id', inplace = True)"
   ]
  },
  {
   "cell_type": "code",
   "execution_count": 8,
   "id": "2cb079c4",
   "metadata": {},
   "outputs": [
    {
     "data": {
      "text/html": [
       "<div>\n",
       "<style scoped>\n",
       "    .dataframe tbody tr th:only-of-type {\n",
       "        vertical-align: middle;\n",
       "    }\n",
       "\n",
       "    .dataframe tbody tr th {\n",
       "        vertical-align: top;\n",
       "    }\n",
       "\n",
       "    .dataframe thead th {\n",
       "        text-align: right;\n",
       "    }\n",
       "</style>\n",
       "<table border=\"1\" class=\"dataframe\">\n",
       "  <thead>\n",
       "    <tr style=\"text-align: right;\">\n",
       "      <th></th>\n",
       "      <th>MSSubClass</th>\n",
       "      <th>MSZoning</th>\n",
       "      <th>LotFrontage</th>\n",
       "      <th>LotArea</th>\n",
       "      <th>Street</th>\n",
       "      <th>Alley</th>\n",
       "      <th>LotShape</th>\n",
       "      <th>LandContour</th>\n",
       "      <th>Utilities</th>\n",
       "      <th>LotConfig</th>\n",
       "      <th>...</th>\n",
       "      <th>PoolArea</th>\n",
       "      <th>PoolQC</th>\n",
       "      <th>Fence</th>\n",
       "      <th>MiscFeature</th>\n",
       "      <th>MiscVal</th>\n",
       "      <th>MoSold</th>\n",
       "      <th>YrSold</th>\n",
       "      <th>SaleType</th>\n",
       "      <th>SaleCondition</th>\n",
       "      <th>SalePrice</th>\n",
       "    </tr>\n",
       "    <tr>\n",
       "      <th>Id</th>\n",
       "      <th></th>\n",
       "      <th></th>\n",
       "      <th></th>\n",
       "      <th></th>\n",
       "      <th></th>\n",
       "      <th></th>\n",
       "      <th></th>\n",
       "      <th></th>\n",
       "      <th></th>\n",
       "      <th></th>\n",
       "      <th></th>\n",
       "      <th></th>\n",
       "      <th></th>\n",
       "      <th></th>\n",
       "      <th></th>\n",
       "      <th></th>\n",
       "      <th></th>\n",
       "      <th></th>\n",
       "      <th></th>\n",
       "      <th></th>\n",
       "      <th></th>\n",
       "    </tr>\n",
       "  </thead>\n",
       "  <tbody>\n",
       "    <tr>\n",
       "      <th>1</th>\n",
       "      <td>60</td>\n",
       "      <td>RL</td>\n",
       "      <td>65.0</td>\n",
       "      <td>8450</td>\n",
       "      <td>Pave</td>\n",
       "      <td>NaN</td>\n",
       "      <td>Reg</td>\n",
       "      <td>Lvl</td>\n",
       "      <td>AllPub</td>\n",
       "      <td>Inside</td>\n",
       "      <td>...</td>\n",
       "      <td>0</td>\n",
       "      <td>NaN</td>\n",
       "      <td>NaN</td>\n",
       "      <td>NaN</td>\n",
       "      <td>0</td>\n",
       "      <td>2</td>\n",
       "      <td>2008</td>\n",
       "      <td>WD</td>\n",
       "      <td>Normal</td>\n",
       "      <td>208500.0</td>\n",
       "    </tr>\n",
       "    <tr>\n",
       "      <th>2</th>\n",
       "      <td>20</td>\n",
       "      <td>RL</td>\n",
       "      <td>80.0</td>\n",
       "      <td>9600</td>\n",
       "      <td>Pave</td>\n",
       "      <td>NaN</td>\n",
       "      <td>Reg</td>\n",
       "      <td>Lvl</td>\n",
       "      <td>AllPub</td>\n",
       "      <td>FR2</td>\n",
       "      <td>...</td>\n",
       "      <td>0</td>\n",
       "      <td>NaN</td>\n",
       "      <td>NaN</td>\n",
       "      <td>NaN</td>\n",
       "      <td>0</td>\n",
       "      <td>5</td>\n",
       "      <td>2007</td>\n",
       "      <td>WD</td>\n",
       "      <td>Normal</td>\n",
       "      <td>181500.0</td>\n",
       "    </tr>\n",
       "    <tr>\n",
       "      <th>3</th>\n",
       "      <td>60</td>\n",
       "      <td>RL</td>\n",
       "      <td>68.0</td>\n",
       "      <td>11250</td>\n",
       "      <td>Pave</td>\n",
       "      <td>NaN</td>\n",
       "      <td>IR1</td>\n",
       "      <td>Lvl</td>\n",
       "      <td>AllPub</td>\n",
       "      <td>Inside</td>\n",
       "      <td>...</td>\n",
       "      <td>0</td>\n",
       "      <td>NaN</td>\n",
       "      <td>NaN</td>\n",
       "      <td>NaN</td>\n",
       "      <td>0</td>\n",
       "      <td>9</td>\n",
       "      <td>2008</td>\n",
       "      <td>WD</td>\n",
       "      <td>Normal</td>\n",
       "      <td>223500.0</td>\n",
       "    </tr>\n",
       "    <tr>\n",
       "      <th>4</th>\n",
       "      <td>70</td>\n",
       "      <td>RL</td>\n",
       "      <td>60.0</td>\n",
       "      <td>9550</td>\n",
       "      <td>Pave</td>\n",
       "      <td>NaN</td>\n",
       "      <td>IR1</td>\n",
       "      <td>Lvl</td>\n",
       "      <td>AllPub</td>\n",
       "      <td>Corner</td>\n",
       "      <td>...</td>\n",
       "      <td>0</td>\n",
       "      <td>NaN</td>\n",
       "      <td>NaN</td>\n",
       "      <td>NaN</td>\n",
       "      <td>0</td>\n",
       "      <td>2</td>\n",
       "      <td>2006</td>\n",
       "      <td>WD</td>\n",
       "      <td>Abnorml</td>\n",
       "      <td>140000.0</td>\n",
       "    </tr>\n",
       "    <tr>\n",
       "      <th>5</th>\n",
       "      <td>60</td>\n",
       "      <td>RL</td>\n",
       "      <td>84.0</td>\n",
       "      <td>14260</td>\n",
       "      <td>Pave</td>\n",
       "      <td>NaN</td>\n",
       "      <td>IR1</td>\n",
       "      <td>Lvl</td>\n",
       "      <td>AllPub</td>\n",
       "      <td>FR2</td>\n",
       "      <td>...</td>\n",
       "      <td>0</td>\n",
       "      <td>NaN</td>\n",
       "      <td>NaN</td>\n",
       "      <td>NaN</td>\n",
       "      <td>0</td>\n",
       "      <td>12</td>\n",
       "      <td>2008</td>\n",
       "      <td>WD</td>\n",
       "      <td>Normal</td>\n",
       "      <td>250000.0</td>\n",
       "    </tr>\n",
       "    <tr>\n",
       "      <th>...</th>\n",
       "      <td>...</td>\n",
       "      <td>...</td>\n",
       "      <td>...</td>\n",
       "      <td>...</td>\n",
       "      <td>...</td>\n",
       "      <td>...</td>\n",
       "      <td>...</td>\n",
       "      <td>...</td>\n",
       "      <td>...</td>\n",
       "      <td>...</td>\n",
       "      <td>...</td>\n",
       "      <td>...</td>\n",
       "      <td>...</td>\n",
       "      <td>...</td>\n",
       "      <td>...</td>\n",
       "      <td>...</td>\n",
       "      <td>...</td>\n",
       "      <td>...</td>\n",
       "      <td>...</td>\n",
       "      <td>...</td>\n",
       "      <td>...</td>\n",
       "    </tr>\n",
       "    <tr>\n",
       "      <th>2915</th>\n",
       "      <td>160</td>\n",
       "      <td>RM</td>\n",
       "      <td>21.0</td>\n",
       "      <td>1936</td>\n",
       "      <td>Pave</td>\n",
       "      <td>NaN</td>\n",
       "      <td>Reg</td>\n",
       "      <td>Lvl</td>\n",
       "      <td>AllPub</td>\n",
       "      <td>Inside</td>\n",
       "      <td>...</td>\n",
       "      <td>0</td>\n",
       "      <td>NaN</td>\n",
       "      <td>NaN</td>\n",
       "      <td>NaN</td>\n",
       "      <td>0</td>\n",
       "      <td>6</td>\n",
       "      <td>2006</td>\n",
       "      <td>WD</td>\n",
       "      <td>Normal</td>\n",
       "      <td>NaN</td>\n",
       "    </tr>\n",
       "    <tr>\n",
       "      <th>2916</th>\n",
       "      <td>160</td>\n",
       "      <td>RM</td>\n",
       "      <td>21.0</td>\n",
       "      <td>1894</td>\n",
       "      <td>Pave</td>\n",
       "      <td>NaN</td>\n",
       "      <td>Reg</td>\n",
       "      <td>Lvl</td>\n",
       "      <td>AllPub</td>\n",
       "      <td>Inside</td>\n",
       "      <td>...</td>\n",
       "      <td>0</td>\n",
       "      <td>NaN</td>\n",
       "      <td>NaN</td>\n",
       "      <td>NaN</td>\n",
       "      <td>0</td>\n",
       "      <td>4</td>\n",
       "      <td>2006</td>\n",
       "      <td>WD</td>\n",
       "      <td>Abnorml</td>\n",
       "      <td>NaN</td>\n",
       "    </tr>\n",
       "    <tr>\n",
       "      <th>2917</th>\n",
       "      <td>20</td>\n",
       "      <td>RL</td>\n",
       "      <td>160.0</td>\n",
       "      <td>20000</td>\n",
       "      <td>Pave</td>\n",
       "      <td>NaN</td>\n",
       "      <td>Reg</td>\n",
       "      <td>Lvl</td>\n",
       "      <td>AllPub</td>\n",
       "      <td>Inside</td>\n",
       "      <td>...</td>\n",
       "      <td>0</td>\n",
       "      <td>NaN</td>\n",
       "      <td>NaN</td>\n",
       "      <td>NaN</td>\n",
       "      <td>0</td>\n",
       "      <td>9</td>\n",
       "      <td>2006</td>\n",
       "      <td>WD</td>\n",
       "      <td>Abnorml</td>\n",
       "      <td>NaN</td>\n",
       "    </tr>\n",
       "    <tr>\n",
       "      <th>2918</th>\n",
       "      <td>85</td>\n",
       "      <td>RL</td>\n",
       "      <td>62.0</td>\n",
       "      <td>10441</td>\n",
       "      <td>Pave</td>\n",
       "      <td>NaN</td>\n",
       "      <td>Reg</td>\n",
       "      <td>Lvl</td>\n",
       "      <td>AllPub</td>\n",
       "      <td>Inside</td>\n",
       "      <td>...</td>\n",
       "      <td>0</td>\n",
       "      <td>NaN</td>\n",
       "      <td>MnPrv</td>\n",
       "      <td>Shed</td>\n",
       "      <td>700</td>\n",
       "      <td>7</td>\n",
       "      <td>2006</td>\n",
       "      <td>WD</td>\n",
       "      <td>Normal</td>\n",
       "      <td>NaN</td>\n",
       "    </tr>\n",
       "    <tr>\n",
       "      <th>2919</th>\n",
       "      <td>60</td>\n",
       "      <td>RL</td>\n",
       "      <td>74.0</td>\n",
       "      <td>9627</td>\n",
       "      <td>Pave</td>\n",
       "      <td>NaN</td>\n",
       "      <td>Reg</td>\n",
       "      <td>Lvl</td>\n",
       "      <td>AllPub</td>\n",
       "      <td>Inside</td>\n",
       "      <td>...</td>\n",
       "      <td>0</td>\n",
       "      <td>NaN</td>\n",
       "      <td>NaN</td>\n",
       "      <td>NaN</td>\n",
       "      <td>0</td>\n",
       "      <td>11</td>\n",
       "      <td>2006</td>\n",
       "      <td>WD</td>\n",
       "      <td>Normal</td>\n",
       "      <td>NaN</td>\n",
       "    </tr>\n",
       "  </tbody>\n",
       "</table>\n",
       "<p>2919 rows × 80 columns</p>\n",
       "</div>"
      ],
      "text/plain": [
       "      MSSubClass MSZoning  LotFrontage  LotArea Street Alley LotShape  \\\n",
       "Id                                                                      \n",
       "1             60       RL         65.0     8450   Pave   NaN      Reg   \n",
       "2             20       RL         80.0     9600   Pave   NaN      Reg   \n",
       "3             60       RL         68.0    11250   Pave   NaN      IR1   \n",
       "4             70       RL         60.0     9550   Pave   NaN      IR1   \n",
       "5             60       RL         84.0    14260   Pave   NaN      IR1   \n",
       "...          ...      ...          ...      ...    ...   ...      ...   \n",
       "2915         160       RM         21.0     1936   Pave   NaN      Reg   \n",
       "2916         160       RM         21.0     1894   Pave   NaN      Reg   \n",
       "2917          20       RL        160.0    20000   Pave   NaN      Reg   \n",
       "2918          85       RL         62.0    10441   Pave   NaN      Reg   \n",
       "2919          60       RL         74.0     9627   Pave   NaN      Reg   \n",
       "\n",
       "     LandContour Utilities LotConfig  ... PoolArea PoolQC  Fence MiscFeature  \\\n",
       "Id                                    ...                                      \n",
       "1            Lvl    AllPub    Inside  ...        0    NaN    NaN         NaN   \n",
       "2            Lvl    AllPub       FR2  ...        0    NaN    NaN         NaN   \n",
       "3            Lvl    AllPub    Inside  ...        0    NaN    NaN         NaN   \n",
       "4            Lvl    AllPub    Corner  ...        0    NaN    NaN         NaN   \n",
       "5            Lvl    AllPub       FR2  ...        0    NaN    NaN         NaN   \n",
       "...          ...       ...       ...  ...      ...    ...    ...         ...   \n",
       "2915         Lvl    AllPub    Inside  ...        0    NaN    NaN         NaN   \n",
       "2916         Lvl    AllPub    Inside  ...        0    NaN    NaN         NaN   \n",
       "2917         Lvl    AllPub    Inside  ...        0    NaN    NaN         NaN   \n",
       "2918         Lvl    AllPub    Inside  ...        0    NaN  MnPrv        Shed   \n",
       "2919         Lvl    AllPub    Inside  ...        0    NaN    NaN         NaN   \n",
       "\n",
       "     MiscVal MoSold  YrSold  SaleType  SaleCondition  SalePrice  \n",
       "Id                                                               \n",
       "1          0      2    2008        WD         Normal   208500.0  \n",
       "2          0      5    2007        WD         Normal   181500.0  \n",
       "3          0      9    2008        WD         Normal   223500.0  \n",
       "4          0      2    2006        WD        Abnorml   140000.0  \n",
       "5          0     12    2008        WD         Normal   250000.0  \n",
       "...      ...    ...     ...       ...            ...        ...  \n",
       "2915       0      6    2006        WD         Normal        NaN  \n",
       "2916       0      4    2006        WD        Abnorml        NaN  \n",
       "2917       0      9    2006        WD        Abnorml        NaN  \n",
       "2918     700      7    2006        WD         Normal        NaN  \n",
       "2919       0     11    2006        WD         Normal        NaN  \n",
       "\n",
       "[2919 rows x 80 columns]"
      ]
     },
     "execution_count": 8,
     "metadata": {},
     "output_type": "execute_result"
    }
   ],
   "source": [
    "df"
   ]
  },
  {
   "cell_type": "code",
   "execution_count": 9,
   "id": "5069bca3",
   "metadata": {},
   "outputs": [
    {
     "name": "stdout",
     "output_type": "stream",
     "text": [
      "<class 'pandas.core.frame.DataFrame'>\n",
      "Int64Index: 2919 entries, 1 to 2919\n",
      "Data columns (total 80 columns):\n",
      " #   Column         Non-Null Count  Dtype  \n",
      "---  ------         --------------  -----  \n",
      " 0   MSSubClass     2919 non-null   int64  \n",
      " 1   MSZoning       2915 non-null   object \n",
      " 2   LotFrontage    2433 non-null   float64\n",
      " 3   LotArea        2919 non-null   int64  \n",
      " 4   Street         2919 non-null   object \n",
      " 5   Alley          198 non-null    object \n",
      " 6   LotShape       2919 non-null   object \n",
      " 7   LandContour    2919 non-null   object \n",
      " 8   Utilities      2917 non-null   object \n",
      " 9   LotConfig      2919 non-null   object \n",
      " 10  LandSlope      2919 non-null   object \n",
      " 11  Neighborhood   2919 non-null   object \n",
      " 12  Condition1     2919 non-null   object \n",
      " 13  Condition2     2919 non-null   object \n",
      " 14  BldgType       2919 non-null   object \n",
      " 15  HouseStyle     2919 non-null   object \n",
      " 16  OverallQual    2919 non-null   int64  \n",
      " 17  OverallCond    2919 non-null   int64  \n",
      " 18  YearBuilt      2919 non-null   int64  \n",
      " 19  YearRemodAdd   2919 non-null   int64  \n",
      " 20  RoofStyle      2919 non-null   object \n",
      " 21  RoofMatl       2919 non-null   object \n",
      " 22  Exterior1st    2918 non-null   object \n",
      " 23  Exterior2nd    2918 non-null   object \n",
      " 24  MasVnrType     2895 non-null   object \n",
      " 25  MasVnrArea     2896 non-null   float64\n",
      " 26  ExterQual      2919 non-null   object \n",
      " 27  ExterCond      2919 non-null   object \n",
      " 28  Foundation     2919 non-null   object \n",
      " 29  BsmtQual       2838 non-null   object \n",
      " 30  BsmtCond       2837 non-null   object \n",
      " 31  BsmtExposure   2837 non-null   object \n",
      " 32  BsmtFinType1   2840 non-null   object \n",
      " 33  BsmtFinSF1     2918 non-null   float64\n",
      " 34  BsmtFinType2   2839 non-null   object \n",
      " 35  BsmtFinSF2     2918 non-null   float64\n",
      " 36  BsmtUnfSF      2918 non-null   float64\n",
      " 37  TotalBsmtSF    2918 non-null   float64\n",
      " 38  Heating        2919 non-null   object \n",
      " 39  HeatingQC      2919 non-null   object \n",
      " 40  CentralAir     2919 non-null   object \n",
      " 41  Electrical     2918 non-null   object \n",
      " 42  1stFlrSF       2919 non-null   int64  \n",
      " 43  2ndFlrSF       2919 non-null   int64  \n",
      " 44  LowQualFinSF   2919 non-null   int64  \n",
      " 45  GrLivArea      2919 non-null   int64  \n",
      " 46  BsmtFullBath   2917 non-null   float64\n",
      " 47  BsmtHalfBath   2917 non-null   float64\n",
      " 48  FullBath       2919 non-null   int64  \n",
      " 49  HalfBath       2919 non-null   int64  \n",
      " 50  BedroomAbvGr   2919 non-null   int64  \n",
      " 51  KitchenAbvGr   2919 non-null   int64  \n",
      " 52  KitchenQual    2918 non-null   object \n",
      " 53  TotRmsAbvGrd   2919 non-null   int64  \n",
      " 54  Functional     2917 non-null   object \n",
      " 55  Fireplaces     2919 non-null   int64  \n",
      " 56  FireplaceQu    1499 non-null   object \n",
      " 57  GarageType     2762 non-null   object \n",
      " 58  GarageYrBlt    2760 non-null   float64\n",
      " 59  GarageFinish   2760 non-null   object \n",
      " 60  GarageCars     2918 non-null   float64\n",
      " 61  GarageArea     2918 non-null   float64\n",
      " 62  GarageQual     2760 non-null   object \n",
      " 63  GarageCond     2760 non-null   object \n",
      " 64  PavedDrive     2919 non-null   object \n",
      " 65  WoodDeckSF     2919 non-null   int64  \n",
      " 66  OpenPorchSF    2919 non-null   int64  \n",
      " 67  EnclosedPorch  2919 non-null   int64  \n",
      " 68  3SsnPorch      2919 non-null   int64  \n",
      " 69  ScreenPorch    2919 non-null   int64  \n",
      " 70  PoolArea       2919 non-null   int64  \n",
      " 71  PoolQC         10 non-null     object \n",
      " 72  Fence          571 non-null    object \n",
      " 73  MiscFeature    105 non-null    object \n",
      " 74  MiscVal        2919 non-null   int64  \n",
      " 75  MoSold         2919 non-null   int64  \n",
      " 76  YrSold         2919 non-null   int64  \n",
      " 77  SaleType       2918 non-null   object \n",
      " 78  SaleCondition  2919 non-null   object \n",
      " 79  SalePrice      1460 non-null   float64\n",
      "dtypes: float64(12), int64(25), object(43)\n",
      "memory usage: 1.8+ MB\n"
     ]
    }
   ],
   "source": [
    "df.info()"
   ]
  },
  {
   "cell_type": "code",
   "execution_count": 10,
   "id": "b5921e66",
   "metadata": {},
   "outputs": [],
   "source": [
    "def check_null(data_frame):\n",
    "        for col in data_frame.columns:\n",
    "            if data_frame[col].isnull().sum()!= 0:\n",
    "                print(\"|\",col,\"  ---->  \",data_frame[col].isnull().sum(),\"\\n\",\"_______________________________\")\n",
    "            else:\n",
    "                pass"
   ]
  },
  {
   "cell_type": "code",
   "execution_count": 11,
   "id": "01083692",
   "metadata": {},
   "outputs": [],
   "source": [
    "def null_columns(data_frame):\n",
    "        null_col_list = []\n",
    "        for col in data_frame.columns:\n",
    "            if data_frame[col].isnull().sum()!= 0:\n",
    "                null_col_list.append(col)\n",
    "            else:\n",
    "                pass\n",
    "        print(null_col_list)"
   ]
  },
  {
   "cell_type": "code",
   "execution_count": 12,
   "id": "d9c6a758",
   "metadata": {},
   "outputs": [
    {
     "name": "stdout",
     "output_type": "stream",
     "text": [
      "| MSZoning   ---->   4 \n",
      " _______________________________\n",
      "| LotFrontage   ---->   486 \n",
      " _______________________________\n",
      "| Alley   ---->   2721 \n",
      " _______________________________\n",
      "| Utilities   ---->   2 \n",
      " _______________________________\n",
      "| Exterior1st   ---->   1 \n",
      " _______________________________\n",
      "| Exterior2nd   ---->   1 \n",
      " _______________________________\n",
      "| MasVnrType   ---->   24 \n",
      " _______________________________\n",
      "| MasVnrArea   ---->   23 \n",
      " _______________________________\n",
      "| BsmtQual   ---->   81 \n",
      " _______________________________\n",
      "| BsmtCond   ---->   82 \n",
      " _______________________________\n",
      "| BsmtExposure   ---->   82 \n",
      " _______________________________\n",
      "| BsmtFinType1   ---->   79 \n",
      " _______________________________\n",
      "| BsmtFinSF1   ---->   1 \n",
      " _______________________________\n",
      "| BsmtFinType2   ---->   80 \n",
      " _______________________________\n",
      "| BsmtFinSF2   ---->   1 \n",
      " _______________________________\n",
      "| BsmtUnfSF   ---->   1 \n",
      " _______________________________\n",
      "| TotalBsmtSF   ---->   1 \n",
      " _______________________________\n",
      "| Electrical   ---->   1 \n",
      " _______________________________\n",
      "| BsmtFullBath   ---->   2 \n",
      " _______________________________\n",
      "| BsmtHalfBath   ---->   2 \n",
      " _______________________________\n",
      "| KitchenQual   ---->   1 \n",
      " _______________________________\n",
      "| Functional   ---->   2 \n",
      " _______________________________\n",
      "| FireplaceQu   ---->   1420 \n",
      " _______________________________\n",
      "| GarageType   ---->   157 \n",
      " _______________________________\n",
      "| GarageYrBlt   ---->   159 \n",
      " _______________________________\n",
      "| GarageFinish   ---->   159 \n",
      " _______________________________\n",
      "| GarageCars   ---->   1 \n",
      " _______________________________\n",
      "| GarageArea   ---->   1 \n",
      " _______________________________\n",
      "| GarageQual   ---->   159 \n",
      " _______________________________\n",
      "| GarageCond   ---->   159 \n",
      " _______________________________\n",
      "| PoolQC   ---->   2909 \n",
      " _______________________________\n",
      "| Fence   ---->   2348 \n",
      " _______________________________\n",
      "| MiscFeature   ---->   2814 \n",
      " _______________________________\n",
      "| SaleType   ---->   1 \n",
      " _______________________________\n",
      "| SalePrice   ---->   1459 \n",
      " _______________________________\n"
     ]
    }
   ],
   "source": [
    "check_null(df)"
   ]
  },
  {
   "cell_type": "code",
   "execution_count": 13,
   "id": "848cbcdf",
   "metadata": {},
   "outputs": [
    {
     "name": "stdout",
     "output_type": "stream",
     "text": [
      "['MSZoning', 'LotFrontage', 'Alley', 'Utilities', 'Exterior1st', 'Exterior2nd', 'MasVnrType', 'MasVnrArea', 'BsmtQual', 'BsmtCond', 'BsmtExposure', 'BsmtFinType1', 'BsmtFinSF1', 'BsmtFinType2', 'BsmtFinSF2', 'BsmtUnfSF', 'TotalBsmtSF', 'Electrical', 'BsmtFullBath', 'BsmtHalfBath', 'KitchenQual', 'Functional', 'FireplaceQu', 'GarageType', 'GarageYrBlt', 'GarageFinish', 'GarageCars', 'GarageArea', 'GarageQual', 'GarageCond', 'PoolQC', 'Fence', 'MiscFeature', 'SaleType', 'SalePrice']\n"
     ]
    }
   ],
   "source": [
    "null_columns(df)"
   ]
  },
  {
   "cell_type": "markdown",
   "id": "750bda2b",
   "metadata": {},
   "source": [
    "<br>"
   ]
  },
  {
   "cell_type": "markdown",
   "id": "790fe3e0",
   "metadata": {},
   "source": [
    "## MSZoning"
   ]
  },
  {
   "cell_type": "code",
   "execution_count": 14,
   "id": "f24ed7b4",
   "metadata": {},
   "outputs": [
    {
     "data": {
      "text/plain": [
       "RL         2265\n",
       "RM          460\n",
       "FV          139\n",
       "RH           26\n",
       "C (all)      25\n",
       "NaN           4\n",
       "Name: MSZoning, dtype: int64"
      ]
     },
     "execution_count": 14,
     "metadata": {},
     "output_type": "execute_result"
    }
   ],
   "source": [
    "df.MSZoning.value_counts(dropna = False)"
   ]
  },
  {
   "cell_type": "code",
   "execution_count": 15,
   "id": "e4d182c1",
   "metadata": {},
   "outputs": [],
   "source": [
    "import random\n",
    "\n",
    "df['MSZoning'].fillna(random.choice(df['MSZoning'][df['MSZoning'].notna()]), inplace = True)"
   ]
  },
  {
   "cell_type": "code",
   "execution_count": null,
   "id": "18aaaa5f",
   "metadata": {},
   "outputs": [],
   "source": []
  },
  {
   "cell_type": "markdown",
   "id": "986d6ee8",
   "metadata": {},
   "source": [
    "## LotFrontage"
   ]
  },
  {
   "cell_type": "code",
   "execution_count": 16,
   "id": "1425d569",
   "metadata": {},
   "outputs": [
    {
     "data": {
      "text/plain": [
       "NaN      486\n",
       "60.0     276\n",
       "80.0     137\n",
       "70.0     133\n",
       "50.0     117\n",
       "        ... \n",
       "138.0      1\n",
       "31.0       1\n",
       "144.0      1\n",
       "141.0      1\n",
       "28.0       1\n",
       "Name: LotFrontage, Length: 129, dtype: int64"
      ]
     },
     "execution_count": 16,
     "metadata": {},
     "output_type": "execute_result"
    }
   ],
   "source": [
    "df.LotFrontage.value_counts(dropna = False)"
   ]
  },
  {
   "cell_type": "code",
   "execution_count": 17,
   "id": "24629f43",
   "metadata": {},
   "outputs": [
    {
     "data": {
      "image/png": "[encoded data removed]",
      "text/plain": [
       "<Figure size 432x288 with 1 Axes>"
      ]
     },
     "metadata": {
      "needs_background": "light"
     },
     "output_type": "display_data"
    }
   ],
   "source": [
    "sns.boxplot(df.LotFrontage);"
   ]
  },
  {
   "cell_type": "code",
   "execution_count": 18,
   "id": "1b313cd0",
   "metadata": {},
   "outputs": [
    {
     "data": {
      "image/png": "[encoded data removed]",
      "text/plain": [
       "<Figure size 432x288 with 1 Axes>"
      ]
     },
     "metadata": {
      "needs_background": "light"
     },
     "output_type": "display_data"
    }
   ],
   "source": [
    "sns.histplot(df.LotFrontage);"
   ]
  },
  {
   "cell_type": "code",
   "execution_count": 19,
   "id": "facd563d",
   "metadata": {},
   "outputs": [
    {
     "data": {
      "text/plain": [
       "69.30579531442663"
      ]
     },
     "execution_count": 19,
     "metadata": {},
     "output_type": "execute_result"
    }
   ],
   "source": [
    "df.LotFrontage.mean()"
   ]
  },
  {
   "cell_type": "code",
   "execution_count": 20,
   "id": "c0d09f7e",
   "metadata": {},
   "outputs": [],
   "source": [
    "df.LotFrontage.fillna(df.LotFrontage.mean(), inplace=True)"
   ]
  },
  {
   "cell_type": "code",
   "execution_count": 21,
   "id": "65aac7de",
   "metadata": {},
   "outputs": [
    {
     "data": {
      "text/plain": [
       "69.305795     486\n",
       "60.000000     276\n",
       "80.000000     137\n",
       "70.000000     133\n",
       "50.000000     117\n",
       "             ... \n",
       "144.000000      1\n",
       "111.000000      1\n",
       "123.000000      1\n",
       "155.000000      1\n",
       "31.000000       1\n",
       "Name: LotFrontage, Length: 129, dtype: int64"
      ]
     },
     "execution_count": 21,
     "metadata": {},
     "output_type": "execute_result"
    }
   ],
   "source": [
    "df.LotFrontage.value_counts(dropna = False)"
   ]
  },
  {
   "cell_type": "markdown",
   "id": "3833e192",
   "metadata": {},
   "source": [
    "<br>"
   ]
  },
  {
   "cell_type": "markdown",
   "id": "62ce9de3",
   "metadata": {},
   "source": [
    "## Alley"
   ]
  },
  {
   "cell_type": "code",
   "execution_count": 22,
   "id": "4e37195d",
   "metadata": {},
   "outputs": [
    {
     "data": {
      "text/plain": [
       "NaN     2721\n",
       "Grvl     120\n",
       "Pave      78\n",
       "Name: Alley, dtype: int64"
      ]
     },
     "execution_count": 22,
     "metadata": {},
     "output_type": "execute_result"
    }
   ],
   "source": [
    "df.Alley.value_counts(dropna = False)"
   ]
  },
  {
   "cell_type": "code",
   "execution_count": 23,
   "id": "01e8d169",
   "metadata": {},
   "outputs": [
    {
     "data": {
      "image/png": "[encoded data removed]",
      "text/plain": [
       "<Figure size 432x288 with 1 Axes>"
      ]
     },
     "metadata": {
      "needs_background": "light"
     },
     "output_type": "display_data"
    }
   ],
   "source": [
    "sns.boxplot(df[df.Alley == 'Grvl'].SalePrice);"
   ]
  },
  {
   "cell_type": "code",
   "execution_count": 24,
   "id": "c4effa85",
   "metadata": {},
   "outputs": [
    {
     "data": {
      "image/png": "[encoded data removed]",
      "text/plain": [
       "<Figure size 432x288 with 1 Axes>"
      ]
     },
     "metadata": {
      "needs_background": "light"
     },
     "output_type": "display_data"
    }
   ],
   "source": [
    "sns.boxplot(df[df.Alley == 'Pave'].SalePrice);"
   ]
  },
  {
   "cell_type": "code",
   "execution_count": 25,
   "id": "674136d9",
   "metadata": {},
   "outputs": [],
   "source": [
    "df.drop('Alley', axis = 1, inplace = True)"
   ]
  },
  {
   "cell_type": "code",
   "execution_count": 26,
   "id": "06144629",
   "metadata": {},
   "outputs": [
    {
     "name": "stdout",
     "output_type": "stream",
     "text": [
      "['Utilities', 'Exterior1st', 'Exterior2nd', 'MasVnrType', 'MasVnrArea', 'BsmtQual', 'BsmtCond', 'BsmtExposure', 'BsmtFinType1', 'BsmtFinSF1', 'BsmtFinType2', 'BsmtFinSF2', 'BsmtUnfSF', 'TotalBsmtSF', 'Electrical', 'BsmtFullBath', 'BsmtHalfBath', 'KitchenQual', 'Functional', 'FireplaceQu', 'GarageType', 'GarageYrBlt', 'GarageFinish', 'GarageCars', 'GarageArea', 'GarageQual', 'GarageCond', 'PoolQC', 'Fence', 'MiscFeature', 'SaleType', 'SalePrice']\n"
     ]
    }
   ],
   "source": [
    "null_columns(df)"
   ]
  },
  {
   "cell_type": "markdown",
   "id": "bb2f6811",
   "metadata": {},
   "source": [
    "<br>"
   ]
  },
  {
   "cell_type": "markdown",
   "id": "4416bda9",
   "metadata": {},
   "source": [
    "##  Utilities"
   ]
  },
  {
   "cell_type": "code",
   "execution_count": 27,
   "id": "9bd40f03",
   "metadata": {},
   "outputs": [
    {
     "data": {
      "text/plain": [
       "AllPub    2916\n",
       "NaN          2\n",
       "NoSeWa       1\n",
       "Name: Utilities, dtype: int64"
      ]
     },
     "execution_count": 27,
     "metadata": {},
     "output_type": "execute_result"
    }
   ],
   "source": [
    "df.Utilities.value_counts(dropna=False)"
   ]
  },
  {
   "cell_type": "code",
   "execution_count": 28,
   "id": "a27eb7f9",
   "metadata": {},
   "outputs": [],
   "source": [
    "Utilities_index = df[df.Utilities.isnull()].index\n",
    "df.Utilities.loc[Utilities_index] = df.Utilities.loc[Utilities_index].fillna('AllPub')"
   ]
  },
  {
   "cell_type": "code",
   "execution_count": 29,
   "id": "6c6e3955",
   "metadata": {},
   "outputs": [
    {
     "name": "stdout",
     "output_type": "stream",
     "text": [
      "['Exterior1st', 'Exterior2nd', 'MasVnrType', 'MasVnrArea', 'BsmtQual', 'BsmtCond', 'BsmtExposure', 'BsmtFinType1', 'BsmtFinSF1', 'BsmtFinType2', 'BsmtFinSF2', 'BsmtUnfSF', 'TotalBsmtSF', 'Electrical', 'BsmtFullBath', 'BsmtHalfBath', 'KitchenQual', 'Functional', 'FireplaceQu', 'GarageType', 'GarageYrBlt', 'GarageFinish', 'GarageCars', 'GarageArea', 'GarageQual', 'GarageCond', 'PoolQC', 'Fence', 'MiscFeature', 'SaleType', 'SalePrice']\n"
     ]
    }
   ],
   "source": [
    "null_columns(df)"
   ]
  },
  {
   "cell_type": "markdown",
   "id": "bf8f2b96",
   "metadata": {},
   "source": [
    "<br>"
   ]
  },
  {
   "cell_type": "code",
   "execution_count": 30,
   "id": "ae83604d",
   "metadata": {},
   "outputs": [
    {
     "data": {
      "text/plain": [
       "VinylSd    1025\n",
       "MetalSd     450\n",
       "HdBoard     442\n",
       "Wd Sdng     411\n",
       "Plywood     221\n",
       "CemntBd     126\n",
       "BrkFace      87\n",
       "WdShing      56\n",
       "AsbShng      44\n",
       "Stucco       43\n",
       "BrkComm       6\n",
       "Stone         2\n",
       "CBlock        2\n",
       "AsphShn       2\n",
       "NaN           1\n",
       "ImStucc       1\n",
       "Name: Exterior1st, dtype: int64"
      ]
     },
     "execution_count": 30,
     "metadata": {},
     "output_type": "execute_result"
    }
   ],
   "source": [
    "df.Exterior1st.value_counts(dropna = False)"
   ]
  },
  {
   "cell_type": "code",
   "execution_count": 31,
   "id": "a12fb6d8",
   "metadata": {},
   "outputs": [],
   "source": [
    "Ext_1_index = df[df.Exterior1st.isnull()].index\n",
    "df.Exterior1st.loc[Ext_1_index] = df.Exterior1st.loc[Ext_1_index].fillna('Other')"
   ]
  },
  {
   "cell_type": "code",
   "execution_count": 32,
   "id": "0eb20213",
   "metadata": {},
   "outputs": [],
   "source": [
    "Ext_1_index_2 = df[(df.Exterior1st == 'CBlock') | (df.Exterior1st == 'AsphShn') | (df.Exterior1st == 'BrkComm') | (df.Exterior1st == 'Stone') |(df.Exterior1st == 'ImStucc') ].index"
   ]
  },
  {
   "cell_type": "code",
   "execution_count": 33,
   "id": "3da9066e",
   "metadata": {},
   "outputs": [],
   "source": [
    "df.Exterior1st.loc[Ext_1_index_2] = 'Other'"
   ]
  },
  {
   "cell_type": "code",
   "execution_count": 34,
   "id": "57b09c03",
   "metadata": {},
   "outputs": [
    {
     "name": "stdout",
     "output_type": "stream",
     "text": [
      "['Exterior2nd', 'MasVnrType', 'MasVnrArea', 'BsmtQual', 'BsmtCond', 'BsmtExposure', 'BsmtFinType1', 'BsmtFinSF1', 'BsmtFinType2', 'BsmtFinSF2', 'BsmtUnfSF', 'TotalBsmtSF', 'Electrical', 'BsmtFullBath', 'BsmtHalfBath', 'KitchenQual', 'Functional', 'FireplaceQu', 'GarageType', 'GarageYrBlt', 'GarageFinish', 'GarageCars', 'GarageArea', 'GarageQual', 'GarageCond', 'PoolQC', 'Fence', 'MiscFeature', 'SaleType', 'SalePrice']\n"
     ]
    }
   ],
   "source": [
    "null_columns(df)"
   ]
  },
  {
   "cell_type": "markdown",
   "id": "6a9a386a",
   "metadata": {},
   "source": [
    "<br>"
   ]
  },
  {
   "cell_type": "markdown",
   "id": "6363eabb",
   "metadata": {},
   "source": [
    "## Exterior2nd"
   ]
  },
  {
   "cell_type": "code",
   "execution_count": 35,
   "id": "3cb210b0",
   "metadata": {},
   "outputs": [
    {
     "data": {
      "text/plain": [
       "VinylSd    1014\n",
       "MetalSd     447\n",
       "HdBoard     406\n",
       "Wd Sdng     391\n",
       "Plywood     270\n",
       "CmentBd     126\n",
       "Wd Shng      81\n",
       "BrkFace      47\n",
       "Stucco       47\n",
       "AsbShng      38\n",
       "Brk Cmn      22\n",
       "ImStucc      15\n",
       "Stone         6\n",
       "AsphShn       4\n",
       "CBlock        3\n",
       "Other         1\n",
       "NaN           1\n",
       "Name: Exterior2nd, dtype: int64"
      ]
     },
     "execution_count": 35,
     "metadata": {},
     "output_type": "execute_result"
    }
   ],
   "source": [
    "df.Exterior2nd.value_counts(dropna = False)"
   ]
  },
  {
   "cell_type": "code",
   "execution_count": 36,
   "id": "3ea3365f",
   "metadata": {},
   "outputs": [],
   "source": [
    "Ext_2_index = df[df.Exterior2nd.isnull()].index\n",
    "df.Exterior2nd.loc[Ext_2_index] = df.Exterior2nd.loc[Ext_2_index].fillna('Other')"
   ]
  },
  {
   "cell_type": "code",
   "execution_count": 37,
   "id": "ab4d08fe",
   "metadata": {},
   "outputs": [],
   "source": [
    "Ext_2_index_2 = df[(df.Exterior2nd == 'CBlock') | (df.Exterior2nd == 'AsphShn') | (df.Exterior2nd == 'Brk Cmn') | (df.Exterior2nd == 'Stone') |(df.Exterior2nd == 'ImStucc') ].index"
   ]
  },
  {
   "cell_type": "code",
   "execution_count": 38,
   "id": "39374557",
   "metadata": {},
   "outputs": [],
   "source": [
    "df.Exterior2nd.loc[Ext_2_index_2] = 'Other'"
   ]
  },
  {
   "cell_type": "code",
   "execution_count": 39,
   "id": "3472548e",
   "metadata": {},
   "outputs": [
    {
     "name": "stdout",
     "output_type": "stream",
     "text": [
      "['MasVnrType', 'MasVnrArea', 'BsmtQual', 'BsmtCond', 'BsmtExposure', 'BsmtFinType1', 'BsmtFinSF1', 'BsmtFinType2', 'BsmtFinSF2', 'BsmtUnfSF', 'TotalBsmtSF', 'Electrical', 'BsmtFullBath', 'BsmtHalfBath', 'KitchenQual', 'Functional', 'FireplaceQu', 'GarageType', 'GarageYrBlt', 'GarageFinish', 'GarageCars', 'GarageArea', 'GarageQual', 'GarageCond', 'PoolQC', 'Fence', 'MiscFeature', 'SaleType', 'SalePrice']\n"
     ]
    }
   ],
   "source": [
    "null_columns(df)"
   ]
  },
  {
   "cell_type": "markdown",
   "id": "16241249",
   "metadata": {},
   "source": [
    "<br>"
   ]
  },
  {
   "cell_type": "markdown",
   "id": "abf93f35",
   "metadata": {},
   "source": [
    "## MasVnrType"
   ]
  },
  {
   "cell_type": "code",
   "execution_count": 40,
   "id": "81438b5f",
   "metadata": {},
   "outputs": [
    {
     "data": {
      "text/plain": [
       "None       1742\n",
       "BrkFace     879\n",
       "Stone       249\n",
       "BrkCmn       25\n",
       "NaN          24\n",
       "Name: MasVnrType, dtype: int64"
      ]
     },
     "execution_count": 40,
     "metadata": {},
     "output_type": "execute_result"
    }
   ],
   "source": [
    "df.MasVnrType.value_counts(dropna = False)"
   ]
  },
  {
   "cell_type": "code",
   "execution_count": 41,
   "id": "1281e53e",
   "metadata": {},
   "outputs": [],
   "source": [
    "df.MasVnrType.fillna('None', inplace = True)"
   ]
  },
  {
   "cell_type": "code",
   "execution_count": 42,
   "id": "321af61e",
   "metadata": {},
   "outputs": [
    {
     "data": {
      "text/plain": [
       "None       1766\n",
       "BrkFace     879\n",
       "Stone       249\n",
       "BrkCmn       25\n",
       "Name: MasVnrType, dtype: int64"
      ]
     },
     "execution_count": 42,
     "metadata": {},
     "output_type": "execute_result"
    }
   ],
   "source": [
    "df.MasVnrType.value_counts(dropna = False)"
   ]
  },
  {
   "cell_type": "markdown",
   "id": "afe3d6f6",
   "metadata": {},
   "source": [
    "<br>"
   ]
  },
  {
   "cell_type": "markdown",
   "id": "d885416c",
   "metadata": {},
   "source": [
    "## MasVnrArea"
   ]
  },
  {
   "cell_type": "code",
   "execution_count": 43,
   "id": "b861abbf",
   "metadata": {},
   "outputs": [
    {
     "data": {
      "text/plain": [
       "0.0       1738\n",
       "NaN         23\n",
       "120.0       15\n",
       "200.0       13\n",
       "176.0       13\n",
       "          ... \n",
       "571.0        1\n",
       "207.0        1\n",
       "34.0         1\n",
       "550.0        1\n",
       "1159.0       1\n",
       "Name: MasVnrArea, Length: 445, dtype: int64"
      ]
     },
     "execution_count": 43,
     "metadata": {},
     "output_type": "execute_result"
    }
   ],
   "source": [
    "df.MasVnrArea.value_counts(dropna = False)"
   ]
  },
  {
   "cell_type": "code",
   "execution_count": 44,
   "id": "35a7a359",
   "metadata": {},
   "outputs": [],
   "source": [
    "df.MasVnrArea.fillna(0, inplace = True)"
   ]
  },
  {
   "cell_type": "markdown",
   "id": "5c769333",
   "metadata": {},
   "source": [
    "<br>"
   ]
  },
  {
   "cell_type": "markdown",
   "id": "dca5e851",
   "metadata": {},
   "source": [
    "## BsmtQual"
   ]
  },
  {
   "cell_type": "code",
   "execution_count": 45,
   "id": "16c57cd2",
   "metadata": {},
   "outputs": [
    {
     "data": {
      "text/plain": [
       "TA     1283\n",
       "Gd     1209\n",
       "Ex      258\n",
       "Fa       88\n",
       "NaN      81\n",
       "Name: BsmtQual, dtype: int64"
      ]
     },
     "execution_count": 45,
     "metadata": {},
     "output_type": "execute_result"
    }
   ],
   "source": [
    "df.BsmtQual.value_counts(dropna = False)"
   ]
  },
  {
   "cell_type": "code",
   "execution_count": 46,
   "id": "53f99eba",
   "metadata": {},
   "outputs": [
    {
     "data": {
      "image/png": "[encoded data removed]",
      "text/plain": [
       "<Figure size 432x288 with 1 Axes>"
      ]
     },
     "metadata": {
      "needs_background": "light"
     },
     "output_type": "display_data"
    }
   ],
   "source": [
    "sns.barplot(x = df.BsmtQual, y = df.SalePrice);"
   ]
  },
  {
   "cell_type": "code",
   "execution_count": 47,
   "id": "66e62021",
   "metadata": {},
   "outputs": [],
   "source": [
    "df.BsmtQual.fillna('NoBsmt', inplace = True)"
   ]
  },
  {
   "cell_type": "markdown",
   "id": "c097c62d",
   "metadata": {},
   "source": [
    "<br>"
   ]
  },
  {
   "cell_type": "markdown",
   "id": "284f334b",
   "metadata": {},
   "source": [
    "## BsmtCond"
   ]
  },
  {
   "cell_type": "code",
   "execution_count": 48,
   "id": "ec53e07e",
   "metadata": {},
   "outputs": [
    {
     "data": {
      "text/plain": [
       "TA     2606\n",
       "Gd      122\n",
       "Fa      104\n",
       "NaN      82\n",
       "Po        5\n",
       "Name: BsmtCond, dtype: int64"
      ]
     },
     "execution_count": 48,
     "metadata": {},
     "output_type": "execute_result"
    }
   ],
   "source": [
    "df.BsmtCond.value_counts(dropna = False)"
   ]
  },
  {
   "cell_type": "code",
   "execution_count": 49,
   "id": "32be90ea",
   "metadata": {},
   "outputs": [],
   "source": [
    "df.BsmtCond.fillna('NoBsmt', inplace = True)"
   ]
  },
  {
   "cell_type": "markdown",
   "id": "fd7ce15c",
   "metadata": {},
   "source": [
    "<br>"
   ]
  },
  {
   "cell_type": "markdown",
   "id": "ff25c233",
   "metadata": {},
   "source": [
    "## BsmtExposure"
   ]
  },
  {
   "cell_type": "code",
   "execution_count": 50,
   "id": "131b2132",
   "metadata": {},
   "outputs": [
    {
     "data": {
      "text/plain": [
       "No     1904\n",
       "Av      418\n",
       "Gd      276\n",
       "Mn      239\n",
       "NaN      82\n",
       "Name: BsmtExposure, dtype: int64"
      ]
     },
     "execution_count": 50,
     "metadata": {},
     "output_type": "execute_result"
    }
   ],
   "source": [
    "df.BsmtExposure.value_counts(dropna = False)"
   ]
  },
  {
   "cell_type": "code",
   "execution_count": 51,
   "id": "f3248fc0",
   "metadata": {},
   "outputs": [],
   "source": [
    "df.BsmtExposure.fillna('NoBsmt', inplace = True)"
   ]
  },
  {
   "cell_type": "code",
   "execution_count": 52,
   "id": "f523b593",
   "metadata": {},
   "outputs": [
    {
     "name": "stdout",
     "output_type": "stream",
     "text": [
      "['BsmtFinType1', 'BsmtFinSF1', 'BsmtFinType2', 'BsmtFinSF2', 'BsmtUnfSF', 'TotalBsmtSF', 'Electrical', 'BsmtFullBath', 'BsmtHalfBath', 'KitchenQual', 'Functional', 'FireplaceQu', 'GarageType', 'GarageYrBlt', 'GarageFinish', 'GarageCars', 'GarageArea', 'GarageQual', 'GarageCond', 'PoolQC', 'Fence', 'MiscFeature', 'SaleType', 'SalePrice']\n"
     ]
    }
   ],
   "source": [
    "null_columns(df)"
   ]
  },
  {
   "cell_type": "markdown",
   "id": "239313e7",
   "metadata": {},
   "source": [
    "<br>"
   ]
  },
  {
   "cell_type": "markdown",
   "id": "9b0e9d5c",
   "metadata": {},
   "source": [
    "## BsmtFinType1"
   ]
  },
  {
   "cell_type": "code",
   "execution_count": 53,
   "id": "951fb1bf",
   "metadata": {},
   "outputs": [
    {
     "data": {
      "text/plain": [
       "Unf    851\n",
       "GLQ    849\n",
       "ALQ    429\n",
       "Rec    288\n",
       "BLQ    269\n",
       "LwQ    154\n",
       "NaN     79\n",
       "Name: BsmtFinType1, dtype: int64"
      ]
     },
     "execution_count": 53,
     "metadata": {},
     "output_type": "execute_result"
    }
   ],
   "source": [
    "df.BsmtFinType1.value_counts(dropna = False)"
   ]
  },
  {
   "cell_type": "code",
   "execution_count": 54,
   "id": "925bb3a6",
   "metadata": {},
   "outputs": [],
   "source": [
    "df.BsmtFinType1.fillna('NoBsmt', inplace = True)"
   ]
  },
  {
   "cell_type": "markdown",
   "id": "5cf0a60d",
   "metadata": {},
   "source": [
    "<br>"
   ]
  },
  {
   "cell_type": "markdown",
   "id": "ca66b844",
   "metadata": {},
   "source": [
    "## BsmtFinType2"
   ]
  },
  {
   "cell_type": "code",
   "execution_count": 55,
   "id": "6c523d9b",
   "metadata": {},
   "outputs": [
    {
     "data": {
      "text/plain": [
       "Unf    2493\n",
       "Rec     105\n",
       "LwQ      87\n",
       "NaN      80\n",
       "BLQ      68\n",
       "ALQ      52\n",
       "GLQ      34\n",
       "Name: BsmtFinType2, dtype: int64"
      ]
     },
     "execution_count": 55,
     "metadata": {},
     "output_type": "execute_result"
    }
   ],
   "source": [
    "df.BsmtFinType2.value_counts(dropna = False)"
   ]
  },
  {
   "cell_type": "code",
   "execution_count": 56,
   "id": "83f4a36e",
   "metadata": {},
   "outputs": [],
   "source": [
    "df.BsmtFinType2.fillna('NoBsmt', inplace = True)"
   ]
  },
  {
   "cell_type": "markdown",
   "id": "a8cf12ef",
   "metadata": {},
   "source": [
    "<br>"
   ]
  },
  {
   "cell_type": "markdown",
   "id": "f08971c6",
   "metadata": {},
   "source": [
    "## BsmtFinSF1"
   ]
  },
  {
   "cell_type": "code",
   "execution_count": 57,
   "id": "4d8147fb",
   "metadata": {},
   "outputs": [
    {
     "data": {
      "text/plain": [
       "0.0       929\n",
       "24.0       27\n",
       "16.0       14\n",
       "300.0       9\n",
       "384.0       8\n",
       "         ... \n",
       "952.0       1\n",
       "607.0       1\n",
       "440.0       1\n",
       "1236.0      1\n",
       "344.0       1\n",
       "Name: BsmtFinSF1, Length: 992, dtype: int64"
      ]
     },
     "execution_count": 57,
     "metadata": {},
     "output_type": "execute_result"
    }
   ],
   "source": [
    "df.BsmtFinSF1.value_counts(dropna = False)"
   ]
  },
  {
   "cell_type": "code",
   "execution_count": 58,
   "id": "824ae419",
   "metadata": {},
   "outputs": [
    {
     "data": {
      "text/plain": [
       "Int64Index([2121], dtype='int64', name='Id')"
      ]
     },
     "execution_count": 58,
     "metadata": {},
     "output_type": "execute_result"
    }
   ],
   "source": [
    "df[df.BsmtFinSF1.isnull()].index"
   ]
  },
  {
   "cell_type": "code",
   "execution_count": 59,
   "id": "61ecd61f",
   "metadata": {},
   "outputs": [],
   "source": [
    "df.drop(index = df[df.BsmtFinSF1.isnull()].index, inplace=True)"
   ]
  },
  {
   "cell_type": "markdown",
   "id": "ca9f39d9",
   "metadata": {},
   "source": [
    "<br>"
   ]
  },
  {
   "cell_type": "markdown",
   "id": "1c007f88",
   "metadata": {},
   "source": [
    "## BsmtFinSF2"
   ]
  },
  {
   "cell_type": "code",
   "execution_count": 60,
   "id": "7dd322c1",
   "metadata": {},
   "outputs": [
    {
     "data": {
      "text/plain": [
       "0.0      2571\n",
       "294.0       5\n",
       "180.0       5\n",
       "168.0       3\n",
       "162.0       3\n",
       "         ... \n",
       "382.0       1\n",
       "449.0       1\n",
       "350.0       1\n",
       "499.0       1\n",
       "208.0       1\n",
       "Name: BsmtFinSF2, Length: 272, dtype: int64"
      ]
     },
     "execution_count": 60,
     "metadata": {},
     "output_type": "execute_result"
    }
   ],
   "source": [
    "df.BsmtFinSF2.value_counts(dropna = False)"
   ]
  },
  {
   "cell_type": "code",
   "execution_count": 61,
   "id": "443750ac",
   "metadata": {},
   "outputs": [
    {
     "data": {
      "text/html": [
       "<div>\n",
       "<style scoped>\n",
       "    .dataframe tbody tr th:only-of-type {\n",
       "        vertical-align: middle;\n",
       "    }\n",
       "\n",
       "    .dataframe tbody tr th {\n",
       "        vertical-align: top;\n",
       "    }\n",
       "\n",
       "    .dataframe thead th {\n",
       "        text-align: right;\n",
       "    }\n",
       "</style>\n",
       "<table border=\"1\" class=\"dataframe\">\n",
       "  <thead>\n",
       "    <tr style=\"text-align: right;\">\n",
       "      <th></th>\n",
       "      <th>MSSubClass</th>\n",
       "      <th>MSZoning</th>\n",
       "      <th>LotFrontage</th>\n",
       "      <th>LotArea</th>\n",
       "      <th>Street</th>\n",
       "      <th>LotShape</th>\n",
       "      <th>LandContour</th>\n",
       "      <th>Utilities</th>\n",
       "      <th>LotConfig</th>\n",
       "      <th>LandSlope</th>\n",
       "      <th>...</th>\n",
       "      <th>PoolArea</th>\n",
       "      <th>PoolQC</th>\n",
       "      <th>Fence</th>\n",
       "      <th>MiscFeature</th>\n",
       "      <th>MiscVal</th>\n",
       "      <th>MoSold</th>\n",
       "      <th>YrSold</th>\n",
       "      <th>SaleType</th>\n",
       "      <th>SaleCondition</th>\n",
       "      <th>SalePrice</th>\n",
       "    </tr>\n",
       "    <tr>\n",
       "      <th>Id</th>\n",
       "      <th></th>\n",
       "      <th></th>\n",
       "      <th></th>\n",
       "      <th></th>\n",
       "      <th></th>\n",
       "      <th></th>\n",
       "      <th></th>\n",
       "      <th></th>\n",
       "      <th></th>\n",
       "      <th></th>\n",
       "      <th></th>\n",
       "      <th></th>\n",
       "      <th></th>\n",
       "      <th></th>\n",
       "      <th></th>\n",
       "      <th></th>\n",
       "      <th></th>\n",
       "      <th></th>\n",
       "      <th></th>\n",
       "      <th></th>\n",
       "      <th></th>\n",
       "    </tr>\n",
       "  </thead>\n",
       "  <tbody>\n",
       "  </tbody>\n",
       "</table>\n",
       "<p>0 rows × 79 columns</p>\n",
       "</div>"
      ],
      "text/plain": [
       "Empty DataFrame\n",
       "Columns: [MSSubClass, MSZoning, LotFrontage, LotArea, Street, LotShape, LandContour, Utilities, LotConfig, LandSlope, Neighborhood, Condition1, Condition2, BldgType, HouseStyle, OverallQual, OverallCond, YearBuilt, YearRemodAdd, RoofStyle, RoofMatl, Exterior1st, Exterior2nd, MasVnrType, MasVnrArea, ExterQual, ExterCond, Foundation, BsmtQual, BsmtCond, BsmtExposure, BsmtFinType1, BsmtFinSF1, BsmtFinType2, BsmtFinSF2, BsmtUnfSF, TotalBsmtSF, Heating, HeatingQC, CentralAir, Electrical, 1stFlrSF, 2ndFlrSF, LowQualFinSF, GrLivArea, BsmtFullBath, BsmtHalfBath, FullBath, HalfBath, BedroomAbvGr, KitchenAbvGr, KitchenQual, TotRmsAbvGrd, Functional, Fireplaces, FireplaceQu, GarageType, GarageYrBlt, GarageFinish, GarageCars, GarageArea, GarageQual, GarageCond, PavedDrive, WoodDeckSF, OpenPorchSF, EnclosedPorch, 3SsnPorch, ScreenPorch, PoolArea, PoolQC, Fence, MiscFeature, MiscVal, MoSold, YrSold, SaleType, SaleCondition, SalePrice]\n",
       "Index: []\n",
       "\n",
       "[0 rows x 79 columns]"
      ]
     },
     "execution_count": 61,
     "metadata": {},
     "output_type": "execute_result"
    }
   ],
   "source": [
    "df[df.BsmtFinSF2.isnull()]"
   ]
  },
  {
   "cell_type": "markdown",
   "id": "04f065db",
   "metadata": {},
   "source": [
    "<br>"
   ]
  },
  {
   "cell_type": "markdown",
   "id": "bb39ada6",
   "metadata": {},
   "source": [
    "## Electrical"
   ]
  },
  {
   "cell_type": "code",
   "execution_count": 62,
   "id": "5ccb33c2",
   "metadata": {},
   "outputs": [
    {
     "data": {
      "text/plain": [
       "SBrkr    2671\n",
       "FuseA     187\n",
       "FuseF      50\n",
       "FuseP       8\n",
       "NaN         1\n",
       "Mix         1\n",
       "Name: Electrical, dtype: int64"
      ]
     },
     "execution_count": 62,
     "metadata": {},
     "output_type": "execute_result"
    }
   ],
   "source": [
    "df.Electrical.value_counts(dropna = False)"
   ]
  },
  {
   "cell_type": "code",
   "execution_count": 63,
   "id": "3b105daa",
   "metadata": {},
   "outputs": [],
   "source": [
    "nan_index_el = df[df.Electrical.isnull()].index\n",
    "df.drop(index = nan_index_el, inplace = True)"
   ]
  },
  {
   "cell_type": "code",
   "execution_count": 64,
   "id": "0cef2699",
   "metadata": {},
   "outputs": [
    {
     "name": "stdout",
     "output_type": "stream",
     "text": [
      "['BsmtFullBath', 'BsmtHalfBath', 'KitchenQual', 'Functional', 'FireplaceQu', 'GarageType', 'GarageYrBlt', 'GarageFinish', 'GarageCars', 'GarageArea', 'GarageQual', 'GarageCond', 'PoolQC', 'Fence', 'MiscFeature', 'SaleType', 'SalePrice']\n"
     ]
    }
   ],
   "source": [
    "null_columns(df)"
   ]
  },
  {
   "cell_type": "markdown",
   "id": "c61b1239",
   "metadata": {},
   "source": [
    "<br>"
   ]
  },
  {
   "cell_type": "markdown",
   "id": "d4e95253",
   "metadata": {},
   "source": [
    "## BsmtFullBath"
   ]
  },
  {
   "cell_type": "code",
   "execution_count": 65,
   "id": "4dd819d8",
   "metadata": {},
   "outputs": [
    {
     "data": {
      "text/plain": [
       "0.0    1704\n",
       "1.0    1172\n",
       "2.0      38\n",
       "3.0       2\n",
       "NaN       1\n",
       "Name: BsmtFullBath, dtype: int64"
      ]
     },
     "execution_count": 65,
     "metadata": {},
     "output_type": "execute_result"
    }
   ],
   "source": [
    "df.BsmtFullBath.value_counts(dropna = False)"
   ]
  },
  {
   "cell_type": "code",
   "execution_count": 66,
   "id": "5e7a9529",
   "metadata": {},
   "outputs": [
    {
     "data": {
      "text/plain": [
       "Int64Index([2189], dtype='int64', name='Id')"
      ]
     },
     "execution_count": 66,
     "metadata": {},
     "output_type": "execute_result"
    }
   ],
   "source": [
    "df[df.BsmtFullBath.isnull()].index"
   ]
  },
  {
   "cell_type": "code",
   "execution_count": 67,
   "id": "a5970b14",
   "metadata": {},
   "outputs": [],
   "source": [
    "df.BsmtFullBath.loc[df[df.BsmtFullBath.isnull()].index] = 0"
   ]
  },
  {
   "cell_type": "markdown",
   "id": "2e04268c",
   "metadata": {},
   "source": [
    "<br>"
   ]
  },
  {
   "cell_type": "markdown",
   "id": "b61e8218",
   "metadata": {},
   "source": [
    "## BsmtHalfBath"
   ]
  },
  {
   "cell_type": "code",
   "execution_count": 68,
   "id": "62280680",
   "metadata": {},
   "outputs": [
    {
     "data": {
      "text/plain": [
       "0.0    2741\n",
       "1.0     171\n",
       "2.0       4\n",
       "NaN       1\n",
       "Name: BsmtHalfBath, dtype: int64"
      ]
     },
     "execution_count": 68,
     "metadata": {},
     "output_type": "execute_result"
    }
   ],
   "source": [
    "df.BsmtHalfBath.value_counts(dropna = False)"
   ]
  },
  {
   "cell_type": "code",
   "execution_count": 69,
   "id": "41955f55",
   "metadata": {},
   "outputs": [],
   "source": [
    "df[df.BsmtHalfBath.isnull()].index\n",
    "df.BsmtHalfBath.loc[df[df.BsmtHalfBath.isnull()].index] = 0"
   ]
  },
  {
   "cell_type": "markdown",
   "id": "33312127",
   "metadata": {},
   "source": [
    "<br>"
   ]
  },
  {
   "cell_type": "markdown",
   "id": "060c1f4a",
   "metadata": {},
   "source": [
    "## KitchenQual"
   ]
  },
  {
   "cell_type": "code",
   "execution_count": 70,
   "id": "962cc1d0",
   "metadata": {},
   "outputs": [
    {
     "data": {
      "text/plain": [
       "TA     1491\n",
       "Gd     1150\n",
       "Ex      205\n",
       "Fa       70\n",
       "NaN       1\n",
       "Name: KitchenQual, dtype: int64"
      ]
     },
     "execution_count": 70,
     "metadata": {},
     "output_type": "execute_result"
    }
   ],
   "source": [
    "df.KitchenQual.value_counts(dropna = False)"
   ]
  },
  {
   "cell_type": "code",
   "execution_count": 71,
   "id": "4f355911",
   "metadata": {},
   "outputs": [],
   "source": [
    "import random\n",
    "\n",
    "df['KitchenQual'].fillna(random.choice(df['KitchenQual'][df['KitchenQual'].notna()]), inplace = True)"
   ]
  },
  {
   "cell_type": "markdown",
   "id": "be6bd778",
   "metadata": {},
   "source": [
    "<br>"
   ]
  },
  {
   "cell_type": "markdown",
   "id": "bbed8510",
   "metadata": {},
   "source": [
    "## Functional"
   ]
  },
  {
   "cell_type": "code",
   "execution_count": 72,
   "id": "6548b0be",
   "metadata": {},
   "outputs": [
    {
     "data": {
      "text/plain": [
       "Typ     2715\n",
       "Min2      70\n",
       "Min1      65\n",
       "Mod       35\n",
       "Maj1      19\n",
       "Maj2       9\n",
       "NaN        2\n",
       "Sev        2\n",
       "Name: Functional, dtype: int64"
      ]
     },
     "execution_count": 72,
     "metadata": {},
     "output_type": "execute_result"
    }
   ],
   "source": [
    "df.Functional.value_counts(dropna = False)"
   ]
  },
  {
   "cell_type": "code",
   "execution_count": 73,
   "id": "63a149ef",
   "metadata": {},
   "outputs": [],
   "source": [
    "df_Func_index = df[(df.Functional == 'Sev') | (df.Functional == 'Maj2') | (df.Functional == 'Maj1') | (df.Functional.isnull())].index"
   ]
  },
  {
   "cell_type": "code",
   "execution_count": 74,
   "id": "ebbe4560",
   "metadata": {},
   "outputs": [],
   "source": [
    "df.Functional.loc[df_Func_index] = 'Other'"
   ]
  },
  {
   "cell_type": "markdown",
   "id": "8cc0e371",
   "metadata": {},
   "source": [
    "<br>"
   ]
  },
  {
   "cell_type": "markdown",
   "id": "6e7074d6",
   "metadata": {},
   "source": [
    "## FireplaceQu"
   ]
  },
  {
   "cell_type": "code",
   "execution_count": 75,
   "id": "e4f70425",
   "metadata": {},
   "outputs": [
    {
     "data": {
      "text/plain": [
       "NaN    1418\n",
       "Gd      744\n",
       "TA      592\n",
       "Fa       74\n",
       "Po       46\n",
       "Ex       43\n",
       "Name: FireplaceQu, dtype: int64"
      ]
     },
     "execution_count": 75,
     "metadata": {},
     "output_type": "execute_result"
    }
   ],
   "source": [
    "df.FireplaceQu.value_counts(dropna = False)"
   ]
  },
  {
   "cell_type": "code",
   "execution_count": 76,
   "id": "2216a790",
   "metadata": {},
   "outputs": [],
   "source": [
    "df.FireplaceQu.fillna('NoFirePlace', inplace = True)"
   ]
  },
  {
   "cell_type": "code",
   "execution_count": 77,
   "id": "7f179fc6",
   "metadata": {},
   "outputs": [
    {
     "name": "stdout",
     "output_type": "stream",
     "text": [
      "['GarageType', 'GarageYrBlt', 'GarageFinish', 'GarageCars', 'GarageArea', 'GarageQual', 'GarageCond', 'PoolQC', 'Fence', 'MiscFeature', 'SaleType', 'SalePrice']\n"
     ]
    }
   ],
   "source": [
    "null_columns(df)"
   ]
  },
  {
   "cell_type": "markdown",
   "id": "7d7659db",
   "metadata": {},
   "source": [
    "<br>"
   ]
  },
  {
   "cell_type": "markdown",
   "id": "27dae95c",
   "metadata": {},
   "source": [
    "## GarageType"
   ]
  },
  {
   "cell_type": "code",
   "execution_count": 78,
   "id": "7df0f11d",
   "metadata": {},
   "outputs": [
    {
     "data": {
      "text/plain": [
       "Attchd     1723\n",
       "Detchd      778\n",
       "BuiltIn     185\n",
       "NaN         157\n",
       "Basment      36\n",
       "2Types       23\n",
       "CarPort      15\n",
       "Name: GarageType, dtype: int64"
      ]
     },
     "execution_count": 78,
     "metadata": {},
     "output_type": "execute_result"
    }
   ],
   "source": [
    "df.GarageType.value_counts(dropna = False)"
   ]
  },
  {
   "cell_type": "code",
   "execution_count": 79,
   "id": "d0412ccd",
   "metadata": {},
   "outputs": [],
   "source": [
    "df.GarageType.fillna('NoGarage', inplace = True)"
   ]
  },
  {
   "cell_type": "markdown",
   "id": "d846ea40",
   "metadata": {},
   "source": [
    "<br>"
   ]
  },
  {
   "cell_type": "markdown",
   "id": "a6a9a63f",
   "metadata": {},
   "source": [
    "##  GarageYrBlt"
   ]
  },
  {
   "cell_type": "code",
   "execution_count": 80,
   "id": "d6ad33ff",
   "metadata": {},
   "outputs": [
    {
     "data": {
      "text/plain": [
       "NaN       159\n",
       "2005.0    142\n",
       "2006.0    115\n",
       "2007.0    114\n",
       "2004.0     99\n",
       "         ... \n",
       "1908.0      1\n",
       "1919.0      1\n",
       "1896.0      1\n",
       "1933.0      1\n",
       "1943.0      1\n",
       "Name: GarageYrBlt, Length: 104, dtype: int64"
      ]
     },
     "execution_count": 80,
     "metadata": {},
     "output_type": "execute_result"
    }
   ],
   "source": [
    "df.GarageYrBlt.value_counts(dropna = False)"
   ]
  },
  {
   "cell_type": "code",
   "execution_count": 81,
   "id": "8ea3dd8a",
   "metadata": {},
   "outputs": [],
   "source": [
    "df[(df.GarageYrBlt.isna())].GarageYrBlt = df[(df.GarageYrBlt.isna())].YearBuilt"
   ]
  },
  {
   "cell_type": "code",
   "execution_count": 82,
   "id": "bc171a6f",
   "metadata": {},
   "outputs": [],
   "source": [
    "garage_index = df[(df.GarageYrBlt.isna())].index\n",
    "fill_garage = df[(df.GarageYrBlt.isna())].YearBuilt"
   ]
  },
  {
   "cell_type": "code",
   "execution_count": 83,
   "id": "c32cbf9c",
   "metadata": {},
   "outputs": [],
   "source": [
    "df.GarageYrBlt.loc[garage_index] = df.GarageYrBlt.loc[garage_index].fillna(value = fill_garage)"
   ]
  },
  {
   "cell_type": "markdown",
   "id": "1f91e36e",
   "metadata": {},
   "source": [
    "<br>"
   ]
  },
  {
   "cell_type": "markdown",
   "id": "da6ef942",
   "metadata": {},
   "source": [
    "## GarageFinish"
   ]
  },
  {
   "cell_type": "code",
   "execution_count": 84,
   "id": "38b5ef35",
   "metadata": {},
   "outputs": [
    {
     "data": {
      "text/plain": [
       "Unf    1229\n",
       "RFn     811\n",
       "Fin     718\n",
       "NaN     159\n",
       "Name: GarageFinish, dtype: int64"
      ]
     },
     "execution_count": 84,
     "metadata": {},
     "output_type": "execute_result"
    }
   ],
   "source": [
    "df.GarageFinish.value_counts(dropna = False)"
   ]
  },
  {
   "cell_type": "code",
   "execution_count": 85,
   "id": "82bfaf25",
   "metadata": {},
   "outputs": [],
   "source": [
    "df.GarageFinish.fillna('NoGarage', inplace = True)"
   ]
  },
  {
   "cell_type": "code",
   "execution_count": 86,
   "id": "51b18ae2",
   "metadata": {},
   "outputs": [
    {
     "name": "stdout",
     "output_type": "stream",
     "text": [
      "['GarageCars', 'GarageArea', 'GarageQual', 'GarageCond', 'PoolQC', 'Fence', 'MiscFeature', 'SaleType', 'SalePrice']\n"
     ]
    }
   ],
   "source": [
    "null_columns(df)"
   ]
  },
  {
   "cell_type": "markdown",
   "id": "54c320e7",
   "metadata": {},
   "source": [
    "<br>"
   ]
  },
  {
   "cell_type": "markdown",
   "id": "026c02ad",
   "metadata": {},
   "source": [
    "## GarageCars"
   ]
  },
  {
   "cell_type": "code",
   "execution_count": 87,
   "id": "e58dbc97",
   "metadata": {},
   "outputs": [
    {
     "data": {
      "text/plain": [
       "2.0    1593\n",
       "1.0     775\n",
       "3.0     374\n",
       "0.0     157\n",
       "4.0      16\n",
       "5.0       1\n",
       "NaN       1\n",
       "Name: GarageCars, dtype: int64"
      ]
     },
     "execution_count": 87,
     "metadata": {},
     "output_type": "execute_result"
    }
   ],
   "source": [
    "df.GarageCars.value_counts(dropna=False)"
   ]
  },
  {
   "cell_type": "code",
   "execution_count": 88,
   "id": "48e38dd1",
   "metadata": {},
   "outputs": [],
   "source": [
    "df.GarageCars[df.GarageCars.isnull()] = 0"
   ]
  },
  {
   "cell_type": "markdown",
   "id": "eef36162",
   "metadata": {},
   "source": [
    "<br>"
   ]
  },
  {
   "cell_type": "markdown",
   "id": "bd8484c5",
   "metadata": {},
   "source": [
    "## GarageArea"
   ]
  },
  {
   "cell_type": "code",
   "execution_count": 89,
   "id": "01e6084a",
   "metadata": {},
   "outputs": [
    {
     "data": {
      "text/plain": [
       "0.0       157\n",
       "576.0      97\n",
       "440.0      96\n",
       "240.0      69\n",
       "484.0      68\n",
       "         ... \n",
       "475.0       1\n",
       "1110.0      1\n",
       "766.0       1\n",
       "815.0       1\n",
       "428.0       1\n",
       "Name: GarageArea, Length: 604, dtype: int64"
      ]
     },
     "execution_count": 89,
     "metadata": {},
     "output_type": "execute_result"
    }
   ],
   "source": [
    "df.GarageArea.value_counts(dropna=False)"
   ]
  },
  {
   "cell_type": "code",
   "execution_count": 90,
   "id": "c1ec013a",
   "metadata": {},
   "outputs": [
    {
     "data": {
      "text/plain": [
       "Id\n",
       "2577    NoGarage\n",
       "Name: GarageFinish, dtype: object"
      ]
     },
     "execution_count": 90,
     "metadata": {},
     "output_type": "execute_result"
    }
   ],
   "source": [
    "df[df.GarageArea.isnull()].GarageFinish"
   ]
  },
  {
   "cell_type": "code",
   "execution_count": 91,
   "id": "c5ea4e07",
   "metadata": {},
   "outputs": [],
   "source": [
    "df.GarageArea[df.GarageArea.isnull()] = 0"
   ]
  },
  {
   "cell_type": "markdown",
   "id": "a4926814",
   "metadata": {},
   "source": [
    "<br>"
   ]
  },
  {
   "cell_type": "markdown",
   "id": "4da8a359",
   "metadata": {},
   "source": [
    "## GarageQual"
   ]
  },
  {
   "cell_type": "code",
   "execution_count": 92,
   "id": "91471413",
   "metadata": {},
   "outputs": [
    {
     "data": {
      "text/plain": [
       "TA     2602\n",
       "NaN     159\n",
       "Fa      124\n",
       "Gd       24\n",
       "Po        5\n",
       "Ex        3\n",
       "Name: GarageQual, dtype: int64"
      ]
     },
     "execution_count": 92,
     "metadata": {},
     "output_type": "execute_result"
    }
   ],
   "source": [
    "df.GarageQual.value_counts(dropna = False)"
   ]
  },
  {
   "cell_type": "code",
   "execution_count": 93,
   "id": "c5553813",
   "metadata": {},
   "outputs": [],
   "source": [
    "df.GarageQual.fillna('NoGarage', inplace = True)"
   ]
  },
  {
   "cell_type": "markdown",
   "id": "389dc617",
   "metadata": {},
   "source": [
    "<br>"
   ]
  },
  {
   "cell_type": "markdown",
   "id": "69f31b67",
   "metadata": {},
   "source": [
    "## GarageCond"
   ]
  },
  {
   "cell_type": "code",
   "execution_count": 94,
   "id": "f25bc589",
   "metadata": {},
   "outputs": [
    {
     "data": {
      "text/plain": [
       "TA     2652\n",
       "NaN     159\n",
       "Fa       74\n",
       "Gd       15\n",
       "Po       14\n",
       "Ex        3\n",
       "Name: GarageCond, dtype: int64"
      ]
     },
     "execution_count": 94,
     "metadata": {},
     "output_type": "execute_result"
    }
   ],
   "source": [
    "df.GarageCond.value_counts(dropna = False)"
   ]
  },
  {
   "cell_type": "code",
   "execution_count": 95,
   "id": "312770b7",
   "metadata": {},
   "outputs": [],
   "source": [
    "df.GarageCond.fillna('NoGarage', inplace = True)"
   ]
  },
  {
   "cell_type": "code",
   "execution_count": 96,
   "id": "81478089",
   "metadata": {},
   "outputs": [
    {
     "name": "stdout",
     "output_type": "stream",
     "text": [
      "['PoolQC', 'Fence', 'MiscFeature', 'SaleType', 'SalePrice']\n"
     ]
    }
   ],
   "source": [
    "null_columns(df)"
   ]
  },
  {
   "cell_type": "markdown",
   "id": "8956bc8d",
   "metadata": {},
   "source": [
    "<br>"
   ]
  },
  {
   "cell_type": "markdown",
   "id": "a33e76c8",
   "metadata": {},
   "source": [
    "## PoolQC"
   ]
  },
  {
   "cell_type": "code",
   "execution_count": 97,
   "id": "57cbdaa4",
   "metadata": {},
   "outputs": [
    {
     "data": {
      "image/png": "[encoded data removed]",
      "text/plain": [
       "<Figure size 432x288 with 1 Axes>"
      ]
     },
     "metadata": {
      "needs_background": "light"
     },
     "output_type": "display_data"
    }
   ],
   "source": [
    "sns.boxplot(df.PoolArea);"
   ]
  },
  {
   "cell_type": "code",
   "execution_count": 98,
   "id": "9d98337f",
   "metadata": {},
   "outputs": [],
   "source": [
    "df.drop('PoolArea', axis = 1, inplace = True)"
   ]
  },
  {
   "cell_type": "code",
   "execution_count": 99,
   "id": "d5afc8e8",
   "metadata": {},
   "outputs": [
    {
     "data": {
      "text/plain": [
       "NaN    2907\n",
       "Ex        4\n",
       "Gd        4\n",
       "Fa        2\n",
       "Name: PoolQC, dtype: int64"
      ]
     },
     "execution_count": 99,
     "metadata": {},
     "output_type": "execute_result"
    }
   ],
   "source": [
    "df.PoolQC.value_counts(dropna = False)"
   ]
  },
  {
   "cell_type": "code",
   "execution_count": 100,
   "id": "90f21382",
   "metadata": {},
   "outputs": [],
   "source": [
    "df.PoolQC.fillna('0', inplace = True)\n",
    "pool_index = df[df.PoolQC != '0'].PoolQC.index"
   ]
  },
  {
   "cell_type": "code",
   "execution_count": 101,
   "id": "0db6dfdf",
   "metadata": {},
   "outputs": [
    {
     "data": {
      "text/plain": [
       "Id\n",
       "198     1\n",
       "811     1\n",
       "1171    1\n",
       "1183    1\n",
       "1299    1\n",
       "1387    1\n",
       "1424    1\n",
       "1975    1\n",
       "2574    1\n",
       "2711    1\n",
       "Name: PoolQC, dtype: object"
      ]
     },
     "execution_count": 101,
     "metadata": {},
     "output_type": "execute_result"
    }
   ],
   "source": [
    "df.PoolQC.loc[pool_index] = 1\n",
    "df.PoolQC.loc[pool_index]"
   ]
  },
  {
   "cell_type": "code",
   "execution_count": 102,
   "id": "7917a214",
   "metadata": {},
   "outputs": [
    {
     "data": {
      "text/plain": [
       "0    1460\n",
       "Name: PoolQC, dtype: int64"
      ]
     },
     "execution_count": 102,
     "metadata": {},
     "output_type": "execute_result"
    }
   ],
   "source": [
    "no_pool_index = train[train.PoolQC != 1].index\n",
    "train.PoolQC.loc[no_pool_index] = 0\n",
    "train.PoolQC.loc[no_pool_index].value_counts()"
   ]
  },
  {
   "cell_type": "code",
   "execution_count": 103,
   "id": "9071f6cc",
   "metadata": {},
   "outputs": [],
   "source": [
    "df.PoolQC = df.PoolQC.astype(int)"
   ]
  },
  {
   "cell_type": "code",
   "execution_count": 104,
   "id": "7ecc259b",
   "metadata": {},
   "outputs": [
    {
     "data": {
      "text/plain": [
       "0    2907\n",
       "1      10\n",
       "Name: PoolQC, dtype: int64"
      ]
     },
     "execution_count": 104,
     "metadata": {},
     "output_type": "execute_result"
    }
   ],
   "source": [
    "df.PoolQC.value_counts()"
   ]
  },
  {
   "cell_type": "code",
   "execution_count": 105,
   "id": "26dc7939",
   "metadata": {},
   "outputs": [
    {
     "name": "stdout",
     "output_type": "stream",
     "text": [
      "['Fence', 'MiscFeature', 'SaleType', 'SalePrice']\n"
     ]
    }
   ],
   "source": [
    "null_columns(df)"
   ]
  },
  {
   "cell_type": "markdown",
   "id": "df60d0fe",
   "metadata": {},
   "source": [
    "<br>"
   ]
  },
  {
   "cell_type": "markdown",
   "id": "3b297609",
   "metadata": {},
   "source": [
    "## Fence"
   ]
  },
  {
   "cell_type": "code",
   "execution_count": 106,
   "id": "b3fc238a",
   "metadata": {},
   "outputs": [
    {
     "data": {
      "text/plain": [
       "NaN      2347\n",
       "MnPrv     328\n",
       "GdPrv     118\n",
       "GdWo      112\n",
       "MnWw       12\n",
       "Name: Fence, dtype: int64"
      ]
     },
     "execution_count": 106,
     "metadata": {},
     "output_type": "execute_result"
    }
   ],
   "source": [
    "df.Fence.value_counts(dropna = False)"
   ]
  },
  {
   "cell_type": "code",
   "execution_count": 107,
   "id": "a0dfb193",
   "metadata": {},
   "outputs": [],
   "source": [
    "df.Fence.fillna('NoFence', inplace = True)"
   ]
  },
  {
   "cell_type": "markdown",
   "id": "a8443b4f",
   "metadata": {},
   "source": [
    "<br>"
   ]
  },
  {
   "cell_type": "markdown",
   "id": "85b4b0f1",
   "metadata": {},
   "source": [
    "## MiscFeature"
   ]
  },
  {
   "cell_type": "code",
   "execution_count": 108,
   "id": "5b5b936c",
   "metadata": {},
   "outputs": [
    {
     "data": {
      "text/plain": [
       "NaN     2812\n",
       "Shed      95\n",
       "Gar2       5\n",
       "Othr       4\n",
       "TenC       1\n",
       "Name: MiscFeature, dtype: int64"
      ]
     },
     "execution_count": 108,
     "metadata": {},
     "output_type": "execute_result"
    }
   ],
   "source": [
    "df.MiscFeature.value_counts(dropna = False)"
   ]
  },
  {
   "cell_type": "code",
   "execution_count": 109,
   "id": "81591ef5",
   "metadata": {},
   "outputs": [
    {
     "data": {
      "image/png": "[encoded data removed]",
      "text/plain": [
       "<Figure size 432x288 with 1 Axes>"
      ]
     },
     "metadata": {
      "needs_background": "light"
     },
     "output_type": "display_data"
    }
   ],
   "source": [
    "sns.boxplot(df[df.MiscFeature == 'Shed'].SalePrice);"
   ]
  },
  {
   "cell_type": "code",
   "execution_count": 110,
   "id": "3fc86022",
   "metadata": {},
   "outputs": [],
   "source": [
    "df.drop('MiscFeature', axis = 1, inplace = True)"
   ]
  },
  {
   "cell_type": "code",
   "execution_count": 111,
   "id": "a673e373",
   "metadata": {},
   "outputs": [
    {
     "name": "stdout",
     "output_type": "stream",
     "text": [
      "['SaleType', 'SalePrice']\n"
     ]
    }
   ],
   "source": [
    "null_columns(df)"
   ]
  },
  {
   "cell_type": "markdown",
   "id": "e896771f",
   "metadata": {},
   "source": [
    "<br>"
   ]
  },
  {
   "cell_type": "markdown",
   "id": "a1250f9a",
   "metadata": {},
   "source": [
    "## SaleType"
   ]
  },
  {
   "cell_type": "code",
   "execution_count": 112,
   "id": "c96568ff",
   "metadata": {},
   "outputs": [
    {
     "data": {
      "text/plain": [
       "WD       2524\n",
       "New       239\n",
       "COD        87\n",
       "ConLD      25\n",
       "CWD        12\n",
       "ConLI       9\n",
       "ConLw       8\n",
       "Oth         7\n",
       "Con         5\n",
       "NaN         1\n",
       "Name: SaleType, dtype: int64"
      ]
     },
     "execution_count": 112,
     "metadata": {},
     "output_type": "execute_result"
    }
   ],
   "source": [
    "df.SaleType.value_counts(dropna = False)"
   ]
  },
  {
   "cell_type": "code",
   "execution_count": 113,
   "id": "2aa92225",
   "metadata": {},
   "outputs": [],
   "source": [
    "df_ST_index = df[(df.SaleType == 'ConLD') | (df.SaleType == 'CWD') | (df.SaleType == 'ConLI') | (df.SaleType.isnull() | (df.SaleType == 'ConLw')| (df.SaleType == 'Oth')| (df.SaleType == 'Con'))].index"
   ]
  },
  {
   "cell_type": "code",
   "execution_count": 114,
   "id": "7bed92fe",
   "metadata": {},
   "outputs": [],
   "source": [
    "df.SaleType.loc[df_ST_index] = 'Other'"
   ]
  },
  {
   "cell_type": "code",
   "execution_count": 115,
   "id": "57081581",
   "metadata": {},
   "outputs": [
    {
     "name": "stdout",
     "output_type": "stream",
     "text": [
      "['SalePrice']\n"
     ]
    }
   ],
   "source": [
    "null_columns(df)"
   ]
  },
  {
   "cell_type": "code",
   "execution_count": 116,
   "id": "17f686ad",
   "metadata": {},
   "outputs": [
    {
     "data": {
      "text/plain": [
       "(2917, 77)"
      ]
     },
     "execution_count": 116,
     "metadata": {},
     "output_type": "execute_result"
    }
   ],
   "source": [
    "df.shape"
   ]
  },
  {
   "cell_type": "code",
   "execution_count": 117,
   "id": "2a4a7f1f",
   "metadata": {},
   "outputs": [],
   "source": [
    "df1 = df.copy()"
   ]
  },
  {
   "cell_type": "code",
   "execution_count": 118,
   "id": "0587a91f",
   "metadata": {},
   "outputs": [],
   "source": [
    "for col in df.columns:\n",
    "    if df[col].dtypes == 'object':\n",
    "        for i in df[col].value_counts().index:\n",
    "            if df[df[col] == i][col].count() < 6 :\n",
    "                drop_index = df[df[col] == i].index\n",
    "                for j in drop_index:\n",
    "                    df.drop(index = j, axis = 0, inplace = True)"
   ]
  },
  {
   "cell_type": "code",
   "execution_count": 119,
   "id": "318c13c1",
   "metadata": {},
   "outputs": [
    {
     "data": {
      "text/plain": [
       "(2860, 77)"
      ]
     },
     "execution_count": 119,
     "metadata": {},
     "output_type": "execute_result"
    }
   ],
   "source": [
    "df.shape"
   ]
  },
  {
   "cell_type": "code",
   "execution_count": 120,
   "id": "90e6a881",
   "metadata": {},
   "outputs": [],
   "source": [
    "train = df[df.SalePrice.notna()]"
   ]
  },
  {
   "cell_type": "code",
   "execution_count": 121,
   "id": "193e77c5",
   "metadata": {},
   "outputs": [],
   "source": [
    "test = df[df.SalePrice.isna()]"
   ]
  },
  {
   "cell_type": "code",
   "execution_count": 122,
   "id": "7ba6112d",
   "metadata": {},
   "outputs": [
    {
     "name": "stdout",
     "output_type": "stream",
     "text": [
      "<class 'pandas.core.frame.DataFrame'>\n",
      "Int64Index: 1425 entries, 1 to 1460\n",
      "Data columns (total 77 columns):\n",
      " #   Column         Non-Null Count  Dtype  \n",
      "---  ------         --------------  -----  \n",
      " 0   MSSubClass     1425 non-null   int64  \n",
      " 1   MSZoning       1425 non-null   object \n",
      " 2   LotFrontage    1425 non-null   float64\n",
      " 3   LotArea        1425 non-null   int64  \n",
      " 4   Street         1425 non-null   object \n",
      " 5   LotShape       1425 non-null   object \n",
      " 6   LandContour    1425 non-null   object \n",
      " 7   Utilities      1425 non-null   object \n",
      " 8   LotConfig      1425 non-null   object \n",
      " 9   LandSlope      1425 non-null   object \n",
      " 10  Neighborhood   1425 non-null   object \n",
      " 11  Condition1     1425 non-null   object \n",
      " 12  Condition2     1425 non-null   object \n",
      " 13  BldgType       1425 non-null   object \n",
      " 14  HouseStyle     1425 non-null   object \n",
      " 15  OverallQual    1425 non-null   int64  \n",
      " 16  OverallCond    1425 non-null   int64  \n",
      " 17  YearBuilt      1425 non-null   int64  \n",
      " 18  YearRemodAdd   1425 non-null   int64  \n",
      " 19  RoofStyle      1425 non-null   object \n",
      " 20  RoofMatl       1425 non-null   object \n",
      " 21  Exterior1st    1425 non-null   object \n",
      " 22  Exterior2nd    1425 non-null   object \n",
      " 23  MasVnrType     1425 non-null   object \n",
      " 24  MasVnrArea     1425 non-null   float64\n",
      " 25  ExterQual      1425 non-null   object \n",
      " 26  ExterCond      1425 non-null   object \n",
      " 27  Foundation     1425 non-null   object \n",
      " 28  BsmtQual       1425 non-null   object \n",
      " 29  BsmtCond       1425 non-null   object \n",
      " 30  BsmtExposure   1425 non-null   object \n",
      " 31  BsmtFinType1   1425 non-null   object \n",
      " 32  BsmtFinSF1     1425 non-null   float64\n",
      " 33  BsmtFinType2   1425 non-null   object \n",
      " 34  BsmtFinSF2     1425 non-null   float64\n",
      " 35  BsmtUnfSF      1425 non-null   float64\n",
      " 36  TotalBsmtSF    1425 non-null   float64\n",
      " 37  Heating        1425 non-null   object \n",
      " 38  HeatingQC      1425 non-null   object \n",
      " 39  CentralAir     1425 non-null   object \n",
      " 40  Electrical     1425 non-null   object \n",
      " 41  1stFlrSF       1425 non-null   int64  \n",
      " 42  2ndFlrSF       1425 non-null   int64  \n",
      " 43  LowQualFinSF   1425 non-null   int64  \n",
      " 44  GrLivArea      1425 non-null   int64  \n",
      " 45  BsmtFullBath   1425 non-null   float64\n",
      " 46  BsmtHalfBath   1425 non-null   float64\n",
      " 47  FullBath       1425 non-null   int64  \n",
      " 48  HalfBath       1425 non-null   int64  \n",
      " 49  BedroomAbvGr   1425 non-null   int64  \n",
      " 50  KitchenAbvGr   1425 non-null   int64  \n",
      " 51  KitchenQual    1425 non-null   object \n",
      " 52  TotRmsAbvGrd   1425 non-null   int64  \n",
      " 53  Functional     1425 non-null   object \n",
      " 54  Fireplaces     1425 non-null   int64  \n",
      " 55  FireplaceQu    1425 non-null   object \n",
      " 56  GarageType     1425 non-null   object \n",
      " 57  GarageYrBlt    1425 non-null   float64\n",
      " 58  GarageFinish   1425 non-null   object \n",
      " 59  GarageCars     1425 non-null   float64\n",
      " 60  GarageArea     1425 non-null   float64\n",
      " 61  GarageQual     1425 non-null   object \n",
      " 62  GarageCond     1425 non-null   object \n",
      " 63  PavedDrive     1425 non-null   object \n",
      " 64  WoodDeckSF     1425 non-null   int64  \n",
      " 65  OpenPorchSF    1425 non-null   int64  \n",
      " 66  EnclosedPorch  1425 non-null   int64  \n",
      " 67  3SsnPorch      1425 non-null   int64  \n",
      " 68  ScreenPorch    1425 non-null   int64  \n",
      " 69  PoolQC         1425 non-null   int32  \n",
      " 70  Fence          1425 non-null   object \n",
      " 71  MiscVal        1425 non-null   int64  \n",
      " 72  MoSold         1425 non-null   int64  \n",
      " 73  YrSold         1425 non-null   int64  \n",
      " 74  SaleType       1425 non-null   object \n",
      " 75  SaleCondition  1425 non-null   object \n",
      " 76  SalePrice      1425 non-null   float64\n",
      "dtypes: float64(12), int32(1), int64(24), object(40)\n",
      "memory usage: 862.8+ KB\n"
     ]
    }
   ],
   "source": [
    "train.info()"
   ]
  },
  {
   "cell_type": "code",
   "execution_count": 123,
   "id": "ef73afd7",
   "metadata": {},
   "outputs": [
    {
     "name": "stdout",
     "output_type": "stream",
     "text": [
      "<class 'pandas.core.frame.DataFrame'>\n",
      "Int64Index: 1435 entries, 1461 to 2919\n",
      "Data columns (total 77 columns):\n",
      " #   Column         Non-Null Count  Dtype  \n",
      "---  ------         --------------  -----  \n",
      " 0   MSSubClass     1435 non-null   int64  \n",
      " 1   MSZoning       1435 non-null   object \n",
      " 2   LotFrontage    1435 non-null   float64\n",
      " 3   LotArea        1435 non-null   int64  \n",
      " 4   Street         1435 non-null   object \n",
      " 5   LotShape       1435 non-null   object \n",
      " 6   LandContour    1435 non-null   object \n",
      " 7   Utilities      1435 non-null   object \n",
      " 8   LotConfig      1435 non-null   object \n",
      " 9   LandSlope      1435 non-null   object \n",
      " 10  Neighborhood   1435 non-null   object \n",
      " 11  Condition1     1435 non-null   object \n",
      " 12  Condition2     1435 non-null   object \n",
      " 13  BldgType       1435 non-null   object \n",
      " 14  HouseStyle     1435 non-null   object \n",
      " 15  OverallQual    1435 non-null   int64  \n",
      " 16  OverallCond    1435 non-null   int64  \n",
      " 17  YearBuilt      1435 non-null   int64  \n",
      " 18  YearRemodAdd   1435 non-null   int64  \n",
      " 19  RoofStyle      1435 non-null   object \n",
      " 20  RoofMatl       1435 non-null   object \n",
      " 21  Exterior1st    1435 non-null   object \n",
      " 22  Exterior2nd    1435 non-null   object \n",
      " 23  MasVnrType     1435 non-null   object \n",
      " 24  MasVnrArea     1435 non-null   float64\n",
      " 25  ExterQual      1435 non-null   object \n",
      " 26  ExterCond      1435 non-null   object \n",
      " 27  Foundation     1435 non-null   object \n",
      " 28  BsmtQual       1435 non-null   object \n",
      " 29  BsmtCond       1435 non-null   object \n",
      " 30  BsmtExposure   1435 non-null   object \n",
      " 31  BsmtFinType1   1435 non-null   object \n",
      " 32  BsmtFinSF1     1435 non-null   float64\n",
      " 33  BsmtFinType2   1435 non-null   object \n",
      " 34  BsmtFinSF2     1435 non-null   float64\n",
      " 35  BsmtUnfSF      1435 non-null   float64\n",
      " 36  TotalBsmtSF    1435 non-null   float64\n",
      " 37  Heating        1435 non-null   object \n",
      " 38  HeatingQC      1435 non-null   object \n",
      " 39  CentralAir     1435 non-null   object \n",
      " 40  Electrical     1435 non-null   object \n",
      " 41  1stFlrSF       1435 non-null   int64  \n",
      " 42  2ndFlrSF       1435 non-null   int64  \n",
      " 43  LowQualFinSF   1435 non-null   int64  \n",
      " 44  GrLivArea      1435 non-null   int64  \n",
      " 45  BsmtFullBath   1435 non-null   float64\n",
      " 46  BsmtHalfBath   1435 non-null   float64\n",
      " 47  FullBath       1435 non-null   int64  \n",
      " 48  HalfBath       1435 non-null   int64  \n",
      " 49  BedroomAbvGr   1435 non-null   int64  \n",
      " 50  KitchenAbvGr   1435 non-null   int64  \n",
      " 51  KitchenQual    1435 non-null   object \n",
      " 52  TotRmsAbvGrd   1435 non-null   int64  \n",
      " 53  Functional     1435 non-null   object \n",
      " 54  Fireplaces     1435 non-null   int64  \n",
      " 55  FireplaceQu    1435 non-null   object \n",
      " 56  GarageType     1435 non-null   object \n",
      " 57  GarageYrBlt    1435 non-null   float64\n",
      " 58  GarageFinish   1435 non-null   object \n",
      " 59  GarageCars     1435 non-null   float64\n",
      " 60  GarageArea     1435 non-null   float64\n",
      " 61  GarageQual     1435 non-null   object \n",
      " 62  GarageCond     1435 non-null   object \n",
      " 63  PavedDrive     1435 non-null   object \n",
      " 64  WoodDeckSF     1435 non-null   int64  \n",
      " 65  OpenPorchSF    1435 non-null   int64  \n",
      " 66  EnclosedPorch  1435 non-null   int64  \n",
      " 67  3SsnPorch      1435 non-null   int64  \n",
      " 68  ScreenPorch    1435 non-null   int64  \n",
      " 69  PoolQC         1435 non-null   int32  \n",
      " 70  Fence          1435 non-null   object \n",
      " 71  MiscVal        1435 non-null   int64  \n",
      " 72  MoSold         1435 non-null   int64  \n",
      " 73  YrSold         1435 non-null   int64  \n",
      " 74  SaleType       1435 non-null   object \n",
      " 75  SaleCondition  1435 non-null   object \n",
      " 76  SalePrice      0 non-null      float64\n",
      "dtypes: float64(12), int32(1), int64(24), object(40)\n",
      "memory usage: 868.8+ KB\n"
     ]
    }
   ],
   "source": [
    "test.info()"
   ]
  },
  {
   "cell_type": "code",
   "execution_count": 148,
   "id": "5e8ca748",
   "metadata": {},
   "outputs": [
    {
     "name": "stdout",
     "output_type": "stream",
     "text": [
      "<class 'pandas.core.frame.DataFrame'>\n",
      "Int64Index: 2860 entries, 1 to 2919\n",
      "Data columns (total 77 columns):\n",
      " #   Column         Non-Null Count  Dtype  \n",
      "---  ------         --------------  -----  \n",
      " 0   MSSubClass     2860 non-null   int64  \n",
      " 1   MSZoning       2860 non-null   object \n",
      " 2   LotFrontage    2860 non-null   float64\n",
      " 3   LotArea        2860 non-null   int64  \n",
      " 4   Street         2860 non-null   object \n",
      " 5   LotShape       2860 non-null   object \n",
      " 6   LandContour    2860 non-null   object \n",
      " 7   Utilities      2860 non-null   object \n",
      " 8   LotConfig      2860 non-null   object \n",
      " 9   LandSlope      2860 non-null   object \n",
      " 10  Neighborhood   2860 non-null   object \n",
      " 11  Condition1     2860 non-null   object \n",
      " 12  Condition2     2860 non-null   object \n",
      " 13  BldgType       2860 non-null   object \n",
      " 14  HouseStyle     2860 non-null   object \n",
      " 15  OverallQual    2860 non-null   int64  \n",
      " 16  OverallCond    2860 non-null   int64  \n",
      " 17  YearBuilt      2860 non-null   int64  \n",
      " 18  YearRemodAdd   2860 non-null   int64  \n",
      " 19  RoofStyle      2860 non-null   object \n",
      " 20  RoofMatl       2860 non-null   object \n",
      " 21  Exterior1st    2860 non-null   object \n",
      " 22  Exterior2nd    2860 non-null   object \n",
      " 23  MasVnrType     2860 non-null   object \n",
      " 24  MasVnrArea     2860 non-null   float64\n",
      " 25  ExterQual      2860 non-null   object \n",
      " 26  ExterCond      2860 non-null   object \n",
      " 27  Foundation     2860 non-null   object \n",
      " 28  BsmtQual       2860 non-null   object \n",
      " 29  BsmtCond       2860 non-null   object \n",
      " 30  BsmtExposure   2860 non-null   object \n",
      " 31  BsmtFinType1   2860 non-null   object \n",
      " 32  BsmtFinSF1     2860 non-null   float64\n",
      " 33  BsmtFinType2   2860 non-null   object \n",
      " 34  BsmtFinSF2     2860 non-null   float64\n",
      " 35  BsmtUnfSF      2860 non-null   float64\n",
      " 36  TotalBsmtSF    2860 non-null   float64\n",
      " 37  Heating        2860 non-null   object \n",
      " 38  HeatingQC      2860 non-null   object \n",
      " 39  CentralAir     2860 non-null   object \n",
      " 40  Electrical     2860 non-null   object \n",
      " 41  1stFlrSF       2860 non-null   int64  \n",
      " 42  2ndFlrSF       2860 non-null   int64  \n",
      " 43  LowQualFinSF   2860 non-null   int64  \n",
      " 44  GrLivArea      2860 non-null   int64  \n",
      " 45  BsmtFullBath   2860 non-null   float64\n",
      " 46  BsmtHalfBath   2860 non-null   float64\n",
      " 47  FullBath       2860 non-null   int64  \n",
      " 48  HalfBath       2860 non-null   int64  \n",
      " 49  BedroomAbvGr   2860 non-null   int64  \n",
      " 50  KitchenAbvGr   2860 non-null   int64  \n",
      " 51  KitchenQual    2860 non-null   object \n",
      " 52  TotRmsAbvGrd   2860 non-null   int64  \n",
      " 53  Functional     2860 non-null   object \n",
      " 54  Fireplaces     2860 non-null   int64  \n",
      " 55  FireplaceQu    2860 non-null   object \n",
      " 56  GarageType     2860 non-null   object \n",
      " 57  GarageYrBlt    2860 non-null   float64\n",
      " 58  GarageFinish   2860 non-null   object \n",
      " 59  GarageCars     2860 non-null   float64\n",
      " 60  GarageArea     2860 non-null   float64\n",
      " 61  GarageQual     2860 non-null   object \n",
      " 62  GarageCond     2860 non-null   object \n",
      " 63  PavedDrive     2860 non-null   object \n",
      " 64  WoodDeckSF     2860 non-null   int64  \n",
      " 65  OpenPorchSF    2860 non-null   int64  \n",
      " 66  EnclosedPorch  2860 non-null   int64  \n",
      " 67  3SsnPorch      2860 non-null   int64  \n",
      " 68  ScreenPorch    2860 non-null   int64  \n",
      " 69  PoolQC         2860 non-null   int32  \n",
      " 70  Fence          2860 non-null   object \n",
      " 71  MiscVal        2860 non-null   int64  \n",
      " 72  MoSold         2860 non-null   int64  \n",
      " 73  YrSold         2860 non-null   int64  \n",
      " 74  SaleType       2860 non-null   object \n",
      " 75  SaleCondition  2860 non-null   object \n",
      " 76  SalePrice      1425 non-null   float64\n",
      "dtypes: float64(12), int32(1), int64(24), object(40)\n",
      "memory usage: 1.7+ MB\n"
     ]
    }
   ],
   "source": [
    "df.info()"
   ]
  },
  {
   "cell_type": "code",
   "execution_count": null,
   "id": "7c41df9f",
   "metadata": {},
   "outputs": [],
   "source": []
  },
  {
   "cell_type": "code",
   "execution_count": null,
   "id": "673bda10",
   "metadata": {},
   "outputs": [],
   "source": []
  },
  {
   "cell_type": "code",
   "execution_count": null,
   "id": "b0eaebf9",
   "metadata": {},
   "outputs": [],
   "source": []
  }
 ],
 "metadata": {
  "kernelspec": {
   "display_name": "Python 3",
   "language": "python",
   "name": "python3"
  },
  "language_info": {
   "codemirror_mode": {
    "name": "ipython",
    "version": 3
   },
   "file_extension": ".py",
   "mimetype": "text/x-python",
   "name": "python",
   "nbconvert_exporter": "python",
   "pygments_lexer": "ipython3",
   "version": "3.8.8"
  }
 },
 "nbformat": 4,
 "nbformat_minor": 5
}
