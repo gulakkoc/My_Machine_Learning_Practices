{
 "cells": [
  {
   "cell_type": "markdown",
   "id": "7c8aa38c",
   "metadata": {},
   "source": [
    "<br>"
   ]
  },
  {
   "cell_type": "markdown",
   "id": "383410ff",
   "metadata": {},
   "source": [
    "# <font color = 'darkred'> <text> Linear Regression </text></font>"
   ]
  },
  {
   "cell_type": "markdown",
   "id": "322530e3",
   "metadata": {},
   "source": [
    "<br>"
   ]
  },
  {
   "cell_type": "markdown",
   "id": "d1060851",
   "metadata": {},
   "source": [
    "Linear regression models the relationship between one or more observed features and the target variable.<br>\n",
    "<br>\n",
    "We use the regression methods to predict a continuous value."
   ]
  },
  {
   "cell_type": "markdown",
   "id": "c1d397df",
   "metadata": {},
   "source": [
    "> In regression there are two types of variables :<br>"
   ]
  },
  {
   "cell_type": "markdown",
   "id": "760eff02",
   "metadata": {},
   "source": [
    "- The dependant variable can bee seen as the state, target or final goal we study and try to perdict.\n",
    "<br>\n",
    "<br>\n",
    "- The independant variables, also known as explanatory variables, can be seen as the causes of those states.\n",
    "<br>"
   ]
  },
  {
   "cell_type": "markdown",
   "id": "342dc9bd",
   "metadata": {},
   "source": [
    "_The independant variables are shown conventionally by X and the dependant variable is notated by Y._ "
   ]
  },
  {
   "cell_type": "markdown",
   "id": "0d5e3e85",
   "metadata": {},
   "source": [
    "__The key point in the regression is that our dependant value should be continuous and cannot be discrete value. However, the independant variables can be measure on either a categorical or continuous measuements scale.__"
   ]
  },
  {
   "cell_type": "markdown",
   "id": "5e5e9a87",
   "metadata": {},
   "source": [
    "<br>"
   ]
  },
  {
   "cell_type": "markdown",
   "id": "27b7a61a",
   "metadata": {},
   "source": [
    "<font color = 'darkblue'> <text>Basically there are two types of regression models: simple regression and multiple regression.</text></font>"
   ]
  },
  {
   "cell_type": "code",
   "execution_count": null,
   "id": "d9fd0b27",
   "metadata": {},
   "outputs": [],
   "source": []
  },
  {
   "cell_type": "code",
   "execution_count": null,
   "id": "f72e6e7b",
   "metadata": {},
   "outputs": [],
   "source": []
  },
  {
   "cell_type": "code",
   "execution_count": null,
   "id": "d23c2fcc",
   "metadata": {},
   "outputs": [],
   "source": []
  },
  {
   "cell_type": "code",
   "execution_count": null,
   "id": "c144ba2b",
   "metadata": {},
   "outputs": [],
   "source": []
  },
  {
   "cell_type": "code",
   "execution_count": null,
   "id": "e47f2140",
   "metadata": {},
   "outputs": [],
   "source": []
  },
  {
   "cell_type": "code",
   "execution_count": null,
   "id": "39672e41",
   "metadata": {},
   "outputs": [],
   "source": []
  },
  {
   "cell_type": "code",
   "execution_count": null,
   "id": "d7690729",
   "metadata": {},
   "outputs": [],
   "source": []
  },
  {
   "cell_type": "code",
   "execution_count": null,
   "id": "3ae057b8",
   "metadata": {},
   "outputs": [],
   "source": []
  },
  {
   "cell_type": "code",
   "execution_count": null,
   "id": "fb303574",
   "metadata": {},
   "outputs": [],
   "source": []
  },
  {
   "cell_type": "code",
   "execution_count": null,
   "id": "da95876f",
   "metadata": {},
   "outputs": [],
   "source": []
  },
  {
   "cell_type": "code",
   "execution_count": null,
   "id": "43d5cae1",
   "metadata": {},
   "outputs": [],
   "source": []
  }
 ],
 "metadata": {
  "kernelspec": {
   "display_name": "Python 3",
   "language": "python",
   "name": "python3"
  },
  "language_info": {
   "codemirror_mode": {
    "name": "ipython",
    "version": 3
   },
   "file_extension": ".py",
   "mimetype": "text/x-python",
   "name": "python",
   "nbconvert_exporter": "python",
   "pygments_lexer": "ipython3",
   "version": "3.8.8"
  }
 },
 "nbformat": 4,
 "nbformat_minor": 5
}
