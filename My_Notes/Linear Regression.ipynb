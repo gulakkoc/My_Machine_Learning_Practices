{
 "cells": [
  {
   "cell_type": "markdown",
   "id": "4f4f598b",
   "metadata": {},
   "source": [
    "<br>"
   ]
  },
  {
   "cell_type": "markdown",
   "id": "164c1017",
   "metadata": {},
   "source": [
    "# <font color = 'darkred'> <text> Linear Regression </text></font>"
   ]
  },
  {
   "cell_type": "markdown",
   "id": "023c7f09",
   "metadata": {},
   "source": [
    "<br>"
   ]
  },
  {
   "cell_type": "markdown",
   "id": "3e6e6800",
   "metadata": {},
   "source": [
    "Linear regression models the relationship between one or more observed features and the target variable.<br>\n",
    "<br>\n",
    "We use the regression methods to predict a continuous value."
   ]
  },
  {
   "cell_type": "markdown",
   "id": "e1abad6d",
   "metadata": {},
   "source": [
    "> In regression there are two types of variables :<br>"
   ]
  },
  {
   "cell_type": "markdown",
   "id": "7444151e",
   "metadata": {},
   "source": [
    "- The dependant variable can bee seen as the state, target or final goal we study and try to perdict.\n",
    "<br>\n",
    "<br>\n",
    "- The independant variables, also known as explanatory variables, can be seen as the causes of those states.\n",
    "<br>"
   ]
  },
  {
   "cell_type": "markdown",
   "id": "2f62ecbe",
   "metadata": {},
   "source": [
    "_The independant variables are shown conventionally by X and the dependant variable is notated by Y._ "
   ]
  },
  {
   "cell_type": "markdown",
   "id": "373254f5",
   "metadata": {},
   "source": [
    "__The key point in the regression is that our dependant value should be continuous and cannot be discrete value. However, the independant variables can be measure on either a categorical or continuous measuements scale.__"
   ]
  },
  {
   "cell_type": "markdown",
   "id": "801fdd02",
   "metadata": {},
   "source": [
    "<br>"
   ]
  },
  {
   "cell_type": "markdown",
   "id": "7593effe",
   "metadata": {},
   "source": [
    "<font color = 'darkblue'> <text>Basically there are two types of regression models: simple regression and multiple regression.</text></font>"
   ]
  },
  {
   "cell_type": "code",
   "execution_count": null,
   "id": "691edff3",
   "metadata": {},
   "outputs": [],
   "source": []
  },
  {
   "cell_type": "code",
   "execution_count": null,
   "id": "62a2e07f",
   "metadata": {},
   "outputs": [],
   "source": []
  },
  {
   "cell_type": "code",
   "execution_count": null,
   "id": "17825131",
   "metadata": {},
   "outputs": [],
   "source": []
  },
  {
   "cell_type": "code",
   "execution_count": null,
   "id": "171d83dc",
   "metadata": {},
   "outputs": [],
   "source": []
  },
  {
   "cell_type": "code",
   "execution_count": null,
   "id": "f6989bf7",
   "metadata": {},
   "outputs": [],
   "source": []
  },
  {
   "cell_type": "code",
   "execution_count": null,
   "id": "09871f6e",
   "metadata": {},
   "outputs": [],
   "source": []
  },
  {
   "cell_type": "code",
   "execution_count": null,
   "id": "3b528ce8",
   "metadata": {},
   "outputs": [],
   "source": []
  },
  {
   "cell_type": "code",
   "execution_count": null,
   "id": "22882acf",
   "metadata": {},
   "outputs": [],
   "source": []
  },
  {
   "cell_type": "code",
   "execution_count": null,
   "id": "44b44987",
   "metadata": {},
   "outputs": [],
   "source": []
  },
  {
   "cell_type": "code",
   "execution_count": null,
   "id": "83767367",
   "metadata": {},
   "outputs": [],
   "source": []
  },
  {
   "cell_type": "code",
   "execution_count": null,
   "id": "ce5cd0a0",
   "metadata": {},
   "outputs": [],
   "source": []
  }
 ],
 "metadata": {
  "kernelspec": {
   "display_name": "Python 3",
   "language": "python",
   "name": "python3"
  },
  "language_info": {
   "codemirror_mode": {
    "name": "ipython",
    "version": 3
   },
   "file_extension": ".py",
   "mimetype": "text/x-python",
   "name": "python",
   "nbconvert_exporter": "python",
   "pygments_lexer": "ipython3",
   "version": "3.8.8"
  }
 },
 "nbformat": 4,
 "nbformat_minor": 5
}
