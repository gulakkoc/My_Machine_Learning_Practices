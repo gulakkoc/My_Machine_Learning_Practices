{
 "cells": [
  {
   "cell_type": "markdown",
   "id": "19c4d843",
   "metadata": {},
   "source": [
    "<br>"
   ]
  },
  {
   "cell_type": "markdown",
   "id": "deb76fa2",
   "metadata": {},
   "source": [
    "# Linear Regression"
   ]
  },
  {
   "cell_type": "markdown",
   "id": "1c594dbd",
   "metadata": {},
   "source": [
    "<br>"
   ]
  },
  {
   "cell_type": "markdown",
   "id": "adad1759",
   "metadata": {},
   "source": [
    "Linear regression models the relationship between one or more observed features and the target variable.<br>\n",
    "<br>\n",
    "We use the regression methods to predict a continuous value."
   ]
  },
  {
   "cell_type": "markdown",
   "id": "de8fb748",
   "metadata": {},
   "source": [
    "> In regression there are two types of variables :<br>"
   ]
  },
  {
   "cell_type": "markdown",
   "id": "874c5876",
   "metadata": {},
   "source": [
    "- The dependant variable can bee seen as the state, target or final goal we study and try to perdict.\n",
    "<br>\n",
    "<br>\n",
    "- The independant variables, also known as explanatory variables, can be seen as the causes of those states.\n",
    "<br>"
   ]
  },
  {
   "cell_type": "markdown",
   "id": "e1d283fe",
   "metadata": {},
   "source": [
    "_The independant variables are shown conventionally by X and the dependant variable is notated by Y._ "
   ]
  },
  {
   "cell_type": "markdown",
   "id": "e2059edb",
   "metadata": {},
   "source": [
    "__The key point in the regression is that our dependant value should be continuous and cannot be discrete value. However, the independant variables can be measure on either a categorical or continuous measuements scale.__"
   ]
  },
  {
   "cell_type": "markdown",
   "id": "c2e4a6c1",
   "metadata": {},
   "source": [
    "<br>"
   ]
  },
  {
   "cell_type": "code",
   "execution_count": null,
   "id": "b2faf121",
   "metadata": {},
   "outputs": [],
   "source": []
  },
  {
   "cell_type": "code",
   "execution_count": null,
   "id": "60d531d5",
   "metadata": {},
   "outputs": [],
   "source": []
  },
  {
   "cell_type": "code",
   "execution_count": null,
   "id": "54a81208",
   "metadata": {},
   "outputs": [],
   "source": []
  },
  {
   "cell_type": "code",
   "execution_count": null,
   "id": "87809389",
   "metadata": {},
   "outputs": [],
   "source": []
  },
  {
   "cell_type": "code",
   "execution_count": null,
   "id": "c902fa7b",
   "metadata": {},
   "outputs": [],
   "source": []
  },
  {
   "cell_type": "code",
   "execution_count": null,
   "id": "5bd46381",
   "metadata": {},
   "outputs": [],
   "source": []
  },
  {
   "cell_type": "code",
   "execution_count": null,
   "id": "8bc16588",
   "metadata": {},
   "outputs": [],
   "source": []
  },
  {
   "cell_type": "code",
   "execution_count": null,
   "id": "679d17df",
   "metadata": {},
   "outputs": [],
   "source": []
  },
  {
   "cell_type": "code",
   "execution_count": null,
   "id": "cb108b22",
   "metadata": {},
   "outputs": [],
   "source": []
  },
  {
   "cell_type": "code",
   "execution_count": null,
   "id": "266b5db9",
   "metadata": {},
   "outputs": [],
   "source": []
  },
  {
   "cell_type": "code",
   "execution_count": null,
   "id": "be86d28b",
   "metadata": {},
   "outputs": [],
   "source": []
  },
  {
   "cell_type": "code",
   "execution_count": null,
   "id": "e5c1b207",
   "metadata": {},
   "outputs": [],
   "source": []
  }
 ],
 "metadata": {
  "kernelspec": {
   "display_name": "Python 3",
   "language": "python",
   "name": "python3"
  },
  "language_info": {
   "codemirror_mode": {
    "name": "ipython",
    "version": 3
   },
   "file_extension": ".py",
   "mimetype": "text/x-python",
   "name": "python",
   "nbconvert_exporter": "python",
   "pygments_lexer": "ipython3",
   "version": "3.8.8"
  }
 },
 "nbformat": 4,
 "nbformat_minor": 5
}
