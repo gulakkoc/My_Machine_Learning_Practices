{
 "cells": [
  {
   "cell_type": "markdown",
   "id": "36871773",
   "metadata": {},
   "source": [
    "<br>"
   ]
  },
  {
   "cell_type": "markdown",
   "id": "fec451b4",
   "metadata": {},
   "source": [
    "# Linear Regression"
   ]
  },
  {
   "cell_type": "markdown",
   "id": "362b8d1c",
   "metadata": {},
   "source": [
    "<br>"
   ]
  },
  {
   "cell_type": "markdown",
   "id": "a1ed9ed7",
   "metadata": {},
   "source": [
    "Linear regression models the relationship between one or more observed features and the target variable.<br>\n",
    "<br>\n",
    "We use the regression methods to predict a continuous value."
   ]
  },
  {
   "cell_type": "markdown",
   "id": "12b5bacf",
   "metadata": {},
   "source": [
    "> In regression there are two types of variables :<br>"
   ]
  },
  {
   "cell_type": "markdown",
   "id": "c6d22590",
   "metadata": {},
   "source": [
    "- The dependant variable can bee seen as the state, target or final goal we study and try to perdict.\n",
    "<br>\n",
    "<br>\n",
    "- The independant variables, also known as explanatory variables, can be seen as the causes of those states.\n",
    "<br>"
   ]
  },
  {
   "cell_type": "markdown",
   "id": "f84fc51e",
   "metadata": {},
   "source": [
    "_The independant variables are shown conventionally by X and the dependant variable is notated by Y._ "
   ]
  },
  {
   "cell_type": "markdown",
   "id": "11571df5",
   "metadata": {},
   "source": [
    "__The key point in the regression is that our dependant value should be continuous and cannot be discrete value. However, the independant variables can be measure on either a categorical or continuous measuements scale.__"
   ]
  },
  {
   "cell_type": "markdown",
   "id": "54d08fa2",
   "metadata": {},
   "source": [
    "<br>"
   ]
  },
  {
   "cell_type": "markdown",
   "id": "e722cdfb",
   "metadata": {},
   "source": [
    "_Basically there are two types of regression models: simple regression and multiple regression._"
   ]
  },
  {
   "cell_type": "markdown",
   "id": "aa30c9b6",
   "metadata": {},
   "source": [
    "- Simple regression is when one independant variable is used to estimate a dependant variable. It can be either linear or non-linear.\n",
    "<br>\n",
    "- When more than one independant variable is present the process is called multiple linear regression.It can be either linear or non-linear."
   ]
  },
  {
   "cell_type": "markdown",
   "id": "d4b84438",
   "metadata": {},
   "source": [
    "---"
   ]
  },
  {
   "cell_type": "markdown",
   "id": "3b65f34c",
   "metadata": {},
   "source": [
    "### Model Evaluation in Regression Models"
   ]
  },
  {
   "cell_type": "markdown",
   "id": "8359e7b2",
   "metadata": {},
   "source": [
    "The goal of regression is to build a model to accurately predict an unknown case."
   ]
  },
  {
   "cell_type": "markdown",
   "id": "c02bc5ff",
   "metadata": {},
   "source": [
    ">There are 2 types of evaluation approaches that can be used :<br>\n",
    "a. Train and test on the same dataset <br>\n",
    "b. Train/test split\n",
    "     "
   ]
  },
  {
   "cell_type": "markdown",
   "id": "9c56cb60",
   "metadata": {},
   "source": [
    "_Best approach for the most accurate results?_"
   ]
  },
  {
   "cell_type": "markdown",
   "id": "587eb726",
   "metadata": {},
   "source": [
    "- Train and test on the same data set probably give a result as high training accuracy and low out-of-sample accuracy because of overfitting may occur."
   ]
  },
  {
   "cell_type": "markdown",
   "id": "0dc16873",
   "metadata": {},
   "source": [
    "Training Accuracy : It is the percentage of correct predictions that model makes when using the test data test. But it is not necessarily a good thing. Overfit may occur*"
   ]
  },
  {
   "cell_type": "markdown",
   "id": "f9d601e0",
   "metadata": {},
   "source": [
    "It is important that our model has high out-of-sample accuracy."
   ]
  },
  {
   "cell_type": "markdown",
   "id": "5354bf67",
   "metadata": {},
   "source": [
    "- Train / test split involves splitting the dataset into training and testing dataset."
   ]
  },
  {
   "cell_type": "markdown",
   "id": "5ea36676",
   "metadata": {},
   "source": [
    "This will be provide a more accurate evaluation on out-of-sample accuracy because testin data set is not part of the dataset which has been used to train the data."
   ]
  },
  {
   "cell_type": "markdown",
   "id": "740610a3",
   "metadata": {},
   "source": [
    "---"
   ]
  },
  {
   "cell_type": "markdown",
   "id": "211b3e75",
   "metadata": {},
   "source": [
    "### Evaluation Metrics in Regression Models"
   ]
  },
  {
   "cell_type": "markdown",
   "id": "9b37095e",
   "metadata": {},
   "source": [
    "<br>"
   ]
  },
  {
   "cell_type": "markdown",
   "id": "9f0fe519",
   "metadata": {},
   "source": [
    "Evaluation metrics are used to explain the performance of a model."
   ]
  },
  {
   "cell_type": "markdown",
   "id": "ffd9998b",
   "metadata": {},
   "source": [
    "The error of the model is the difference between the data points and th trend line generated by algorithm"
   ]
  },
  {
   "cell_type": "markdown",
   "id": "983f5816",
   "metadata": {},
   "source": [
    "Most common evaluation metrics are:<br>\n",
    "a. Mean Absulute Error<br>\n",
    "b. Mean squarred error<br>\n",
    "c. Root Mean Squared Error"
   ]
  },
  {
   "cell_type": "markdown",
   "id": "34e3b6f8",
   "metadata": {},
   "source": [
    "_R squared is not an error per say but is a popular metric for the accuracy of the model.<br>_\n",
    "<br>\n",
    "___The higher the R-squared, the better the model fits the data___"
   ]
  },
  {
   "cell_type": "markdown",
   "id": "db6470b9",
   "metadata": {},
   "source": [
    "---"
   ]
  }
 ],
 "metadata": {
  "kernelspec": {
   "display_name": "Python 3",
   "language": "python",
   "name": "python3"
  },
  "language_info": {
   "codemirror_mode": {
    "name": "ipython",
    "version": 3
   },
   "file_extension": ".py",
   "mimetype": "text/x-python",
   "name": "python",
   "nbconvert_exporter": "python",
   "pygments_lexer": "ipython3",
   "version": "3.8.8"
  }
 },
 "nbformat": 4,
 "nbformat_minor": 5
}
