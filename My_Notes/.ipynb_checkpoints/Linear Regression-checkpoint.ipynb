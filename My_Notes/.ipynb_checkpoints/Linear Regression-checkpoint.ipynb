{
 "cells": [
  {
   "cell_type": "markdown",
   "id": "09d65944",
   "metadata": {},
   "source": [
    "<br>"
   ]
  },
  {
   "cell_type": "markdown",
   "id": "fb111e3d",
   "metadata": {},
   "source": [
    "# Linear Regression"
   ]
  },
  {
   "cell_type": "markdown",
   "id": "942aad36",
   "metadata": {},
   "source": [
    "<br>"
   ]
  },
  {
   "cell_type": "markdown",
   "id": "1ceb757f",
   "metadata": {},
   "source": [
    "Linear regression models the relationship between one or more observed features and the target variable.<br>\n",
    "<br>\n",
    "We use the regression methods to predict a continuous value."
   ]
  },
  {
   "cell_type": "markdown",
   "id": "64c93e10",
   "metadata": {},
   "source": [
    "> In regression there are two types of variables :<br>"
   ]
  },
  {
   "cell_type": "markdown",
   "id": "bc30afae",
   "metadata": {},
   "source": [
    "- The dependant variable can bee seen as the state, target or final goal we study and try to perdict.\n",
    "<br>\n",
    "<br>\n",
    "- The independant variables, also known as explanatory variables, can be seen as the causes of those states.\n",
    "<br>"
   ]
  },
  {
   "cell_type": "markdown",
   "id": "2edc71e2",
   "metadata": {},
   "source": [
    "_The independant variables are shown conventionally by X and the dependant variable is notated by Y._ "
   ]
  },
  {
   "cell_type": "markdown",
   "id": "3cea3e66",
   "metadata": {},
   "source": [
    "__The key point in the regression is that our dependant value should be continuous and cannot be discrete value. However, the independant variables can be measure on either a categorical or continuous measuements scale.__"
   ]
  },
  {
   "cell_type": "markdown",
   "id": "a4545477",
   "metadata": {},
   "source": [
    "<br>"
   ]
  },
  {
   "cell_type": "markdown",
   "id": "0c17ad7e",
   "metadata": {},
   "source": [
    "_Basically there are two types of regression models: simple regression and multiple regression._"
   ]
  },
  {
   "cell_type": "markdown",
   "id": "464ee6e2",
   "metadata": {},
   "source": [
    "- Simple regression is when one independant variable is used to estimate a dependant variable. It can be either linear or non-linear.\n",
    "<br>\n",
    "- When more than one independant variable is present the process is called multiple linear regression.It can be either linear or non-linear."
   ]
  },
  {
   "cell_type": "markdown",
   "id": "a9f747bc",
   "metadata": {},
   "source": [
    "---"
   ]
  },
  {
   "cell_type": "markdown",
   "id": "c4fc080c",
   "metadata": {},
   "source": [
    "### Model Evaluation in Regression Models"
   ]
  },
  {
   "cell_type": "markdown",
   "id": "180be458",
   "metadata": {},
   "source": [
    "The goal of regression is to build a model to accurately predict an unknown case."
   ]
  },
  {
   "cell_type": "markdown",
   "id": "45ca40c2",
   "metadata": {},
   "source": [
    ">There are 2 types of evaluation approaches that can be used :<br>\n",
    "a. Train and test on the same dataset <br>\n",
    "b. Train/test split\n",
    "     "
   ]
  },
  {
   "cell_type": "markdown",
   "id": "d630782f",
   "metadata": {},
   "source": [
    "_Best approach for the most accurate results?_"
   ]
  },
  {
   "cell_type": "markdown",
   "id": "cd91f180",
   "metadata": {},
   "source": [
    "- Train and test on the same data set probably give a result as high training accuracy and low out-of-sample accuracy because of overfitting may occur."
   ]
  },
  {
   "cell_type": "markdown",
   "id": "179f2d4d",
   "metadata": {},
   "source": [
    "Training Accuracy : It is the percentage of correct predictions that model makes when using the test data test. But it is not necessarily a good thing. Overfit may occur*"
   ]
  },
  {
   "cell_type": "markdown",
   "id": "a7961e0d",
   "metadata": {},
   "source": [
    "It is important that our model has high out-of-sample accuracy."
   ]
  },
  {
   "cell_type": "markdown",
   "id": "27ae7a9f",
   "metadata": {},
   "source": [
    "- Train / test split involves splitting the dataset into training and testing dataset."
   ]
  },
  {
   "cell_type": "markdown",
   "id": "7ad91a8a",
   "metadata": {},
   "source": [
    "This will be provide a more accurate evaluation on out-of-sample accuracy because testin data set is not part of the dataset which has been used to train the data."
   ]
  },
  {
   "cell_type": "markdown",
   "id": "59d76801",
   "metadata": {},
   "source": [
    "---"
   ]
  },
  {
   "cell_type": "markdown",
   "id": "50770754",
   "metadata": {},
   "source": [
    "### Evaluation Metrics in Regression Models"
   ]
  },
  {
   "cell_type": "markdown",
   "id": "f3fbeaf2",
   "metadata": {},
   "source": [
    "<br>"
   ]
  },
  {
   "cell_type": "markdown",
   "id": "d8a6322b",
   "metadata": {},
   "source": [
    "Evaluation metrics are used to explain the performance of a model."
   ]
  },
  {
   "cell_type": "markdown",
   "id": "c52e43b4",
   "metadata": {},
   "source": [
    "The error of the model is the difference between the data points and th trend line generated by algorithm"
   ]
  },
  {
   "cell_type": "markdown",
   "id": "0c1bba6d",
   "metadata": {},
   "source": [
    "Most common evaluation metrics are:<br>\n",
    "a. Mean Absulute Error<br>\n",
    "b. Mean squarred error<br>\n",
    "c. Root Mean Squared Error"
   ]
  },
  {
   "cell_type": "markdown",
   "id": "eac3f81e",
   "metadata": {},
   "source": [
    "_R squared is not an error per say but is a popular metric for the accuracy of the model.<br>_\n",
    "<br>\n",
    "___The higher the R-squared, the better the model fits the data___ "
   ]
  },
  {
   "cell_type": "markdown",
   "id": "ab79a3ec",
   "metadata": {},
   "source": [
    "---"
   ]
  }
 ],
 "metadata": {
  "kernelspec": {
   "display_name": "Python 3",
   "language": "python",
   "name": "python3"
  },
  "language_info": {
   "codemirror_mode": {
    "name": "ipython",
    "version": 3
   },
   "file_extension": ".py",
   "mimetype": "text/x-python",
   "name": "python",
   "nbconvert_exporter": "python",
   "pygments_lexer": "ipython3",
   "version": "3.8.8"
  }
 },
 "nbformat": 4,
 "nbformat_minor": 5
}
