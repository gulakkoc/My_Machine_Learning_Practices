{
 "cells": [
  {
   "cell_type": "markdown",
   "id": "464202e4",
   "metadata": {},
   "source": [
    "<br>"
   ]
  },
  {
   "cell_type": "markdown",
   "id": "21d3c910",
   "metadata": {},
   "source": [
    "<br>"
   ]
  },
  {
   "cell_type": "markdown",
   "id": "4e292177",
   "metadata": {},
   "source": [
    "# Supervised Learning - Codebook"
   ]
  },
  {
   "cell_type": "markdown",
   "id": "f0310d17",
   "metadata": {},
   "source": [
    "<br>"
   ]
  },
  {
   "cell_type": "code",
   "execution_count": 1,
   "id": "684538e3",
   "metadata": {},
   "outputs": [],
   "source": [
    "import numpy as np\n",
    "import pandas as pd\n",
    "\n",
    "import matplotlib.pyplot as plt\n",
    "import seaborn as sns\n",
    "\n",
    "import scipy.stats as stats\n",
    "\n",
    "from sklearn.model_selection import train_test_split\n",
    "import sklearn.metrics \n",
    "\n",
    "import warnings\n",
    "warnings.filterwarnings('ignore')"
   ]
  },
  {
   "cell_type": "markdown",
   "id": "9f4bbd92",
   "metadata": {},
   "source": [
    "<br>"
   ]
  },
  {
   "cell_type": "markdown",
   "id": "536e2694",
   "metadata": {},
   "source": [
    "# Feature Engineering"
   ]
  },
  {
   "cell_type": "markdown",
   "id": "34be08d9",
   "metadata": {},
   "source": [
    "### Checking Missing Values"
   ]
  },
  {
   "cell_type": "code",
   "execution_count": 1,
   "id": "746cdf3f",
   "metadata": {},
   "outputs": [],
   "source": [
    "def check_null(data_frame):\n",
    "        for col in data_frame.columns:\n",
    "            if data_frame[col].isnull().sum()!= 0:\n",
    "                print(\"|\",col,\"  ---->  \",data_frame[col].isnull().sum(),\"\\n\",\"_______________________________\")\n",
    "            else:\n",
    "                pass"
   ]
  },
  {
   "cell_type": "code",
   "execution_count": 2,
   "id": "63e915d1",
   "metadata": {},
   "outputs": [],
   "source": [
    "def null_columns(data_frame):\n",
    "        null_col_list = []\n",
    "        for col in data_frame.columns:\n",
    "            if data_frame[col].isnull().sum()!= 0:\n",
    "                null_col_list.append(col)\n",
    "            else:\n",
    "                pass\n",
    "        print(null_col_list)"
   ]
  },
  {
   "cell_type": "markdown",
   "id": "377fa0b8",
   "metadata": {},
   "source": [
    "## Checking - dropping duplicates"
   ]
  },
  {
   "cell_type": "code",
   "execution_count": null,
   "id": "6fa3447e",
   "metadata": {},
   "outputs": [],
   "source": [
    "df.duplicated().sum()"
   ]
  },
  {
   "cell_type": "code",
   "execution_count": null,
   "id": "abcaee17",
   "metadata": {},
   "outputs": [],
   "source": [
    "df.drop_duplicates(inplace=True)"
   ]
  },
  {
   "cell_type": "markdown",
   "id": "f4acfd7b",
   "metadata": {},
   "source": [
    "## Heatmap"
   ]
  },
  {
   "cell_type": "code",
   "execution_count": null,
   "id": "7f037fc3",
   "metadata": {},
   "outputs": [],
   "source": [
    "plt.figure(figsize=(10, 6))\n",
    "sns.heatmap(df.corr(), annot=True)\n",
    "plt.show()"
   ]
  },
  {
   "cell_type": "markdown",
   "id": "5684b39b",
   "metadata": {},
   "source": [
    "<br>"
   ]
  },
  {
   "cell_type": "markdown",
   "id": "be8451b3",
   "metadata": {},
   "source": [
    "## Get Dummies"
   ]
  },
  {
   "cell_type": "code",
   "execution_count": null,
   "id": "899df6f8",
   "metadata": {},
   "outputs": [],
   "source": [
    "pd.get_dummies(df, drop_first = True)"
   ]
  },
  {
   "cell_type": "markdown",
   "id": "ca1292f9",
   "metadata": {},
   "source": [
    "# Train - Test Split"
   ]
  },
  {
   "cell_type": "code",
   "execution_count": null,
   "id": "ac54d4b6",
   "metadata": {},
   "outputs": [],
   "source": [
    "X = df.drop(columns =\"sales\")\n",
    "y = df[\"sales\"]"
   ]
  },
  {
   "cell_type": "code",
   "execution_count": null,
   "id": "37e16ca5",
   "metadata": {},
   "outputs": [],
   "source": [
    "X_train, X_test, y_train, y_test = train_test_split(X, y, test_size=0.3, random_state=42)"
   ]
  },
  {
   "cell_type": "code",
   "execution_count": null,
   "id": "ea1f4328",
   "metadata": {},
   "outputs": [],
   "source": []
  },
  {
   "cell_type": "markdown",
   "id": "4d6c8731",
   "metadata": {},
   "source": [
    "# Linear Regression"
   ]
  },
  {
   "cell_type": "code",
   "execution_count": null,
   "id": "baa5d3cc",
   "metadata": {},
   "outputs": [],
   "source": [
    "model = LinearRegression()"
   ]
  },
  {
   "cell_type": "code",
   "execution_count": null,
   "id": "ed04b935",
   "metadata": {},
   "outputs": [],
   "source": [
    "model.fit(X_train, y_train)"
   ]
  },
  {
   "cell_type": "code",
   "execution_count": null,
   "id": "5c72c9d3",
   "metadata": {},
   "outputs": [],
   "source": [
    "model.coef_"
   ]
  },
  {
   "cell_type": "code",
   "execution_count": null,
   "id": "b97a56bc",
   "metadata": {},
   "outputs": [],
   "source": [
    "model.intercept_"
   ]
  },
  {
   "cell_type": "code",
   "execution_count": null,
   "id": "4320a795",
   "metadata": {},
   "outputs": [],
   "source": [
    "y_pred = model.predict(X_test)"
   ]
  },
  {
   "cell_type": "code",
   "execution_count": null,
   "id": "0e9f7d1e",
   "metadata": {},
   "outputs": [],
   "source": [
    "my_dict = {\"Actual\":y_test, \"pred\": y_pred, 'residuals': y_test-y_pred}\n",
    "compare = pd.DataFrame(my_dict)\n",
    "compare"
   ]
  },
  {
   "cell_type": "code",
   "execution_count": null,
   "id": "5f7d52db",
   "metadata": {},
   "outputs": [],
   "source": [
    "residuals = y_test-y_pred"
   ]
  },
  {
   "cell_type": "code",
   "execution_count": null,
   "id": "681bd108",
   "metadata": {},
   "outputs": [],
   "source": [
    "plt.figure(figsize=(10, 6))\n",
    "sns.kdeplot(residuals)"
   ]
  },
  {
   "cell_type": "code",
   "execution_count": null,
   "id": "9a40bb76",
   "metadata": {},
   "outputs": [],
   "source": [
    "plt.figure(figsize=(10, 6))\n",
    "stats.probplot(residuals, plot=plt);"
   ]
  },
  {
   "cell_type": "code",
   "execution_count": null,
   "id": "9ad5eb33",
   "metadata": {},
   "outputs": [],
   "source": [
    "model.score(X_train, y_train)"
   ]
  },
  {
   "cell_type": "code",
   "execution_count": null,
   "id": "b2a7fa0a",
   "metadata": {},
   "outputs": [],
   "source": [
    "model.score(X_train, y_train)"
   ]
  },
  {
   "cell_type": "code",
   "execution_count": 5,
   "id": "9e098d5c",
   "metadata": {},
   "outputs": [],
   "source": [
    "def eval_metric(actual, pred):\n",
    "    mae = metrics.mean_absolute_error(actual, pred)\n",
    "    mse = metrics.mean_squared_error(actual, pred)\n",
    "    rmse = np.sqrt(metrics.mean_squared_error(actual, pred))\n",
    "    score = r2_score(actual, pred)\n",
    "    return print(\"r2_score:\", score, \"\\n\", \"mae:\", mae, \"\\n\", \"mse\", mse, \"\\n\", \"rmse\", rmse)"
   ]
  },
  {
   "cell_type": "code",
   "execution_count": null,
   "id": "348c52a3",
   "metadata": {},
   "outputs": [],
   "source": []
  },
  {
   "cell_type": "code",
   "execution_count": null,
   "id": "b78ba2d0",
   "metadata": {},
   "outputs": [],
   "source": []
  },
  {
   "cell_type": "code",
   "execution_count": null,
   "id": "3870ebb9",
   "metadata": {},
   "outputs": [],
   "source": []
  },
  {
   "cell_type": "code",
   "execution_count": null,
   "id": "b664ee8d",
   "metadata": {},
   "outputs": [],
   "source": []
  },
  {
   "cell_type": "code",
   "execution_count": null,
   "id": "3cfe15a9",
   "metadata": {},
   "outputs": [],
   "source": []
  },
  {
   "cell_type": "code",
   "execution_count": null,
   "id": "5e31f5c6",
   "metadata": {},
   "outputs": [],
   "source": []
  },
  {
   "cell_type": "code",
   "execution_count": null,
   "id": "fcb44e40",
   "metadata": {},
   "outputs": [],
   "source": []
  },
  {
   "cell_type": "code",
   "execution_count": null,
   "id": "026c9ab8",
   "metadata": {},
   "outputs": [],
   "source": []
  },
  {
   "cell_type": "code",
   "execution_count": null,
   "id": "34197d4f",
   "metadata": {},
   "outputs": [],
   "source": []
  },
  {
   "cell_type": "code",
   "execution_count": null,
   "id": "c33d5e24",
   "metadata": {},
   "outputs": [],
   "source": []
  },
  {
   "cell_type": "code",
   "execution_count": null,
   "id": "a2d9447e",
   "metadata": {},
   "outputs": [],
   "source": []
  },
  {
   "cell_type": "code",
   "execution_count": null,
   "id": "be691115",
   "metadata": {},
   "outputs": [],
   "source": []
  },
  {
   "cell_type": "code",
   "execution_count": null,
   "id": "73b0415e",
   "metadata": {},
   "outputs": [],
   "source": []
  },
  {
   "cell_type": "code",
   "execution_count": null,
   "id": "fa83c2ff",
   "metadata": {},
   "outputs": [],
   "source": []
  },
  {
   "cell_type": "code",
   "execution_count": null,
   "id": "81345e62",
   "metadata": {},
   "outputs": [],
   "source": []
  },
  {
   "cell_type": "code",
   "execution_count": null,
   "id": "80384fa9",
   "metadata": {},
   "outputs": [],
   "source": []
  },
  {
   "cell_type": "code",
   "execution_count": null,
   "id": "4b7460f1",
   "metadata": {},
   "outputs": [],
   "source": []
  },
  {
   "cell_type": "code",
   "execution_count": null,
   "id": "10609537",
   "metadata": {},
   "outputs": [],
   "source": []
  },
  {
   "cell_type": "code",
   "execution_count": null,
   "id": "5c5a8bed",
   "metadata": {},
   "outputs": [],
   "source": []
  }
 ],
 "metadata": {
  "kernelspec": {
   "display_name": "Python 3",
   "language": "python",
   "name": "python3"
  },
  "language_info": {
   "codemirror_mode": {
    "name": "ipython",
    "version": 3
   },
   "file_extension": ".py",
   "mimetype": "text/x-python",
   "name": "python",
   "nbconvert_exporter": "python",
   "pygments_lexer": "ipython3",
   "version": "3.8.8"
  }
 },
 "nbformat": 4,
 "nbformat_minor": 5
}
