{
 "cells": [
  {
   "cell_type": "code",
   "execution_count": 4,
   "id": "b133fb5c",
   "metadata": {},
   "outputs": [],
   "source": [
    "import numpy as np\n",
    "import pandas as pd\n",
    "\n",
    "import matplotlib.pyplot as plt \n",
    "import seaborn as sns\n",
    "\n",
    "import scipy.stats as stats\n",
    "\n",
    "from sklearn.model_selection import train_test_split, GridSearchCV, cross_validate\n",
    "from sklearn.linear_model import LinearRegression, Ridge, RidgeCV, Lasso, LassoCV, ElasticNet, ElasticNetCV\n",
    "from sklearn.preprocessing import MinMaxScaler\n",
    "from sklearn.metrics import mean_absolute_error, mean_squared_error, r2_score\n",
    "\n",
    "from yellowbrick.regressor import PredictionError, ResidualsPlot\n",
    "from yellowbrick.model_selection import FeatureImportances\n",
    "from yellowbrick.features import RadViz\n",
    "\n",
    "plt.rcParams[\"figure.figsize\"] = (9,5)\n",
    "import warnings\n",
    "warnings.filterwarnings('ignore')\n",
    "pd.set_option('display.max_rows', 500)\n",
    "pd.set_option('display.max_columns', 500)\n",
    "pd.set_option('display.width', 1000)"
   ]
  },
  {
   "cell_type": "markdown",
   "id": "e7e6ccca",
   "metadata": {},
   "source": [
    "---"
   ]
  },
  {
   "cell_type": "markdown",
   "id": "079dc0eb",
   "metadata": {},
   "source": [
    "## Used Car Price Prediction"
   ]
  },
  {
   "cell_type": "markdown",
   "id": "61e45eae",
   "metadata": {},
   "source": [
    "<br>"
   ]
  },
  {
   "cell_type": "code",
   "execution_count": 5,
   "id": "b3e067fe",
   "metadata": {},
   "outputs": [],
   "source": [
    "df = pd.read_csv('final_scout_not_dummy.csv')"
   ]
  },
  {
   "cell_type": "code",
   "execution_count": 7,
   "id": "fa78b3ed",
   "metadata": {},
   "outputs": [
    {
     "data": {
      "text/html": [
       "<div>\n",
       "<style scoped>\n",
       "    .dataframe tbody tr th:only-of-type {\n",
       "        vertical-align: middle;\n",
       "    }\n",
       "\n",
       "    .dataframe tbody tr th {\n",
       "        vertical-align: top;\n",
       "    }\n",
       "\n",
       "    .dataframe thead th {\n",
       "        text-align: right;\n",
       "    }\n",
       "</style>\n",
       "<table border=\"1\" class=\"dataframe\">\n",
       "  <thead>\n",
       "    <tr style=\"text-align: right;\">\n",
       "      <th></th>\n",
       "      <th>8823</th>\n",
       "      <th>4101</th>\n",
       "      <th>4325</th>\n",
       "    </tr>\n",
       "  </thead>\n",
       "  <tbody>\n",
       "    <tr>\n",
       "      <th>make_model</th>\n",
       "      <td>Opel Corsa</td>\n",
       "      <td>Audi A3</td>\n",
       "      <td>Audi A3</td>\n",
       "    </tr>\n",
       "    <tr>\n",
       "      <th>body_type</th>\n",
       "      <td>Compact</td>\n",
       "      <td>Sedans</td>\n",
       "      <td>Sedans</td>\n",
       "    </tr>\n",
       "    <tr>\n",
       "      <th>price</th>\n",
       "      <td>4990</td>\n",
       "      <td>19499</td>\n",
       "      <td>17440</td>\n",
       "    </tr>\n",
       "    <tr>\n",
       "      <th>vat</th>\n",
       "      <td>VAT deductible</td>\n",
       "      <td>VAT deductible</td>\n",
       "      <td>VAT deductible</td>\n",
       "    </tr>\n",
       "    <tr>\n",
       "      <th>km</th>\n",
       "      <td>79000.0</td>\n",
       "      <td>28874.0</td>\n",
       "      <td>25850.0</td>\n",
       "    </tr>\n",
       "    <tr>\n",
       "      <th>Type</th>\n",
       "      <td>Used</td>\n",
       "      <td>Used</td>\n",
       "      <td>Used</td>\n",
       "    </tr>\n",
       "    <tr>\n",
       "      <th>Fuel</th>\n",
       "      <td>Benzine</td>\n",
       "      <td>Diesel</td>\n",
       "      <td>Diesel</td>\n",
       "    </tr>\n",
       "    <tr>\n",
       "      <th>Gears</th>\n",
       "      <td>5.0</td>\n",
       "      <td>6.0</td>\n",
       "      <td>6.0</td>\n",
       "    </tr>\n",
       "    <tr>\n",
       "      <th>Comfort_Convenience</th>\n",
       "      <td>Air conditioning,Cruise control,Electrical sid...</td>\n",
       "      <td>Air conditioning,Automatic climate control,Pow...</td>\n",
       "      <td>Air conditioning,Armrest,Cruise control,Electr...</td>\n",
       "    </tr>\n",
       "    <tr>\n",
       "      <th>Entertainment_Media</th>\n",
       "      <td>Bluetooth,Hands-free equipment,On-board comput...</td>\n",
       "      <td>Bluetooth</td>\n",
       "      <td>Bluetooth,CD player,Hands-free equipment,MP3,O...</td>\n",
       "    </tr>\n",
       "    <tr>\n",
       "      <th>Extras</th>\n",
       "      <td>Alloy wheels,Touch screen</td>\n",
       "      <td>Alloy wheels</td>\n",
       "      <td>Alloy wheels,Roof rack</td>\n",
       "    </tr>\n",
       "    <tr>\n",
       "      <th>Safety_Security</th>\n",
       "      <td>ABS,Central door lock,Central door lock with r...</td>\n",
       "      <td>ABS,Central door lock,Central door lock with r...</td>\n",
       "      <td>ABS,Central door lock,Central door lock with r...</td>\n",
       "    </tr>\n",
       "    <tr>\n",
       "      <th>age</th>\n",
       "      <td>3.0</td>\n",
       "      <td>1.0</td>\n",
       "      <td>2.0</td>\n",
       "    </tr>\n",
       "    <tr>\n",
       "      <th>Previous_Owners</th>\n",
       "      <td>1.0</td>\n",
       "      <td>1.0</td>\n",
       "      <td>2.0</td>\n",
       "    </tr>\n",
       "    <tr>\n",
       "      <th>hp_kW</th>\n",
       "      <td>66.0</td>\n",
       "      <td>85.0</td>\n",
       "      <td>81.0</td>\n",
       "    </tr>\n",
       "    <tr>\n",
       "      <th>Inspection_new</th>\n",
       "      <td>0</td>\n",
       "      <td>0</td>\n",
       "      <td>1</td>\n",
       "    </tr>\n",
       "    <tr>\n",
       "      <th>Paint_Type</th>\n",
       "      <td>Metallic</td>\n",
       "      <td>Uni/basic</td>\n",
       "      <td>Metallic</td>\n",
       "    </tr>\n",
       "    <tr>\n",
       "      <th>Upholstery_type</th>\n",
       "      <td>Cloth</td>\n",
       "      <td>Cloth</td>\n",
       "      <td>Cloth</td>\n",
       "    </tr>\n",
       "    <tr>\n",
       "      <th>Gearing_Type</th>\n",
       "      <td>Manual</td>\n",
       "      <td>Manual</td>\n",
       "      <td>Manual</td>\n",
       "    </tr>\n",
       "    <tr>\n",
       "      <th>Displacement_cc</th>\n",
       "      <td>1398.0</td>\n",
       "      <td>1598.0</td>\n",
       "      <td>1598.0</td>\n",
       "    </tr>\n",
       "    <tr>\n",
       "      <th>Weight_kg</th>\n",
       "      <td>1141.0</td>\n",
       "      <td>1360.0</td>\n",
       "      <td>1360.0</td>\n",
       "    </tr>\n",
       "    <tr>\n",
       "      <th>Drive_chain</th>\n",
       "      <td>front</td>\n",
       "      <td>front</td>\n",
       "      <td>front</td>\n",
       "    </tr>\n",
       "    <tr>\n",
       "      <th>cons_comb</th>\n",
       "      <td>5.2</td>\n",
       "      <td>4.0</td>\n",
       "      <td>3.8</td>\n",
       "    </tr>\n",
       "  </tbody>\n",
       "</table>\n",
       "</div>"
      ],
      "text/plain": [
       "                                                                  8823                                               4101                                               4325\n",
       "make_model                                                  Opel Corsa                                            Audi A3                                            Audi A3\n",
       "body_type                                                      Compact                                             Sedans                                             Sedans\n",
       "price                                                             4990                                              19499                                              17440\n",
       "vat                                                     VAT deductible                                     VAT deductible                                     VAT deductible\n",
       "km                                                             79000.0                                            28874.0                                            25850.0\n",
       "Type                                                              Used                                               Used                                               Used\n",
       "Fuel                                                           Benzine                                             Diesel                                             Diesel\n",
       "Gears                                                              5.0                                                6.0                                                6.0\n",
       "Comfort_Convenience  Air conditioning,Cruise control,Electrical sid...  Air conditioning,Automatic climate control,Pow...  Air conditioning,Armrest,Cruise control,Electr...\n",
       "Entertainment_Media  Bluetooth,Hands-free equipment,On-board comput...                                          Bluetooth  Bluetooth,CD player,Hands-free equipment,MP3,O...\n",
       "Extras                                       Alloy wheels,Touch screen                                       Alloy wheels                             Alloy wheels,Roof rack\n",
       "Safety_Security      ABS,Central door lock,Central door lock with r...  ABS,Central door lock,Central door lock with r...  ABS,Central door lock,Central door lock with r...\n",
       "age                                                                3.0                                                1.0                                                2.0\n",
       "Previous_Owners                                                    1.0                                                1.0                                                2.0\n",
       "hp_kW                                                             66.0                                               85.0                                               81.0\n",
       "Inspection_new                                                       0                                                  0                                                  1\n",
       "Paint_Type                                                    Metallic                                          Uni/basic                                           Metallic\n",
       "Upholstery_type                                                  Cloth                                              Cloth                                              Cloth\n",
       "Gearing_Type                                                    Manual                                             Manual                                             Manual\n",
       "Displacement_cc                                                 1398.0                                             1598.0                                             1598.0\n",
       "Weight_kg                                                       1141.0                                             1360.0                                             1360.0\n",
       "Drive_chain                                                      front                                              front                                              front\n",
       "cons_comb                                                          5.2                                                4.0                                                3.8"
      ]
     },
     "execution_count": 7,
     "metadata": {},
     "output_type": "execute_result"
    }
   ],
   "source": [
    "df.sample(3).T"
   ]
  },
  {
   "cell_type": "code",
   "execution_count": 8,
   "id": "09592438",
   "metadata": {},
   "outputs": [
    {
     "name": "stdout",
     "output_type": "stream",
     "text": [
      "<class 'pandas.core.frame.DataFrame'>\n",
      "RangeIndex: 15915 entries, 0 to 15914\n",
      "Data columns (total 23 columns):\n",
      " #   Column               Non-Null Count  Dtype  \n",
      "---  ------               --------------  -----  \n",
      " 0   make_model           15915 non-null  object \n",
      " 1   body_type            15915 non-null  object \n",
      " 2   price                15915 non-null  int64  \n",
      " 3   vat                  15915 non-null  object \n",
      " 4   km                   15915 non-null  float64\n",
      " 5   Type                 15915 non-null  object \n",
      " 6   Fuel                 15915 non-null  object \n",
      " 7   Gears                15915 non-null  float64\n",
      " 8   Comfort_Convenience  15915 non-null  object \n",
      " 9   Entertainment_Media  15915 non-null  object \n",
      " 10  Extras               15915 non-null  object \n",
      " 11  Safety_Security      15915 non-null  object \n",
      " 12  age                  15915 non-null  float64\n",
      " 13  Previous_Owners      15915 non-null  float64\n",
      " 14  hp_kW                15915 non-null  float64\n",
      " 15  Inspection_new       15915 non-null  int64  \n",
      " 16  Paint_Type           15915 non-null  object \n",
      " 17  Upholstery_type      15915 non-null  object \n",
      " 18  Gearing_Type         15915 non-null  object \n",
      " 19  Displacement_cc      15915 non-null  float64\n",
      " 20  Weight_kg            15915 non-null  float64\n",
      " 21  Drive_chain          15915 non-null  object \n",
      " 22  cons_comb            15915 non-null  float64\n",
      "dtypes: float64(8), int64(2), object(13)\n",
      "memory usage: 2.8+ MB\n"
     ]
    }
   ],
   "source": [
    "df.info()"
   ]
  },
  {
   "cell_type": "code",
   "execution_count": 47,
   "id": "22cf38d1",
   "metadata": {},
   "outputs": [
    {
     "name": "stdout",
     "output_type": "stream",
     "text": [
      "make_model \n",
      "\n",
      " Audi A3           3097\n",
      "Audi A1           2614\n",
      "Opel Insignia     2598\n",
      "Opel Astra        2525\n",
      "Opel Corsa        2216\n",
      "Renault Clio      1839\n",
      "Renault Espace     991\n",
      "Renault Duster      34\n",
      "Audi A2              1\n",
      "Name: make_model, dtype: int64 \n",
      " \n",
      " **********************************\n",
      "\n",
      "\n",
      "body_type \n",
      "\n",
      " Sedans           8004\n",
      "Station wagon    3677\n",
      "Compact          3240\n",
      "Van               817\n",
      "Transporter        88\n",
      "Off-Road           56\n",
      "Coupe              25\n",
      "Convertible         8\n",
      "Name: body_type, dtype: int64 \n",
      " \n",
      " **********************************\n",
      "\n",
      "\n",
      "vat \n",
      "\n",
      " VAT deductible      15044\n",
      "Price negotiable      871\n",
      "Name: vat, dtype: int64 \n",
      " \n",
      " **********************************\n",
      "\n",
      "\n",
      "Type \n",
      "\n",
      " Used              11095\n",
      "New                1649\n",
      "Pre-registered     1364\n",
      "Employee's car     1011\n",
      "Demonstration       796\n",
      "Name: Type, dtype: int64 \n",
      " \n",
      " **********************************\n",
      "\n",
      "\n",
      "Fuel \n",
      "\n",
      " Benzine     8548\n",
      "Diesel      7298\n",
      "LPG/CNG       64\n",
      "Electric       5\n",
      "Name: Fuel, dtype: int64 \n",
      " \n",
      " **********************************\n",
      "\n",
      "\n",
      "\n",
      " *** Comfort_Convenience *** \n",
      "\n",
      "\n",
      " *** Entertainment_Media *** \n",
      "\n",
      "\n",
      " *** Extras *** \n",
      "\n",
      "\n",
      " *** Safety_Security *** \n",
      "\n",
      "Paint_Type \n",
      "\n",
      " Metallic       15246\n",
      "Uni/basic        637\n",
      "Perl effect       32\n",
      "Name: Paint_Type, dtype: int64 \n",
      " \n",
      " **********************************\n",
      "\n",
      "\n",
      "Upholstery_type \n",
      "\n",
      " Cloth                12234\n",
      "Part/Full Leather     3681\n",
      "Name: Upholstery_type, dtype: int64 \n",
      " \n",
      " **********************************\n",
      "\n",
      "\n",
      "Gearing_Type \n",
      "\n",
      " Manual            8149\n",
      "Automatic         7297\n",
      "Semi-automatic     469\n",
      "Name: Gearing_Type, dtype: int64 \n",
      " \n",
      " **********************************\n",
      "\n",
      "\n",
      "Drive_chain \n",
      "\n",
      " front    15707\n",
      "4WD        204\n",
      "rear         4\n",
      "Name: Drive_chain, dtype: int64 \n",
      " \n",
      " **********************************\n",
      "\n",
      "\n"
     ]
    }
   ],
   "source": [
    "for i in df.select_dtypes('object').columns:\n",
    "    if len(df[i].unique())<100:\n",
    "        print(i , \"\\n\"\"\\n\", df[i].value_counts(),\"\\n\",\"\\n\",\"**********************************\"\"\\n\\n\")\n",
    "        \n",
    "    else :\n",
    "        print(\"\\n\",\"***\",i,\"***\",\"\\n\")"
   ]
  },
  {
   "cell_type": "markdown",
   "id": "3c2d7cab",
   "metadata": {},
   "source": [
    "__To do list :__"
   ]
  },
  {
   "cell_type": "markdown",
   "id": "564c3fcf",
   "metadata": {},
   "source": [
    "- _Make_model :_ Drop \"Audi A2\"\n",
    "- _Body_type :_ Create another column named 'Other' for Off-Road,Coupe and Convertible columns.\n",
    "- _Fuel :_ Drop the ones where fuel = electric\n",
    "- _Drive_chain :_ Drop the ones where Drive_chain = rear\n",
    "- ** Come back again 'Comfort_Convenience', 'Entertainment_Media','Extras','Safety_Security' columns."
   ]
  },
  {
   "cell_type": "code",
   "execution_count": 50,
   "id": "acbe676f",
   "metadata": {},
   "outputs": [],
   "source": [
    "df = df[df['make_model'] != 'Audi A2']"
   ]
  },
  {
   "cell_type": "code",
   "execution_count": 70,
   "id": "3c1e52a1",
   "metadata": {},
   "outputs": [],
   "source": [
    "df['body_type'].replace({'Transporter': 'Other',\n",
    "                        'Off-Road': 'Other',\n",
    "                        'Coupe': 'Other',\n",
    "                        'Convertible': 'Other'}, inplace=True)"
   ]
  },
  {
   "cell_type": "code",
   "execution_count": 71,
   "id": "dcfc0dc8",
   "metadata": {},
   "outputs": [
    {
     "data": {
      "text/plain": [
       "Sedans           8004\n",
       "Station wagon    3677\n",
       "Compact          3240\n",
       "Van               817\n",
       "Other             176\n",
       "Name: body_type, dtype: int64"
      ]
     },
     "execution_count": 71,
     "metadata": {},
     "output_type": "execute_result"
    }
   ],
   "source": [
    "df.body_type.value_counts()"
   ]
  },
  {
   "cell_type": "code",
   "execution_count": 74,
   "id": "e822760a",
   "metadata": {},
   "outputs": [],
   "source": [
    "df = df[df.Fuel != 'Electric']"
   ]
  },
  {
   "cell_type": "code",
   "execution_count": 75,
   "id": "cb6b3a82",
   "metadata": {},
   "outputs": [
    {
     "data": {
      "text/plain": [
       "Benzine    8548\n",
       "Diesel     7297\n",
       "LPG/CNG      64\n",
       "Name: Fuel, dtype: int64"
      ]
     },
     "execution_count": 75,
     "metadata": {},
     "output_type": "execute_result"
    }
   ],
   "source": [
    "df.Fuel.value_counts()"
   ]
  },
  {
   "cell_type": "code",
   "execution_count": 76,
   "id": "e8d2a37d",
   "metadata": {},
   "outputs": [
    {
     "data": {
      "text/plain": [
       "front    15701\n",
       "4WD        204\n",
       "rear         4\n",
       "Name: Drive_chain, dtype: int64"
      ]
     },
     "execution_count": 76,
     "metadata": {},
     "output_type": "execute_result"
    }
   ],
   "source": [
    "df.Drive_chain.value_counts()"
   ]
  },
  {
   "cell_type": "code",
   "execution_count": 79,
   "id": "6610fc68",
   "metadata": {},
   "outputs": [],
   "source": [
    "df = df[df.Drive_chain != 'rear']"
   ]
  },
  {
   "cell_type": "code",
   "execution_count": 80,
   "id": "cb5eeb6f",
   "metadata": {},
   "outputs": [
    {
     "data": {
      "text/plain": [
       "front    15701\n",
       "4WD        204\n",
       "Name: Drive_chain, dtype: int64"
      ]
     },
     "execution_count": 80,
     "metadata": {},
     "output_type": "execute_result"
    }
   ],
   "source": [
    "df.Drive_chain.value_counts()"
   ]
  },
  {
   "cell_type": "code",
   "execution_count": 82,
   "id": "c36d409f",
   "metadata": {},
   "outputs": [],
   "source": [
    "df.drop(['Comfort_Convenience', 'Entertainment_Media','Extras','Safety_Security'], axis = 1, inplace = True)"
   ]
  },
  {
   "cell_type": "code",
   "execution_count": 83,
   "id": "64a652e8",
   "metadata": {},
   "outputs": [
    {
     "data": {
      "text/plain": [
       "Index(['make_model', 'body_type', 'price', 'vat', 'km', 'Type', 'Fuel', 'Gears', 'age', 'Previous_Owners', 'hp_kW', 'Inspection_new', 'Paint_Type', 'Upholstery_type', 'Gearing_Type', 'Displacement_cc', 'Weight_kg', 'Drive_chain', 'cons_comb'], dtype='object')"
      ]
     },
     "execution_count": 83,
     "metadata": {},
     "output_type": "execute_result"
    }
   ],
   "source": [
    "df.columns"
   ]
  },
  {
   "cell_type": "code",
   "execution_count": 84,
   "id": "6e0e9313",
   "metadata": {},
   "outputs": [
    {
     "name": "stdout",
     "output_type": "stream",
     "text": [
      "<class 'pandas.core.frame.DataFrame'>\n",
      "Int64Index: 15905 entries, 0 to 15914\n",
      "Data columns (total 19 columns):\n",
      " #   Column           Non-Null Count  Dtype  \n",
      "---  ------           --------------  -----  \n",
      " 0   make_model       15905 non-null  object \n",
      " 1   body_type        15905 non-null  object \n",
      " 2   price            15905 non-null  int64  \n",
      " 3   vat              15905 non-null  object \n",
      " 4   km               15905 non-null  float64\n",
      " 5   Type             15905 non-null  object \n",
      " 6   Fuel             15905 non-null  object \n",
      " 7   Gears            15905 non-null  float64\n",
      " 8   age              15905 non-null  float64\n",
      " 9   Previous_Owners  15905 non-null  float64\n",
      " 10  hp_kW            15905 non-null  float64\n",
      " 11  Inspection_new   15905 non-null  int64  \n",
      " 12  Paint_Type       15905 non-null  object \n",
      " 13  Upholstery_type  15905 non-null  object \n",
      " 14  Gearing_Type     15905 non-null  object \n",
      " 15  Displacement_cc  15905 non-null  float64\n",
      " 16  Weight_kg        15905 non-null  float64\n",
      " 17  Drive_chain      15905 non-null  object \n",
      " 18  cons_comb        15905 non-null  float64\n",
      "dtypes: float64(8), int64(2), object(9)\n",
      "memory usage: 2.4+ MB\n"
     ]
    }
   ],
   "source": [
    "df.info()"
   ]
  },
  {
   "cell_type": "code",
   "execution_count": 85,
   "id": "b13393c3",
   "metadata": {},
   "outputs": [
    {
     "data": {
      "text/plain": [
       "<AxesSubplot:>"
      ]
     },
     "execution_count": 85,
     "metadata": {},
     "output_type": "execute_result"
    },
    {
     "data": {
      "image/png": "[encoded data removed]",
      "text/plain": [
       "<Figure size 648x360 with 2 Axes>"
      ]
     },
     "metadata": {},
     "output_type": "display_data"
    }
   ],
   "source": [
    "sns.heatmap(df.corr(), annot = True)"
   ]
  },
  {
   "cell_type": "code",
   "execution_count": 90,
   "id": "bb48e8f7",
   "metadata": {},
   "outputs": [
    {
     "name": "stdout",
     "output_type": "stream",
     "text": [
      "make_model\n",
      "body_type\n",
      "price\n",
      "vat\n",
      "km\n",
      "Type\n",
      "Fuel\n",
      "Gears\n",
      "age\n",
      "Previous_Owners\n",
      "hp_kW\n",
      "Inspection_new\n",
      "Paint_Type\n",
      "Upholstery_type\n",
      "Gearing_Type\n",
      "Displacement_cc\n",
      "Weight_kg\n",
      "Drive_chain\n",
      "cons_comb\n"
     ]
    }
   ],
   "source": [
    "for i in df.columns:\n",
    "    print(i)"
   ]
  },
  {
   "cell_type": "code",
   "execution_count": 100,
   "id": "08d022ea",
   "metadata": {},
   "outputs": [
    {
     "ename": "TypeError",
     "evalue": "unsupported type: <class 'pandas.core.indexes.base.Index'>",
     "output_type": "error",
     "traceback": [
      "\u001b[1;31m---------------------------------------------------------------------------\u001b[0m",
      "\u001b[1;31mTypeError\u001b[0m                                 Traceback (most recent call last)",
      "\u001b[1;32m<ipython-input-100-2c8356dcb788>\u001b[0m in \u001b[0;36m<module>\u001b[1;34m\u001b[0m\n\u001b[1;32m----> 1\u001b[1;33m \u001b[0mdf\u001b[0m\u001b[1;33m.\u001b[0m\u001b[0mprice\u001b[0m\u001b[1;33m.\u001b[0m\u001b[0mcorr\u001b[0m\u001b[1;33m(\u001b[0m\u001b[0mdf\u001b[0m\u001b[1;33m.\u001b[0m\u001b[0mcolumns\u001b[0m\u001b[1;33m)\u001b[0m\u001b[1;33m\u001b[0m\u001b[1;33m\u001b[0m\u001b[0m\n\u001b[0m",
      "\u001b[1;32m~\\anaconda3\\lib\\site-packages\\pandas\\core\\series.py\u001b[0m in \u001b[0;36mcorr\u001b[1;34m(self, other, method, min_periods)\u001b[0m\n\u001b[0;32m   2320\u001b[0m         \u001b[1;36m0.3\u001b[0m\u001b[1;33m\u001b[0m\u001b[1;33m\u001b[0m\u001b[0m\n\u001b[0;32m   2321\u001b[0m         \"\"\"\n\u001b[1;32m-> 2322\u001b[1;33m         \u001b[0mthis\u001b[0m\u001b[1;33m,\u001b[0m \u001b[0mother\u001b[0m \u001b[1;33m=\u001b[0m \u001b[0mself\u001b[0m\u001b[1;33m.\u001b[0m\u001b[0malign\u001b[0m\u001b[1;33m(\u001b[0m\u001b[0mother\u001b[0m\u001b[1;33m,\u001b[0m \u001b[0mjoin\u001b[0m\u001b[1;33m=\u001b[0m\u001b[1;34m\"inner\"\u001b[0m\u001b[1;33m,\u001b[0m \u001b[0mcopy\u001b[0m\u001b[1;33m=\u001b[0m\u001b[1;32mFalse\u001b[0m\u001b[1;33m)\u001b[0m\u001b[1;33m\u001b[0m\u001b[1;33m\u001b[0m\u001b[0m\n\u001b[0m\u001b[0;32m   2323\u001b[0m         \u001b[1;32mif\u001b[0m \u001b[0mlen\u001b[0m\u001b[1;33m(\u001b[0m\u001b[0mthis\u001b[0m\u001b[1;33m)\u001b[0m \u001b[1;33m==\u001b[0m \u001b[1;36m0\u001b[0m\u001b[1;33m:\u001b[0m\u001b[1;33m\u001b[0m\u001b[1;33m\u001b[0m\u001b[0m\n\u001b[0;32m   2324\u001b[0m             \u001b[1;32mreturn\u001b[0m \u001b[0mnp\u001b[0m\u001b[1;33m.\u001b[0m\u001b[0mnan\u001b[0m\u001b[1;33m\u001b[0m\u001b[1;33m\u001b[0m\u001b[0m\n",
      "\u001b[1;32m~\\anaconda3\\lib\\site-packages\\pandas\\core\\series.py\u001b[0m in \u001b[0;36malign\u001b[1;34m(self, other, join, axis, level, copy, fill_value, method, limit, fill_axis, broadcast_axis)\u001b[0m\n\u001b[0;32m   4218\u001b[0m         \u001b[0mbroadcast_axis\u001b[0m\u001b[1;33m=\u001b[0m\u001b[1;32mNone\u001b[0m\u001b[1;33m,\u001b[0m\u001b[1;33m\u001b[0m\u001b[1;33m\u001b[0m\u001b[0m\n\u001b[0;32m   4219\u001b[0m     ):\n\u001b[1;32m-> 4220\u001b[1;33m         return super().align(\n\u001b[0m\u001b[0;32m   4221\u001b[0m             \u001b[0mother\u001b[0m\u001b[1;33m,\u001b[0m\u001b[1;33m\u001b[0m\u001b[1;33m\u001b[0m\u001b[0m\n\u001b[0;32m   4222\u001b[0m             \u001b[0mjoin\u001b[0m\u001b[1;33m=\u001b[0m\u001b[0mjoin\u001b[0m\u001b[1;33m,\u001b[0m\u001b[1;33m\u001b[0m\u001b[1;33m\u001b[0m\u001b[0m\n",
      "\u001b[1;32m~\\anaconda3\\lib\\site-packages\\pandas\\core\\generic.py\u001b[0m in \u001b[0;36malign\u001b[1;34m(self, other, join, axis, level, copy, fill_value, method, limit, fill_axis, broadcast_axis)\u001b[0m\n\u001b[0;32m   8835\u001b[0m             )\n\u001b[0;32m   8836\u001b[0m         \u001b[1;32melse\u001b[0m\u001b[1;33m:\u001b[0m  \u001b[1;31m# pragma: no cover\u001b[0m\u001b[1;33m\u001b[0m\u001b[1;33m\u001b[0m\u001b[0m\n\u001b[1;32m-> 8837\u001b[1;33m             \u001b[1;32mraise\u001b[0m \u001b[0mTypeError\u001b[0m\u001b[1;33m(\u001b[0m\u001b[1;34mf\"unsupported type: {type(other)}\"\u001b[0m\u001b[1;33m)\u001b[0m\u001b[1;33m\u001b[0m\u001b[1;33m\u001b[0m\u001b[0m\n\u001b[0m\u001b[0;32m   8838\u001b[0m \u001b[1;33m\u001b[0m\u001b[0m\n\u001b[0;32m   8839\u001b[0m     \u001b[1;33m@\u001b[0m\u001b[0mfinal\u001b[0m\u001b[1;33m\u001b[0m\u001b[1;33m\u001b[0m\u001b[0m\n",
      "\u001b[1;31mTypeError\u001b[0m: unsupported type: <class 'pandas.core.indexes.base.Index'>"
     ]
    }
   ],
   "source": [
    "df.price.corr(df.columns)"
   ]
  },
  {
   "cell_type": "code",
   "execution_count": 101,
   "id": "66c84246",
   "metadata": {},
   "outputs": [
    {
     "data": {
      "text/plain": [
       "Index(['make_model', 'body_type', 'price', 'vat', 'km', 'Type', 'Fuel', 'Gears', 'age', 'Previous_Owners', 'hp_kW', 'Inspection_new', 'Paint_Type', 'Upholstery_type', 'Gearing_Type', 'Displacement_cc', 'Weight_kg', 'Drive_chain', 'cons_comb'], dtype='object')"
      ]
     },
     "execution_count": 101,
     "metadata": {},
     "output_type": "execute_result"
    }
   ],
   "source": [
    "df.columns"
   ]
  },
  {
   "cell_type": "code",
   "execution_count": 125,
   "id": "cc63c94b",
   "metadata": {},
   "outputs": [
    {
     "name": "stdout",
     "output_type": "stream",
     "text": [
      "price  :  1.0\n",
      "km  :  -0.4\n",
      "Gears  :  0.53\n",
      "age  :  -0.47\n",
      "Previous_Owners  :  -0.14\n",
      "hp_kW  :  0.7\n",
      "Inspection_new  :  0.01\n",
      "Displacement_cc  :  0.28\n",
      "Weight_kg  :  0.47\n",
      "cons_comb  :  0.27\n"
     ]
    }
   ],
   "source": [
    "for i in df.select_dtypes(['int64','float64']).columns:\n",
    "        corr_i = df['price'].corr(df[i])\n",
    "        print(i, \" : \",round(corr_i,2))\n",
    "    "
   ]
  },
  {
   "cell_type": "code",
   "execution_count": 115,
   "id": "7d5faff2",
   "metadata": {},
   "outputs": [
    {
     "data": {
      "text/plain": [
       "dtype('int64')"
      ]
     },
     "execution_count": 115,
     "metadata": {},
     "output_type": "execute_result"
    }
   ],
   "source": [
    "df.price.dtype"
   ]
  },
  {
   "cell_type": "code",
   "execution_count": null,
   "id": "86e7f042",
   "metadata": {},
   "outputs": [],
   "source": []
  },
  {
   "cell_type": "code",
   "execution_count": null,
   "id": "e5def2e8",
   "metadata": {},
   "outputs": [],
   "source": []
  },
  {
   "cell_type": "code",
   "execution_count": null,
   "id": "e3f97e9b",
   "metadata": {},
   "outputs": [],
   "source": []
  },
  {
   "cell_type": "code",
   "execution_count": null,
   "id": "44c65418",
   "metadata": {},
   "outputs": [],
   "source": []
  },
  {
   "cell_type": "code",
   "execution_count": null,
   "id": "83db7202",
   "metadata": {},
   "outputs": [],
   "source": []
  },
  {
   "cell_type": "code",
   "execution_count": null,
   "id": "4d56babf",
   "metadata": {},
   "outputs": [],
   "source": []
  },
  {
   "cell_type": "code",
   "execution_count": null,
   "id": "cd539283",
   "metadata": {},
   "outputs": [],
   "source": []
  },
  {
   "cell_type": "code",
   "execution_count": null,
   "id": "a9d39379",
   "metadata": {},
   "outputs": [],
   "source": []
  },
  {
   "cell_type": "code",
   "execution_count": null,
   "id": "d2bdba2b",
   "metadata": {},
   "outputs": [],
   "source": []
  },
  {
   "cell_type": "code",
   "execution_count": null,
   "id": "796658d4",
   "metadata": {},
   "outputs": [],
   "source": []
  },
  {
   "cell_type": "code",
   "execution_count": null,
   "id": "12383974",
   "metadata": {},
   "outputs": [],
   "source": []
  },
  {
   "cell_type": "code",
   "execution_count": null,
   "id": "daa28d04",
   "metadata": {},
   "outputs": [],
   "source": []
  },
  {
   "cell_type": "code",
   "execution_count": null,
   "id": "dcfd27ed",
   "metadata": {},
   "outputs": [],
   "source": []
  },
  {
   "cell_type": "code",
   "execution_count": null,
   "id": "764c42d7",
   "metadata": {},
   "outputs": [],
   "source": []
  },
  {
   "cell_type": "code",
   "execution_count": null,
   "id": "aa1eb8ad",
   "metadata": {},
   "outputs": [],
   "source": []
  },
  {
   "cell_type": "code",
   "execution_count": null,
   "id": "94d02dd6",
   "metadata": {},
   "outputs": [],
   "source": []
  },
  {
   "cell_type": "code",
   "execution_count": null,
   "id": "93e444fd",
   "metadata": {},
   "outputs": [],
   "source": []
  },
  {
   "cell_type": "code",
   "execution_count": null,
   "id": "7296fd7e",
   "metadata": {},
   "outputs": [],
   "source": []
  },
  {
   "cell_type": "code",
   "execution_count": null,
   "id": "b9c26546",
   "metadata": {},
   "outputs": [],
   "source": []
  },
  {
   "cell_type": "code",
   "execution_count": null,
   "id": "6f2f9c7d",
   "metadata": {},
   "outputs": [],
   "source": []
  },
  {
   "cell_type": "code",
   "execution_count": null,
   "id": "3ffdf5e1",
   "metadata": {},
   "outputs": [],
   "source": []
  },
  {
   "cell_type": "code",
   "execution_count": null,
   "id": "5221f2eb",
   "metadata": {},
   "outputs": [],
   "source": []
  },
  {
   "cell_type": "code",
   "execution_count": null,
   "id": "58794b84",
   "metadata": {},
   "outputs": [],
   "source": []
  },
  {
   "cell_type": "code",
   "execution_count": null,
   "id": "28809dc6",
   "metadata": {},
   "outputs": [],
   "source": []
  },
  {
   "cell_type": "code",
   "execution_count": null,
   "id": "90e034b9",
   "metadata": {},
   "outputs": [],
   "source": []
  }
 ],
 "metadata": {
  "kernelspec": {
   "display_name": "Python 3",
   "language": "python",
   "name": "python3"
  },
  "language_info": {
   "codemirror_mode": {
    "name": "ipython",
    "version": 3
   },
   "file_extension": ".py",
   "mimetype": "text/x-python",
   "name": "python",
   "nbconvert_exporter": "python",
   "pygments_lexer": "ipython3",
   "version": "3.8.8"
  }
 },
 "nbformat": 4,
 "nbformat_minor": 5
}
